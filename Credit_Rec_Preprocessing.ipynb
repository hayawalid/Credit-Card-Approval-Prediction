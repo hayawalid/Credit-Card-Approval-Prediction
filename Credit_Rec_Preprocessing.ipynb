{
 "cells": [
  {
   "cell_type": "code",
   "execution_count": 3,
   "metadata": {
    "ExecuteTime": {
     "end_time": "2024-12-25T23:28:01.230035Z",
     "start_time": "2024-12-25T23:28:01.228519Z"
    }
   },
   "outputs": [],
   "source": [
    "import pandas as pd\n",
    "import numpy as np\n",
    "import seaborn as sns\n",
    "import matplotlib.pyplot as plt"
   ]
  },
  {
   "cell_type": "code",
   "execution_count": 2,
   "metadata": {
    "ExecuteTime": {
     "end_time": "2024-12-25T23:28:02.765960Z",
     "start_time": "2024-12-25T23:28:02.634448Z"
    }
   },
   "outputs": [],
   "source": [
    "credit_record = pd.read_csv('data/credit_record.csv')"
   ]
  },
  {
   "cell_type": "code",
   "execution_count": 3,
   "metadata": {
    "ExecuteTime": {
     "end_time": "2024-12-25T23:28:03.867716Z",
     "start_time": "2024-12-25T23:28:03.859840Z"
    }
   },
   "outputs": [
    {
     "data": {
      "text/html": [
       "<div>\n",
       "<style scoped>\n",
       "    .dataframe tbody tr th:only-of-type {\n",
       "        vertical-align: middle;\n",
       "    }\n",
       "\n",
       "    .dataframe tbody tr th {\n",
       "        vertical-align: top;\n",
       "    }\n",
       "\n",
       "    .dataframe thead th {\n",
       "        text-align: right;\n",
       "    }\n",
       "</style>\n",
       "<table border=\"1\" class=\"dataframe\">\n",
       "  <thead>\n",
       "    <tr style=\"text-align: right;\">\n",
       "      <th></th>\n",
       "      <th>ID</th>\n",
       "      <th>MONTHS_BALANCE</th>\n",
       "      <th>STATUS</th>\n",
       "    </tr>\n",
       "  </thead>\n",
       "  <tbody>\n",
       "    <tr>\n",
       "      <th>0</th>\n",
       "      <td>5001711</td>\n",
       "      <td>0</td>\n",
       "      <td>X</td>\n",
       "    </tr>\n",
       "    <tr>\n",
       "      <th>1</th>\n",
       "      <td>5001711</td>\n",
       "      <td>-1</td>\n",
       "      <td>0</td>\n",
       "    </tr>\n",
       "    <tr>\n",
       "      <th>2</th>\n",
       "      <td>5001711</td>\n",
       "      <td>-2</td>\n",
       "      <td>0</td>\n",
       "    </tr>\n",
       "    <tr>\n",
       "      <th>3</th>\n",
       "      <td>5001711</td>\n",
       "      <td>-3</td>\n",
       "      <td>0</td>\n",
       "    </tr>\n",
       "    <tr>\n",
       "      <th>4</th>\n",
       "      <td>5001712</td>\n",
       "      <td>0</td>\n",
       "      <td>C</td>\n",
       "    </tr>\n",
       "  </tbody>\n",
       "</table>\n",
       "</div>"
      ],
      "text/plain": [
       "        ID  MONTHS_BALANCE STATUS\n",
       "0  5001711               0      X\n",
       "1  5001711              -1      0\n",
       "2  5001711              -2      0\n",
       "3  5001711              -3      0\n",
       "4  5001712               0      C"
      ]
     },
     "execution_count": 3,
     "metadata": {},
     "output_type": "execute_result"
    }
   ],
   "source": [
    "#head\n",
    "credit_record.head()"
   ]
  },
  {
   "cell_type": "code",
   "execution_count": 4,
   "metadata": {
    "ExecuteTime": {
     "end_time": "2024-12-25T23:28:07.832402Z",
     "start_time": "2024-12-25T23:28:07.825716Z"
    }
   },
   "outputs": [
    {
     "data": {
      "text/html": [
       "<div>\n",
       "<style scoped>\n",
       "    .dataframe tbody tr th:only-of-type {\n",
       "        vertical-align: middle;\n",
       "    }\n",
       "\n",
       "    .dataframe tbody tr th {\n",
       "        vertical-align: top;\n",
       "    }\n",
       "\n",
       "    .dataframe thead th {\n",
       "        text-align: right;\n",
       "    }\n",
       "</style>\n",
       "<table border=\"1\" class=\"dataframe\">\n",
       "  <thead>\n",
       "    <tr style=\"text-align: right;\">\n",
       "      <th></th>\n",
       "      <th>ID</th>\n",
       "      <th>MONTHS_BALANCE</th>\n",
       "      <th>STATUS</th>\n",
       "    </tr>\n",
       "  </thead>\n",
       "  <tbody>\n",
       "    <tr>\n",
       "      <th>1048570</th>\n",
       "      <td>5150487</td>\n",
       "      <td>-25</td>\n",
       "      <td>C</td>\n",
       "    </tr>\n",
       "    <tr>\n",
       "      <th>1048571</th>\n",
       "      <td>5150487</td>\n",
       "      <td>-26</td>\n",
       "      <td>C</td>\n",
       "    </tr>\n",
       "    <tr>\n",
       "      <th>1048572</th>\n",
       "      <td>5150487</td>\n",
       "      <td>-27</td>\n",
       "      <td>C</td>\n",
       "    </tr>\n",
       "    <tr>\n",
       "      <th>1048573</th>\n",
       "      <td>5150487</td>\n",
       "      <td>-28</td>\n",
       "      <td>C</td>\n",
       "    </tr>\n",
       "    <tr>\n",
       "      <th>1048574</th>\n",
       "      <td>5150487</td>\n",
       "      <td>-29</td>\n",
       "      <td>C</td>\n",
       "    </tr>\n",
       "  </tbody>\n",
       "</table>\n",
       "</div>"
      ],
      "text/plain": [
       "              ID  MONTHS_BALANCE STATUS\n",
       "1048570  5150487             -25      C\n",
       "1048571  5150487             -26      C\n",
       "1048572  5150487             -27      C\n",
       "1048573  5150487             -28      C\n",
       "1048574  5150487             -29      C"
      ]
     },
     "execution_count": 4,
     "metadata": {},
     "output_type": "execute_result"
    }
   ],
   "source": [
    "credit_record.tail()"
   ]
  },
  {
   "cell_type": "code",
   "execution_count": 5,
   "metadata": {
    "ExecuteTime": {
     "end_time": "2024-12-25T23:28:09.802316Z",
     "start_time": "2024-12-25T23:28:09.799325Z"
    }
   },
   "outputs": [
    {
     "data": {
      "text/plain": [
       "(1048575, 3)"
      ]
     },
     "execution_count": 5,
     "metadata": {},
     "output_type": "execute_result"
    }
   ],
   "source": [
    "credit_record.shape"
   ]
  },
  {
   "cell_type": "code",
   "execution_count": 6,
   "metadata": {
    "ExecuteTime": {
     "end_time": "2024-12-25T23:28:11.216711Z",
     "start_time": "2024-12-25T23:28:11.169247Z"
    }
   },
   "outputs": [
    {
     "name": "stdout",
     "output_type": "stream",
     "text": [
      "<class 'pandas.core.frame.DataFrame'>\n",
      "RangeIndex: 1048575 entries, 0 to 1048574\n",
      "Data columns (total 3 columns):\n",
      " #   Column          Non-Null Count    Dtype \n",
      "---  ------          --------------    ----- \n",
      " 0   ID              1048575 non-null  int64 \n",
      " 1   MONTHS_BALANCE  1048575 non-null  int64 \n",
      " 2   STATUS          1048575 non-null  object\n",
      "dtypes: int64(2), object(1)\n",
      "memory usage: 24.0+ MB\n"
     ]
    }
   ],
   "source": [
    "credit_record.info()"
   ]
  },
  {
   "cell_type": "code",
   "execution_count": 7,
   "metadata": {
    "ExecuteTime": {
     "end_time": "2024-12-25T23:28:14.953591Z",
     "start_time": "2024-12-25T23:28:14.911202Z"
    }
   },
   "outputs": [
    {
     "data": {
      "text/plain": [
       "ID                0\n",
       "MONTHS_BALANCE    0\n",
       "STATUS            0\n",
       "dtype: int64"
      ]
     },
     "execution_count": 7,
     "metadata": {},
     "output_type": "execute_result"
    }
   ],
   "source": [
    "credit_record.isnull().sum()"
   ]
  },
  {
   "cell_type": "code",
   "execution_count": 8,
   "metadata": {
    "ExecuteTime": {
     "end_time": "2024-12-25T23:28:19.125504Z",
     "start_time": "2024-12-25T23:28:19.082398Z"
    }
   },
   "outputs": [
    {
     "data": {
      "text/plain": [
       "ID                0.0\n",
       "MONTHS_BALANCE    0.0\n",
       "STATUS            0.0\n",
       "dtype: float64"
      ]
     },
     "execution_count": 8,
     "metadata": {},
     "output_type": "execute_result"
    }
   ],
   "source": [
    "(credit_record.isnull().sum()/credit_record.shape[0])*100"
   ]
  },
  {
   "cell_type": "code",
   "execution_count": 9,
   "metadata": {
    "ExecuteTime": {
     "end_time": "2024-12-25T23:28:20.896171Z",
     "start_time": "2024-12-25T23:28:20.876965Z"
    }
   },
   "outputs": [
    {
     "name": "stdout",
     "output_type": "stream",
     "text": [
      "Garbage values in STATUS column:\n",
      " Empty DataFrame\n",
      "Columns: [ID, MONTHS_BALANCE, STATUS]\n",
      "Index: []\n"
     ]
    }
   ],
   "source": [
    "valid_status_values = ['C', 'X', '0', '1', '2', '3', '4', '5']\n",
    "garbage_status = credit_record[~credit_record['STATUS'].isin(valid_status_values)]\n",
    "print(\"Garbage values in STATUS column:\\n\", garbage_status)"
   ]
  },
  {
   "cell_type": "code",
   "execution_count": 10,
   "metadata": {
    "ExecuteTime": {
     "end_time": "2024-12-25T23:28:23.026567Z",
     "start_time": "2024-12-25T23:28:22.977250Z"
    }
   },
   "outputs": [
    {
     "name": "stdout",
     "output_type": "stream",
     "text": [
      "ID                45985\n",
      "MONTHS_BALANCE       61\n",
      "STATUS                8\n",
      "dtype: int64\n"
     ]
    }
   ],
   "source": [
    "unique_counts = credit_record.nunique()\n",
    "print(unique_counts)"
   ]
  },
  {
   "cell_type": "code",
   "execution_count": 11,
   "metadata": {
    "ExecuteTime": {
     "end_time": "2024-12-25T23:28:24.954428Z",
     "start_time": "2024-12-25T23:28:24.921449Z"
    }
   },
   "outputs": [
    {
     "name": "stdout",
     "output_type": "stream",
     "text": [
      "              ID  MONTHS_BALANCE STATUS\n",
      "0        5001711               0      X\n",
      "1        5001711              -1      0\n",
      "2        5001711              -2      0\n",
      "3        5001711              -3      0\n",
      "4        5001712               0      C\n",
      "...          ...             ...    ...\n",
      "1048570  5150487             -25      C\n",
      "1048571  5150487             -26      C\n",
      "1048572  5150487             -27      C\n",
      "1048573  5150487             -28      C\n",
      "1048574  5150487             -29      C\n",
      "\n",
      "[1048176 rows x 3 columns]\n"
     ]
    }
   ],
   "source": [
    "duplicates = credit_record[credit_record.duplicated(subset=['ID'], keep=False)]\n",
    "print(duplicates)"
   ]
  },
  {
   "cell_type": "code",
   "execution_count": 12,
   "metadata": {
    "ExecuteTime": {
     "end_time": "2024-12-25T23:28:29.025694Z",
     "start_time": "2024-12-25T23:28:27.203136Z"
    }
   },
   "outputs": [],
   "source": [
    "def aggregate_columns(column):\n",
    "    if column.dtype == 'O': \n",
    "        return column.mode().iloc[0]  \n",
    "    else:  \n",
    "        return column.mean()  \n",
    "credit_record = credit_record.groupby('ID').agg(aggregate_columns).reset_index()"
   ]
  },
  {
   "cell_type": "code",
   "execution_count": 14,
   "metadata": {
    "ExecuteTime": {
     "end_time": "2024-12-25T23:28:33.005396Z",
     "start_time": "2024-12-25T23:28:32.999003Z"
    }
   },
   "outputs": [
    {
     "name": "stdout",
     "output_type": "stream",
     "text": [
      "Empty DataFrame\n",
      "Columns: [ID, MONTHS_BALANCE, STATUS]\n",
      "Index: []\n"
     ]
    }
   ],
   "source": [
    "duplicates = credit_record[credit_record.duplicated(subset=['ID'], keep=False)]\n",
    "print(duplicates)"
   ]
  },
  {
   "cell_type": "code",
   "execution_count": 99,
   "metadata": {},
   "outputs": [
    {
     "name": "stdout",
     "output_type": "stream",
     "text": [
      "            ID  MONTHS_BALANCE STATUS\n",
      "0      5001711            -1.5      0\n",
      "1      5001712            -9.0      0\n",
      "2      5001713           -10.5      X\n",
      "3      5001714            -7.0      X\n",
      "4      5001715           -29.5      X\n",
      "...        ...             ...    ...\n",
      "45980  5150482           -19.5      0\n",
      "45981  5150483            -8.5      X\n",
      "45982  5150484            -6.0      0\n",
      "45983  5150485            -0.5      0\n",
      "45984  5150487           -14.5      C\n",
      "\n",
      "[45985 rows x 3 columns]\n"
     ]
    }
   ],
   "source": [
    "print(credit_record)"
   ]
  },
  {
   "cell_type": "code",
   "execution_count": 15,
   "metadata": {
    "ExecuteTime": {
     "end_time": "2024-12-25T23:28:34.776042Z",
     "start_time": "2024-12-25T23:28:34.767310Z"
    }
   },
   "outputs": [
    {
     "name": "stdout",
     "output_type": "stream",
     "text": [
      "            ID  MONTHS_BALANCE  STATUS\n",
      "0      5001711            -1.5       1\n",
      "1      5001712            -9.0       1\n",
      "2      5001713           -10.5       0\n",
      "3      5001714            -7.0       0\n",
      "4      5001715           -29.5       0\n",
      "...        ...             ...     ...\n",
      "45980  5150482           -19.5       1\n",
      "45981  5150483            -8.5       0\n",
      "45982  5150484            -6.0       1\n",
      "45983  5150485            -0.5       1\n",
      "45984  5150487           -14.5       0\n",
      "\n",
      "[45985 rows x 3 columns]\n"
     ]
    }
   ],
   "source": [
    "status_mapping = {\n",
    "    'C': 0,  # Approved\n",
    "    'X': 0,  # Approved\n",
    "    '0': 1,  # Not Approved\n",
    "    '1': 1,  # Not Approved\n",
    "    '2': 1,  # Not Approved\n",
    "    '3': 1,  # Not Approved\n",
    "    '4': 1,  # Not Approved\n",
    "    '5': 1   # Not Approved\n",
    "}\n",
    "\n",
    "# Apply the mapping to the STATUS column\n",
    "credit_record['STATUS'] = credit_record['STATUS'].map(status_mapping)\n",
    "\n",
    "print(credit_record)\n"
   ]
  },
  {
   "cell_type": "code",
   "execution_count": 16,
   "metadata": {
    "ExecuteTime": {
     "end_time": "2024-12-25T23:28:38.423292Z",
     "start_time": "2024-12-25T23:28:38.416246Z"
    }
   },
   "outputs": [
    {
     "name": "stdout",
     "output_type": "stream",
     "text": [
      "            ID  STATUS\n",
      "0      5001711       1\n",
      "1      5001712       1\n",
      "2      5001713       0\n",
      "3      5001714       0\n",
      "4      5001715       0\n",
      "...        ...     ...\n",
      "45980  5150482       1\n",
      "45981  5150483       0\n",
      "45982  5150484       1\n",
      "45983  5150485       1\n",
      "45984  5150487       0\n",
      "\n",
      "[45985 rows x 2 columns]\n"
     ]
    }
   ],
   "source": [
    "credit_record = credit_record.drop(columns=['MONTHS_BALANCE'], errors='ignore')\n",
    "\n",
    "print(credit_record)"
   ]
  },
  {
   "cell_type": "code",
   "execution_count": 17,
   "metadata": {
    "ExecuteTime": {
     "end_time": "2024-12-25T23:28:41.032779Z",
     "start_time": "2024-12-25T23:28:40.993175Z"
    }
   },
   "outputs": [],
   "source": [
    "credit_record.to_csv('data/credit_record_cleaned.csv', index=False)"
   ]
  }
 ],
 "metadata": {
  "kernelspec": {
   "display_name": "venv",
   "language": "python",
   "name": "python3"
  },
  "language_info": {
   "codemirror_mode": {
    "name": "ipython",
    "version": 3
   },
   "file_extension": ".py",
   "mimetype": "text/x-python",
   "name": "python",
   "nbconvert_exporter": "python",
   "pygments_lexer": "ipython3",
   "version": "3.13.1"
  }
 },
 "nbformat": 4,
 "nbformat_minor": 2
}
