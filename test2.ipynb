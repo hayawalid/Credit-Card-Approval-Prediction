{
 "cells": [
  {
   "metadata": {
    "ExecuteTime": {
     "end_time": "2024-12-26T14:20:12.723055Z",
     "start_time": "2024-12-26T14:20:11.355118Z"
    }
   },
   "cell_type": "code",
   "source": [
    "# Import Libraries\n",
    "import pandas as pd\n",
    "import numpy as np\n",
    "from sklearn.preprocessing import LabelEncoder, StandardScaler\n",
    "from sklearn.model_selection import train_test_split\n",
    "from sklearn.tree import DecisionTreeClassifier\n",
    "from sklearn.neighbors import KNeighborsClassifier\n",
    "from sklearn.neural_network import MLPClassifier\n",
    "from sklearn.metrics import accuracy_score\n",
    "from sklearn.model_selection import GridSearchCV\n",
    "from deap import base, creator, tools, algorithms\n",
    "application_df = pd.read_csv('data/application_record.csv')\n",
    "credit_record_df = pd.read_csv('data/credit_record.csv')"
   ],
   "id": "3248b979880056e1",
   "outputs": [],
   "execution_count": 1
  },
  {
   "metadata": {
    "ExecuteTime": {
     "end_time": "2024-12-26T14:20:13.113230Z",
     "start_time": "2024-12-26T14:20:12.727203Z"
    }
   },
   "cell_type": "code",
   "source": [
    "print(application_df.isnull().sum())\n",
    "print(credit_record_df.isnull().sum())\n",
    "\n",
    "# Drop Duplicates\n",
    "application_df = application_df.drop_duplicates()\n",
    "credit_record_df = credit_record_df.drop_duplicates()\n",
    "\n",
    "# Drop Unnecessary Columns due to lack of impact\n",
    "if 'FLAG_MOBIL' in application_df.columns:\n",
    "    # Drop Unnecessary Columns due to lack of impact\n",
    "    application_df = application_df.drop(columns=['FLAG_MOBIL'])\n",
    "else:\n",
    "    print(\"FLAG_MOBIL has been already dropped\")"
   ],
   "id": "f9fe86883cf464ae",
   "outputs": [
    {
     "name": "stdout",
     "output_type": "stream",
     "text": [
      "ID                          0\n",
      "CODE_GENDER                 0\n",
      "FLAG_OWN_CAR                0\n",
      "FLAG_OWN_REALTY             0\n",
      "CNT_CHILDREN                0\n",
      "AMT_INCOME_TOTAL            0\n",
      "NAME_INCOME_TYPE            0\n",
      "NAME_EDUCATION_TYPE         0\n",
      "NAME_FAMILY_STATUS          0\n",
      "NAME_HOUSING_TYPE           0\n",
      "DAYS_BIRTH                  0\n",
      "DAYS_EMPLOYED               0\n",
      "FLAG_MOBIL                  0\n",
      "FLAG_WORK_PHONE             0\n",
      "FLAG_PHONE                  0\n",
      "FLAG_EMAIL                  0\n",
      "OCCUPATION_TYPE        134203\n",
      "CNT_FAM_MEMBERS             0\n",
      "dtype: int64\n",
      "ID                0\n",
      "MONTHS_BALANCE    0\n",
      "STATUS            0\n",
      "dtype: int64\n"
     ]
    }
   ],
   "execution_count": 2
  },
  {
   "metadata": {
    "ExecuteTime": {
     "end_time": "2024-12-26T14:20:13.395511Z",
     "start_time": "2024-12-26T14:20:13.237355Z"
    }
   },
   "cell_type": "code",
   "source": "merged_df = pd.merge(application_df, credit_record_df, on='ID', how='inner')\n",
   "id": "cd7bbffe6ca08f98",
   "outputs": [],
   "execution_count": 3
  },
  {
   "metadata": {
    "ExecuteTime": {
     "end_time": "2024-12-26T14:20:13.614048Z",
     "start_time": "2024-12-26T14:20:13.402410Z"
    }
   },
   "cell_type": "code",
   "source": [
    "# Label Encoding\n",
    "encoder = LabelEncoder()\n",
    "for col in ['CODE_GENDER', 'FLAG_OWN_CAR', 'FLAG_OWN_REALTY', 'NAME_INCOME_TYPE']:\n",
    "    merged_df[col] = encoder.fit_transform(merged_df[col])"
   ],
   "id": "2afed4ad9b1b30a5",
   "outputs": [],
   "execution_count": 4
  },
  {
   "metadata": {
    "ExecuteTime": {
     "end_time": "2024-12-26T14:20:13.624167Z",
     "start_time": "2024-12-26T14:20:13.622524Z"
    }
   },
   "cell_type": "code",
   "source": [
    "scaler = StandardScaler()\n",
    "numerical_cols = ['AMT_INCOME_TOTAL', 'AGE', 'YEARS_EMPLOYED']\n"
   ],
   "id": "356eefb85474a213",
   "outputs": [],
   "execution_count": 5
  },
  {
   "metadata": {
    "ExecuteTime": {
     "end_time": "2024-12-26T14:20:13.734738Z",
     "start_time": "2024-12-26T14:20:13.665856Z"
    }
   },
   "cell_type": "code",
   "source": [
    "# Convert DAYS_BIRTH to AGE (in years)\n",
    "merged_df['AGE'] = -merged_df['DAYS_BIRTH'] // 365\n",
    "\n",
    "# Convert DAYS_EMPLOYED to YEARS_EMPLOYED (in years)\n",
    "# Handling anomalies in DAYS_EMPLOYED (e.g., 365243 used as a placeholder for missing values)\n",
    "merged_df['DAYS_EMPLOYED'] = merged_df['DAYS_EMPLOYED'].replace(365243, np.nan)\n",
    "merged_df['YEARS_EMPLOYED'] = -merged_df['DAYS_EMPLOYED'] // 365\n",
    "\n",
    "# Drop the original DAYS_BIRTH and DAYS_EMPLOYED columns if not needed\n",
    "merged_df.drop(['DAYS_BIRTH', 'DAYS_EMPLOYED'], axis=1, inplace=True)"
   ],
   "id": "57921cb34b615137",
   "outputs": [],
   "execution_count": 6
  },
  {
   "metadata": {
    "ExecuteTime": {
     "end_time": "2024-12-26T14:57:13.643157Z",
     "start_time": "2024-12-26T14:57:11.239493Z"
    }
   },
   "cell_type": "code",
   "source": [
    "print(merged_df['STATUS'].value_counts())\n",
    "categorical_columns = ['CODE_GENDER', 'FLAG_OWN_CAR',\n",
    "                     'FLAG_OWN_REALTY', 'NAME_INCOME_TYPE',\n",
    "                     'NAME_EDUCATION_TYPE', 'NAME_FAMILY_STATUS',\n",
    "                     'NAME_HOUSING_TYPE', 'OCCUPATION_TYPE']\n",
    "\n",
    "label_encoders = {}\n",
    "for col in categorical_columns:\n",
    "    le = LabelEncoder()\n",
    "    merged_df[col] = le.fit_transform(merged_df[col])\n",
    "    label_encoders[col] = le\n",
    "merged_df.to_csv('cleaned.csv', index=False)"
   ],
   "id": "c6f41122630717bd",
   "outputs": [
    {
     "name": "stdout",
     "output_type": "stream",
     "text": [
      "STATUS\n",
      "C    329536\n",
      "0    290654\n",
      "X    145950\n",
      "1      8747\n",
      "5      1527\n",
      "2       801\n",
      "3       286\n",
      "4       214\n",
      "Name: count, dtype: int64\n"
     ]
    }
   ],
   "execution_count": 24
  },
  {
   "metadata": {
    "ExecuteTime": {
     "end_time": "2024-12-26T14:49:32.632543Z",
     "start_time": "2024-12-26T14:49:32.622976Z"
    }
   },
   "cell_type": "code",
   "source": [
    "# # Step 3: Data Splitting\n",
    "# X = merged_df.drop(columns=['STATUS'])\n",
    "# y = merged_df['STATUS']\n",
    "# X_train, X_temp, y_train, y_temp = train_test_split(X, y, test_size=0.3, random_state=42)\n",
    "# X_val, X_test, y_val, y_test = train_test_split(X_temp, y_temp, test_size=0.5, random_state=42)\n",
    "#\n"
   ],
   "id": "f8d696979af2d0bb",
   "outputs": [],
   "execution_count": 17
  },
  {
   "metadata": {
    "ExecuteTime": {
     "end_time": "2024-12-26T15:57:36.026921Z",
     "start_time": "2024-12-26T14:57:20.322552Z"
    }
   },
   "cell_type": "code",
   "source": [
    "\n",
    "import numpy as np\n",
    "import pandas as pd\n",
    "from sklearn.model_selection import train_test_split\n",
    "from sklearn.tree import DecisionTreeClassifier\n",
    "from sklearn.metrics import accuracy_score\n",
    "import random\n",
    "\n",
    "data = pd.read_csv(\"cleaned.csv\")\n",
    "\n",
    "\n",
    "#STANDARD GENETIC ALGORITHM\n",
    "# Load the dataset\n",
    "\n",
    "# Assuming the last column is the target variable\n",
    "X = data.drop('STATUS', axis=1)  # Features\n",
    "y = data['STATUS']               # Target\n",
    "\n",
    "# Split the data into train, validation, and test sets\n",
    "X_train, X_temp, y_train, y_temp = train_test_split(X, y, test_size=0.3, random_state=42)\n",
    "X_val, X_test, y_val, y_test = train_test_split(X_temp, y_temp, test_size=0.5, random_state=42)\n",
    "\n",
    "# Parameters for Genetic Algorithm\n",
    "population_size = 20\n",
    "num_generations = 50\n",
    "mutation_rate = 0.1\n",
    "crossover_rate = 0.8\n",
    "\n",
    "# Fitness function: Validation accuracy of Decision Tree\n",
    "def fitness_function(chromosome):\n",
    "    selected_features = [bool(bit) for bit in chromosome]\n",
    "    X_train_selected = X_train.iloc[:, selected_features]\n",
    "    X_val_selected = X_val.iloc[:, selected_features]\n",
    "\n",
    "    if X_train_selected.shape[1] == 0:  # Avoid empty feature sets\n",
    "        return 0\n",
    "\n",
    "    model = DecisionTreeClassifier()\n",
    "    model.fit(X_train_selected, y_train)\n",
    "    predictions = model.predict(X_val_selected)\n",
    "    return accuracy_score(y_val, predictions)\n",
    "\n",
    "# Initialize population\n",
    "population = [np.random.randint(2, size=X.shape[1]).tolist() for _ in range(population_size)]\n",
    "\n",
    "# Genetic Algorithm main loop\n",
    "for generation in range(num_generations):\n",
    "    # Calculate fitness for each individual\n",
    "    fitness_scores = [fitness_function(chromosome) for chromosome in population]\n",
    "\n",
    "    # Select parents based on fitness (roulette wheel selection)\n",
    "    fitness_sum = sum(fitness_scores)\n",
    "    if fitness_sum == 0:\n",
    "        continue\n",
    "    probabilities = [score / fitness_sum for score in fitness_scores]\n",
    "    parents = random.choices(population, probabilities, k=population_size)\n",
    "\n",
    "    # Create next generation\n",
    "    next_generation = []\n",
    "    for i in range(0, population_size, 2):\n",
    "        parent1, parent2 = parents[i], parents[i + 1]\n",
    "\n",
    "        # Crossover\n",
    "        if random.random() < crossover_rate:\n",
    "            crossover_point = random.randint(1, len(parent1) - 1)\n",
    "            child1 = parent1[:crossover_point] + parent2[crossover_point:]\n",
    "            child2 = parent2[:crossover_point] + parent1[crossover_point:]\n",
    "        else:\n",
    "            child1, child2 = parent1, parent2\n",
    "\n",
    "        # Mutation\n",
    "        child1 = [bit if random.random() > mutation_rate else 1 - bit for bit in child1]\n",
    "        child2 = [bit if random.random() > mutation_rate else 1 - bit for bit in child2]\n",
    "\n",
    "        next_generation.extend([child1, child2])\n",
    "\n",
    "    # Elitism: Carry forward the best individual\n",
    "    best_individual = population[np.argmax(fitness_scores)]\n",
    "    next_generation[random.randint(0, population_size - 1)] = best_individual\n",
    "\n",
    "    population = next_generation\n",
    "\n",
    "# Get the best chromosome from the final population\n",
    "fitness_scores = [fitness_function(chromosome) for chromosome in population]\n",
    "best_chromosome = population[np.argmax(fitness_scores)]\n",
    "selected_features = [i for i, bit in enumerate(best_chromosome) if bit == 1]\n",
    "\n",
    "print(\"Selected Features (indices):\", selected_features)\n",
    "print(\"Selected Features (names):\", X.columns[selected_features].tolist())\n",
    "\n",
    "# Evaluate the performance on the test set\n",
    "X_train_selected = X_train.iloc[:, selected_features]\n",
    "X_test_selected = X_test.iloc[:, selected_features]\n",
    "\n",
    "final_model = DecisionTreeClassifier()\n",
    "final_model.fit(X_train_selected, y_train)\n",
    "test_predictions = final_model.predict(X_test_selected)\n",
    "\n",
    "test_accuracy = accuracy_score(y_test, test_predictions)\n",
    "print(\"Test Accuracy with Selected Features:\", test_accuracy)"
   ],
   "id": "1f79812b398633ce",
   "outputs": [
    {
     "name": "stdout",
     "output_type": "stream",
     "text": [
      "Selected Features (indices): [0, 1, 2, 3, 4, 5, 6, 13, 14, 15, 16, 17]\n",
      "Selected Features (names): ['ID', 'CODE_GENDER', 'FLAG_OWN_CAR', 'FLAG_OWN_REALTY', 'CNT_CHILDREN', 'AMT_INCOME_TOTAL', 'NAME_INCOME_TYPE', 'OCCUPATION_TYPE', 'CNT_FAM_MEMBERS', 'MONTHS_BALANCE', 'AGE', 'YEARS_EMPLOYED']\n",
      "Test Accuracy with Selected Features: 0.8606182173532891\n"
     ]
    }
   ],
   "execution_count": 25
  }
 ],
 "metadata": {
  "kernelspec": {
   "display_name": "Python 3",
   "language": "python",
   "name": "python3"
  },
  "language_info": {
   "codemirror_mode": {
    "name": "ipython",
    "version": 2
   },
   "file_extension": ".py",
   "mimetype": "text/x-python",
   "name": "python",
   "nbconvert_exporter": "python",
   "pygments_lexer": "ipython2",
   "version": "2.7.6"
  }
 },
 "nbformat": 4,
 "nbformat_minor": 5
}
