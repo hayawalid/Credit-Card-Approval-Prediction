{
 "cells": [
  {
   "metadata": {
    "ExecuteTime": {
     "end_time": "2024-12-25T23:18:09.142552Z",
     "start_time": "2024-12-25T23:18:08.755433Z"
    }
   },
   "cell_type": "code",
   "source": [
    "import pandas as pd\n",
    "df = pd.read_csv(\"data/application_record.csv\")\n"
   ],
   "id": "a7762d80b9ccfaf1",
   "outputs": [],
   "execution_count": 1
  },
  {
   "metadata": {
    "ExecuteTime": {
     "end_time": "2024-12-25T23:21:05.567074Z",
     "start_time": "2024-12-25T23:21:05.493983Z"
    }
   },
   "cell_type": "code",
   "source": "df.isnull().sum()\n",
   "id": "e8d6cc454931cb4",
   "outputs": [
    {
     "data": {
      "text/plain": [
       "ID                     0\n",
       "CODE_GENDER            0\n",
       "FLAG_OWN_CAR           0\n",
       "FLAG_OWN_REALTY        0\n",
       "CNT_CHILDREN           0\n",
       "AMT_INCOME_TOTAL       0\n",
       "NAME_INCOME_TYPE       0\n",
       "NAME_EDUCATION_TYPE    0\n",
       "NAME_FAMILY_STATUS     0\n",
       "NAME_HOUSING_TYPE      0\n",
       "DAYS_BIRTH             0\n",
       "DAYS_EMPLOYED          0\n",
       "FLAG_MOBIL             0\n",
       "FLAG_WORK_PHONE        0\n",
       "FLAG_PHONE             0\n",
       "FLAG_EMAIL             0\n",
       "OCCUPATION_TYPE        0\n",
       "CNT_FAM_MEMBERS        0\n",
       "dtype: int64"
      ]
     },
     "execution_count": 5,
     "metadata": {},
     "output_type": "execute_result"
    }
   ],
   "execution_count": 5
  },
  {
   "metadata": {
    "ExecuteTime": {
     "end_time": "2024-12-25T23:18:39.483485Z",
     "start_time": "2024-12-25T23:18:39.435667Z"
    }
   },
   "cell_type": "code",
   "source": [
    "import pandas as pd\n",
    "\n",
    "mode_value = df['OCCUPATION_TYPE'].mode()[0]\n",
    "\n",
    "# Replace missing values with the mode\n",
    "df['OCCUPATION_TYPE'].fillna(mode_value, inplace=True)\n",
    "\n",
    "# Verify that missing values have been filled\n",
    "print(df['OCCUPATION_TYPE'].isnull().sum())  # Should print 0 if all missing values are replaced\n"
   ],
   "id": "ac40ea0843443b07",
   "outputs": [
    {
     "name": "stdout",
     "output_type": "stream",
     "text": [
      "0\n"
     ]
    }
   ],
   "execution_count": 3
  },
  {
   "metadata": {
    "ExecuteTime": {
     "end_time": "2024-12-25T23:21:05.452561Z",
     "start_time": "2024-12-25T23:18:48.728017Z"
    }
   },
   "cell_type": "code",
   "source": [
    "import numpy as np\n",
    "\n",
    "def aggregate_columns(column):\n",
    "    if column.dtype == 'O':  # If categorical\n",
    "        # Check if the mode exists\n",
    "        mode = column.mode()\n",
    "        if not mode.empty:\n",
    "            return mode.iloc[0]  # Most frequent value\n",
    "        else:\n",
    "            return None  # Return None if no mode is found\n",
    "    else:  # For numerical columns\n",
    "        return column.mean()  # Use mean\n",
    "\n",
    "df = df.groupby('ID').agg(aggregate_columns).reset_index()\n",
    "print(df)"
   ],
   "id": "1dc6ad0c0b90f8a1",
   "outputs": [
    {
     "name": "stdout",
     "output_type": "stream",
     "text": [
      "             ID CODE_GENDER FLAG_OWN_CAR FLAG_OWN_REALTY  CNT_CHILDREN  \\\n",
      "0       5008804           M            Y               Y           0.0   \n",
      "1       5008805           M            Y               Y           0.0   \n",
      "2       5008806           M            Y               Y           0.0   \n",
      "3       5008808           F            N               Y           0.0   \n",
      "4       5008809           F            N               Y           0.0   \n",
      "...         ...         ...          ...             ...           ...   \n",
      "438505  7999660           F            N               N           0.0   \n",
      "438506  7999696           F            N               Y           2.0   \n",
      "438507  7999738           M            N               Y           0.0   \n",
      "438508  7999784           F            Y               Y           1.0   \n",
      "438509  7999952           F            N               Y           1.0   \n",
      "\n",
      "        AMT_INCOME_TOTAL      NAME_INCOME_TYPE            NAME_EDUCATION_TYPE  \\\n",
      "0               427500.0               Working               Higher education   \n",
      "1               427500.0               Working               Higher education   \n",
      "2               112500.0               Working  Secondary / secondary special   \n",
      "3               270000.0  Commercial associate  Secondary / secondary special   \n",
      "4               270000.0  Commercial associate  Secondary / secondary special   \n",
      "...                  ...                   ...                            ...   \n",
      "438505           90000.0         State servant               Higher education   \n",
      "438506          135000.0         State servant  Secondary / secondary special   \n",
      "438507          180000.0               Working  Secondary / secondary special   \n",
      "438508          180000.0  Commercial associate  Secondary / secondary special   \n",
      "438509          157500.0         State servant               Higher education   \n",
      "\n",
      "          NAME_FAMILY_STATUS  NAME_HOUSING_TYPE  DAYS_BIRTH  DAYS_EMPLOYED  \\\n",
      "0             Civil marriage   Rented apartment    -12005.0        -4542.0   \n",
      "1             Civil marriage   Rented apartment    -12005.0        -4542.0   \n",
      "2                    Married  House / apartment    -21474.0        -1134.0   \n",
      "3       Single / not married  House / apartment    -19110.0        -3051.0   \n",
      "4       Single / not married  House / apartment    -19110.0        -3051.0   \n",
      "...                      ...                ...         ...            ...   \n",
      "438505  Single / not married  House / apartment    -13432.0        -5446.0   \n",
      "438506               Married  House / apartment    -12576.0        -4382.0   \n",
      "438507               Married  House / apartment     -9970.0         -119.0   \n",
      "438508               Married  House / apartment    -10630.0         -454.0   \n",
      "438509               Married  House / apartment    -15859.0        -3679.0   \n",
      "\n",
      "        FLAG_MOBIL  FLAG_WORK_PHONE  FLAG_PHONE  FLAG_EMAIL OCCUPATION_TYPE  \\\n",
      "0              1.0              1.0         0.0         0.0        Laborers   \n",
      "1              1.0              1.0         0.0         0.0        Laborers   \n",
      "2              1.0              0.0         0.0         0.0  Security staff   \n",
      "3              1.0              0.0         1.0         1.0     Sales staff   \n",
      "4              1.0              0.0         1.0         1.0     Sales staff   \n",
      "...            ...              ...         ...         ...             ...   \n",
      "438505         1.0              0.0         0.0         0.0      Core staff   \n",
      "438506         1.0              0.0         0.0         0.0  Medicine staff   \n",
      "438507         1.0              0.0         0.0         0.0        Laborers   \n",
      "438508         1.0              0.0         0.0         0.0        Laborers   \n",
      "438509         1.0              0.0         0.0         0.0      Core staff   \n",
      "\n",
      "        CNT_FAM_MEMBERS  \n",
      "0                   2.0  \n",
      "1                   2.0  \n",
      "2                   2.0  \n",
      "3                   1.0  \n",
      "4                   1.0  \n",
      "...                 ...  \n",
      "438505              1.0  \n",
      "438506              4.0  \n",
      "438507              2.0  \n",
      "438508              3.0  \n",
      "438509              3.0  \n",
      "\n",
      "[438510 rows x 18 columns]\n"
     ]
    }
   ],
   "execution_count": 4
  },
  {
   "metadata": {
    "ExecuteTime": {
     "end_time": "2024-12-25T23:21:51.070855Z",
     "start_time": "2024-12-25T23:21:51.023275Z"
    }
   },
   "cell_type": "code",
   "source": [
    "df.drop(columns=['FLAG_MOBIL'], inplace=True)\n",
    "\n",
    "print(df.columns)"
   ],
   "id": "115c591333bd82a4",
   "outputs": [
    {
     "name": "stdout",
     "output_type": "stream",
     "text": [
      "Index(['ID', 'CODE_GENDER', 'FLAG_OWN_CAR', 'FLAG_OWN_REALTY', 'CNT_CHILDREN',\n",
      "       'AMT_INCOME_TOTAL', 'NAME_INCOME_TYPE', 'NAME_EDUCATION_TYPE',\n",
      "       'NAME_FAMILY_STATUS', 'NAME_HOUSING_TYPE', 'DAYS_BIRTH',\n",
      "       'DAYS_EMPLOYED', 'FLAG_WORK_PHONE', 'FLAG_PHONE', 'FLAG_EMAIL',\n",
      "       'OCCUPATION_TYPE', 'CNT_FAM_MEMBERS'],\n",
      "      dtype='object')\n"
     ]
    }
   ],
   "execution_count": 6
  },
  {
   "metadata": {
    "ExecuteTime": {
     "end_time": "2024-12-25T23:22:08.159255Z",
     "start_time": "2024-12-25T23:22:08.139759Z"
    }
   },
   "cell_type": "code",
   "source": [
    "# Convert negative values in 'DAYS_BIRTH' and 'DAYS_EMPLOYED' to positive values\n",
    "df['DAYS_BIRTH'] = abs(df['DAYS_BIRTH'])\n",
    "df['DAYS_EMPLOYED'] = abs(df['DAYS_EMPLOYED'])\n",
    "\n",
    "# Optionally, if you want to convert days to years (for 'DAYS_BIRTH'):\n",
    "df['AGE'] = df['DAYS_BIRTH'] / 365  # Convert days to years\n",
    "\n",
    "# Optionally, if you want to convert 'DAYS_EMPLOYED' to years:\n",
    "df['EMPLOYMENT_YEARS'] = df['DAYS_EMPLOYED'] / 365  # Convert days to years\n",
    "\n",
    "# Verify changes\n",
    "print(df[['DAYS_BIRTH', 'AGE', 'DAYS_EMPLOYED', 'EMPLOYMENT_YEARS']].tail())\n"
   ],
   "id": "8231bade1c70b51f",
   "outputs": [
    {
     "name": "stdout",
     "output_type": "stream",
     "text": [
      "        DAYS_BIRTH        AGE  DAYS_EMPLOYED  EMPLOYMENT_YEARS\n",
      "438505     13432.0  36.800000         5446.0         14.920548\n",
      "438506     12576.0  34.454795         4382.0         12.005479\n",
      "438507      9970.0  27.315068          119.0          0.326027\n",
      "438508     10630.0  29.123288          454.0          1.243836\n",
      "438509     15859.0  43.449315         3679.0         10.079452\n"
     ]
    }
   ],
   "execution_count": 7
  },
  {
   "metadata": {
    "ExecuteTime": {
     "end_time": "2024-12-25T23:22:30.949313Z",
     "start_time": "2024-12-25T23:22:30.943691Z"
    }
   },
   "cell_type": "code",
   "source": [
    "# Handling extreme negative values (optional)\n",
    "df.loc[df['DAYS_EMPLOYED'] < -10000, 'DAYS_EMPLOYED'] = None  # Mark extreme negative values as missing (e.g., > 10 years)\n"
   ],
   "id": "e6896bf3bac4f10d",
   "outputs": [],
   "execution_count": 8
  },
  {
   "metadata": {
    "ExecuteTime": {
     "end_time": "2024-12-25T23:22:43.336342Z",
     "start_time": "2024-12-25T23:22:43.314622Z"
    }
   },
   "cell_type": "code",
   "source": [
    "import numpy as np\n",
    "\n",
    "# Assuming df is your DataFrame\n",
    "# Ensure that the 'DAYS_BIRTH' and 'DAYS_EMPLOYED' columns are already in the correct format (days)\n",
    "\n",
    "# Convert 'DAYS_BIRTH' to age in years\n",
    "df['AGE'] = abs(df['DAYS_BIRTH']) / 365\n",
    "\n",
    "# Convert 'DAYS_EMPLOYED' to employment years\n",
    "df['EMPLOYMENT_YEARS'] = abs(df['DAYS_EMPLOYED']) / 365\n",
    "\n",
    "# Handle the case where employment years are greater than the person's age minus 18\n",
    "df.loc[df['EMPLOYMENT_YEARS'] > (df['AGE'] - 18), 'EMPLOYMENT_YEARS'] = np.nan  # Replace with NaN if unrealistic\n",
    "\n",
    "# Handle extreme employment years (e.g., more than 100 years of employment)\n",
    "df.loc[df['EMPLOYMENT_YEARS'] > 100, 'EMPLOYMENT_YEARS'] = np.nan  # Replace with NaN for extreme values\n",
    "\n",
    "# Verify the changes\n",
    "print(df[['DAYS_BIRTH', 'AGE', 'DAYS_EMPLOYED', 'EMPLOYMENT_YEARS']].tail())\n"
   ],
   "id": "11f1c49bfe660561",
   "outputs": [
    {
     "name": "stdout",
     "output_type": "stream",
     "text": [
      "        DAYS_BIRTH        AGE  DAYS_EMPLOYED  EMPLOYMENT_YEARS\n",
      "438505     13432.0  36.800000         5446.0         14.920548\n",
      "438506     12576.0  34.454795         4382.0         12.005479\n",
      "438507      9970.0  27.315068          119.0          0.326027\n",
      "438508     10630.0  29.123288          454.0          1.243836\n",
      "438509     15859.0  43.449315         3679.0         10.079452\n"
     ]
    }
   ],
   "execution_count": 9
  },
  {
   "metadata": {
    "ExecuteTime": {
     "end_time": "2024-12-25T23:22:57.818505Z",
     "start_time": "2024-12-25T23:22:57.733034Z"
    }
   },
   "cell_type": "code",
   "source": [
    "from sklearn.preprocessing import MinMaxScaler\n",
    "\n",
    "# Assuming df is your DataFrame and 'AMT_INCOME_TOTAL' is the column to normalize\n",
    "\n",
    "scaler = MinMaxScaler()\n",
    "\n",
    "# Normalize the 'AMT_INCOME_TOTAL' column\n",
    "df['AMT_INCOME_TOTAL'] = scaler.fit_transform(df[['AMT_INCOME_TOTAL']])\n",
    "df['AGE'] = scaler.fit_transform(df[['AGE']])\n",
    "df['EMPLOYMENT_YEARS'] = scaler.fit_transform(df[['EMPLOYMENT_YEARS']])\n",
    "\n",
    "# Verify the result\n",
    "print(df[['AMT_INCOME_TOTAL']].tail())\n"
   ],
   "id": "83116ee29b906658",
   "outputs": [
    {
     "name": "stdout",
     "output_type": "stream",
     "text": [
      "        AMT_INCOME_TOTAL\n",
      "438505          0.009503\n",
      "438506          0.016196\n",
      "438507          0.022889\n",
      "438508          0.022889\n",
      "438509          0.019542\n"
     ]
    }
   ],
   "execution_count": 10
  },
  {
   "metadata": {
    "ExecuteTime": {
     "end_time": "2024-12-25T23:23:17.560881Z",
     "start_time": "2024-12-25T23:23:17.464237Z"
    }
   },
   "cell_type": "code",
   "source": [
    "# Check for missing values\n",
    "print(df.isnull().sum())\n"
   ],
   "id": "7857820197af0410",
   "outputs": [
    {
     "name": "stdout",
     "output_type": "stream",
     "text": [
      "ID                         0\n",
      "CODE_GENDER                0\n",
      "FLAG_OWN_CAR               0\n",
      "FLAG_OWN_REALTY            0\n",
      "CNT_CHILDREN               0\n",
      "AMT_INCOME_TOTAL           0\n",
      "NAME_INCOME_TYPE           0\n",
      "NAME_EDUCATION_TYPE        0\n",
      "NAME_FAMILY_STATUS         0\n",
      "NAME_HOUSING_TYPE          0\n",
      "DAYS_BIRTH                 0\n",
      "DAYS_EMPLOYED              0\n",
      "FLAG_WORK_PHONE            0\n",
      "FLAG_PHONE                 0\n",
      "FLAG_EMAIL                 0\n",
      "OCCUPATION_TYPE            0\n",
      "CNT_FAM_MEMBERS            0\n",
      "AGE                        0\n",
      "EMPLOYMENT_YEARS       75574\n",
      "dtype: int64\n"
     ]
    }
   ],
   "execution_count": 11
  },
  {
   "metadata": {
    "ExecuteTime": {
     "end_time": "2024-12-25T23:23:34.051701Z",
     "start_time": "2024-12-25T23:23:34.022727Z"
    }
   },
   "cell_type": "code",
   "source": [
    "# Get descriptive statistics for the 'EMPLOYMENT_YEARS' column\n",
    "print(df['EMPLOYMENT_YEARS'].describe()) #DATA IS RIGHT SKEWED USE MEDIAN\n"
   ],
   "id": "ce3abd13fc2fe36d",
   "outputs": [
    {
     "name": "stdout",
     "output_type": "stream",
     "text": [
      "count    362936.000000\n",
      "mean          0.148901\n",
      "std           0.136842\n",
      "min           0.000000\n",
      "25%           0.051487\n",
      "50%           0.109082\n",
      "75%           0.199612\n",
      "max           1.000000\n",
      "Name: EMPLOYMENT_YEARS, dtype: float64\n"
     ]
    }
   ],
   "execution_count": 12
  },
  {
   "metadata": {
    "ExecuteTime": {
     "end_time": "2024-12-25T23:23:42.693578Z",
     "start_time": "2024-12-25T23:23:42.681924Z"
    }
   },
   "cell_type": "code",
   "source": "df['EMPLOYMENT_YEARS'] = df['EMPLOYMENT_YEARS'].fillna(df['EMPLOYMENT_YEARS'].median())",
   "id": "c3e1b151155c041a",
   "outputs": [],
   "execution_count": 13
  },
  {
   "metadata": {
    "ExecuteTime": {
     "end_time": "2024-12-25T23:23:51.009645Z",
     "start_time": "2024-12-25T23:23:50.915217Z"
    }
   },
   "cell_type": "code",
   "source": [
    "# Check for missing values\n",
    "print(df.isnull().sum())\n"
   ],
   "id": "ddbb7f9d679fadd8",
   "outputs": [
    {
     "name": "stdout",
     "output_type": "stream",
     "text": [
      "ID                     0\n",
      "CODE_GENDER            0\n",
      "FLAG_OWN_CAR           0\n",
      "FLAG_OWN_REALTY        0\n",
      "CNT_CHILDREN           0\n",
      "AMT_INCOME_TOTAL       0\n",
      "NAME_INCOME_TYPE       0\n",
      "NAME_EDUCATION_TYPE    0\n",
      "NAME_FAMILY_STATUS     0\n",
      "NAME_HOUSING_TYPE      0\n",
      "DAYS_BIRTH             0\n",
      "DAYS_EMPLOYED          0\n",
      "FLAG_WORK_PHONE        0\n",
      "FLAG_PHONE             0\n",
      "FLAG_EMAIL             0\n",
      "OCCUPATION_TYPE        0\n",
      "CNT_FAM_MEMBERS        0\n",
      "AGE                    0\n",
      "EMPLOYMENT_YEARS       0\n",
      "dtype: int64\n"
     ]
    }
   ],
   "execution_count": 14
  },
  {
   "metadata": {
    "ExecuteTime": {
     "end_time": "2024-12-25T23:24:16.064359Z",
     "start_time": "2024-12-25T23:24:16.041563Z"
    }
   },
   "cell_type": "code",
   "source": [
    "# Check the range of numeric features\n",
    "print(df[['AGE', 'AMT_INCOME_TOTAL', 'DAYS_BIRTH']].min())\n",
    "print(df[['AGE', 'AMT_INCOME_TOTAL', 'DAYS_BIRTH']].max())\n"
   ],
   "id": "30b38208e07003d2",
   "outputs": [
    {
     "name": "stdout",
     "output_type": "stream",
     "text": [
      "AGE                    0.0\n",
      "AMT_INCOME_TOTAL       0.0\n",
      "DAYS_BIRTH          7489.0\n",
      "dtype: float64\n",
      "AGE                     1.0\n",
      "AMT_INCOME_TOTAL        1.0\n",
      "DAYS_BIRTH          25201.0\n",
      "dtype: float64\n"
     ]
    }
   ],
   "execution_count": 16
  },
  {
   "metadata": {
    "ExecuteTime": {
     "end_time": "2024-12-25T23:24:37.627772Z",
     "start_time": "2024-12-25T23:24:37.618461Z"
    }
   },
   "cell_type": "code",
   "source": [
    "# Check if new features are correctly created (e.g., 'AGE' or 'EMPLOYMENT_YEARS')\n",
    "print(df[['AGE', 'EMPLOYMENT_YEARS']].head())\n"
   ],
   "id": "cd389fda1f846a75",
   "outputs": [
    {
     "name": "stdout",
     "output_type": "stream",
     "text": [
      "        AGE  EMPLOYMENT_YEARS\n",
      "0  0.254968          0.258576\n",
      "1  0.254968          0.258576\n",
      "2  0.789578          0.064045\n",
      "3  0.656109          0.173469\n",
      "4  0.656109          0.173469\n"
     ]
    }
   ],
   "execution_count": 17
  },
  {
   "metadata": {
    "ExecuteTime": {
     "end_time": "2024-12-25T23:25:02.836010Z",
     "start_time": "2024-12-25T23:25:02.825460Z"
    }
   },
   "cell_type": "code",
   "source": [
    "# Filter rows where AMT_INCOME_TOTAL is 0 or negative\n",
    "invalid_income = df[df['AMT_INCOME_TOTAL'] <= 0]\n",
    "\n",
    "# Display the invalid rows to inspect them\n",
    "print(invalid_income)\n"
   ],
   "id": "30daf740cc5e3490",
   "outputs": [
    {
     "name": "stdout",
     "output_type": "stream",
     "text": [
      "             ID CODE_GENDER FLAG_OWN_CAR FLAG_OWN_REALTY  CNT_CHILDREN  \\\n",
      "238132  6093712           F            N               N           0.0   \n",
      "238133  6093713           F            N               N           0.0   \n",
      "\n",
      "        AMT_INCOME_TOTAL NAME_INCOME_TYPE            NAME_EDUCATION_TYPE  \\\n",
      "238132               0.0        Pensioner  Secondary / secondary special   \n",
      "238133               0.0        Pensioner  Secondary / secondary special   \n",
      "\n",
      "       NAME_FAMILY_STATUS  NAME_HOUSING_TYPE  DAYS_BIRTH  DAYS_EMPLOYED  \\\n",
      "238132            Married  House / apartment     21003.0       365243.0   \n",
      "238133            Married  House / apartment     21003.0       365243.0   \n",
      "\n",
      "        FLAG_WORK_PHONE  FLAG_PHONE  FLAG_EMAIL OCCUPATION_TYPE  \\\n",
      "238132              0.0         0.0         0.0        Laborers   \n",
      "238133              0.0         0.0         0.0        Laborers   \n",
      "\n",
      "        CNT_FAM_MEMBERS       AGE  EMPLOYMENT_YEARS  \n",
      "238132              2.0  0.762986          0.109082  \n",
      "238133              2.0  0.762986          0.109082  \n"
     ]
    }
   ],
   "execution_count": 18
  },
  {
   "metadata": {
    "ExecuteTime": {
     "end_time": "2024-12-25T23:25:12.669308Z",
     "start_time": "2024-12-25T23:25:12.607758Z"
    }
   },
   "cell_type": "code",
   "source": [
    "# Drop rows where AMT_INCOME_TOTAL is 0\n",
    "df = df[df['AMT_INCOME_TOTAL'] != 0]\n",
    "\n",
    "# Check the number of rows remaining\n",
    "print(f\"Number of rows after dropping zero income: {df.shape[0]}\")\n"
   ],
   "id": "5ae3a2b7f2c62c93",
   "outputs": [
    {
     "name": "stdout",
     "output_type": "stream",
     "text": [
      "Number of rows after dropping zero income: 438508\n"
     ]
    }
   ],
   "execution_count": 19
  },
  {
   "metadata": {
    "ExecuteTime": {
     "end_time": "2024-12-25T23:25:25.762593Z",
     "start_time": "2024-12-25T23:25:25.756667Z"
    }
   },
   "cell_type": "code",
   "source": [
    "# Filter rows where AMT_INCOME_TOTAL is 0 or negative\n",
    "invalid_income = df[df['AMT_INCOME_TOTAL'] <= 0]\n",
    "\n",
    "# Display the invalid rows to inspect them\n",
    "print(invalid_income)"
   ],
   "id": "94eee0b28f7b48a5",
   "outputs": [
    {
     "name": "stdout",
     "output_type": "stream",
     "text": [
      "Empty DataFrame\n",
      "Columns: [ID, CODE_GENDER, FLAG_OWN_CAR, FLAG_OWN_REALTY, CNT_CHILDREN, AMT_INCOME_TOTAL, NAME_INCOME_TYPE, NAME_EDUCATION_TYPE, NAME_FAMILY_STATUS, NAME_HOUSING_TYPE, DAYS_BIRTH, DAYS_EMPLOYED, FLAG_WORK_PHONE, FLAG_PHONE, FLAG_EMAIL, OCCUPATION_TYPE, CNT_FAM_MEMBERS, AGE, EMPLOYMENT_YEARS]\n",
      "Index: []\n"
     ]
    }
   ],
   "execution_count": 20
  },
  {
   "metadata": {
    "ExecuteTime": {
     "end_time": "2024-12-25T23:26:09.345400Z",
     "start_time": "2024-12-25T23:26:08.975992Z"
    }
   },
   "cell_type": "code",
   "source": [
    "# Check for duplicates\n",
    "duplicates = df.duplicated().sum()\n",
    "print(f\"Number of duplicate rows: {duplicates}\")\n",
    "\n",
    "# Optionally, remove duplicates\n",
    "df = df.drop_duplicates()\n",
    "# Check for negative or unrealistic values in 'DAYS_BIRTH' (age)\n",
    "print(f\"Negative age values: {df[df['DAYS_BIRTH'] < 0].shape[0]}\")\n",
    "\n",
    "# Check for extreme or unrealistic values in 'DAYS_EMPLOYED'\n",
    "print(f\"Extreme 'DAYS_EMPLOYED' values: {df[df['DAYS_EMPLOYED'] > 365243].shape[0]}\")  # 1000+ years\n",
    "# Check for zero income values\n",
    "zero_income = df[df['AMT_INCOME_TOTAL'] == 0]\n",
    "print(f\"Rows with zero income: {zero_income.shape[0]}\")\n"
   ],
   "id": "1999b5a4946a4e93",
   "outputs": [
    {
     "name": "stdout",
     "output_type": "stream",
     "text": [
      "Number of duplicate rows: 0\n",
      "Negative age values: 0\n",
      "Extreme 'DAYS_EMPLOYED' values: 0\n",
      "Rows with zero income: 0\n"
     ]
    }
   ],
   "execution_count": 23
  },
  {
   "metadata": {
    "ExecuteTime": {
     "end_time": "2024-12-25T23:27:01.639210Z",
     "start_time": "2024-12-25T23:26:59.264057Z"
    }
   },
   "cell_type": "code",
   "source": [
    "df.to_csv('data/application_record_cleaned.csv', index=False)\n",
    "\n",
    "# If you are running in a web-based or GUI framework, implement download functionality accordingly.\n",
    "print(\"File has been saved as 'application_record_cleaned.csv'. You can provide this file for download if needed.\")"
   ],
   "id": "2a948fc087f76c48",
   "outputs": [
    {
     "name": "stdout",
     "output_type": "stream",
     "text": [
      "File has been saved as 'application_record_cleaned.csv'. You can provide this file for download if needed.\n"
     ]
    }
   ],
   "execution_count": 24
  }
 ],
 "metadata": {
  "kernelspec": {
   "display_name": "Python 3",
   "language": "python",
   "name": "python3"
  },
  "language_info": {
   "codemirror_mode": {
    "name": "ipython",
    "version": 2
   },
   "file_extension": ".py",
   "mimetype": "text/x-python",
   "name": "python",
   "nbconvert_exporter": "python",
   "pygments_lexer": "ipython2",
   "version": "2.7.6"
  }
 },
 "nbformat": 4,
 "nbformat_minor": 5
}
