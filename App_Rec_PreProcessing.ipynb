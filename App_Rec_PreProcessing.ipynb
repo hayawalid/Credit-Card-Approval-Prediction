{
 "cells": [
  {
   "cell_type": "code",
   "id": "initial_id",
   "metadata": {
    "collapsed": true,
    "ExecuteTime": {
     "end_time": "2024-12-24T21:28:28.624100Z",
     "start_time": "2024-12-24T21:28:28.245013Z"
    }
   },
   "source": [
    "import pandas as pd\n",
    "df = pd.read_csv(\"data/application_record.csv\")\n"
   ],
   "outputs": [],
   "execution_count": 19
  },
  {
   "metadata": {
    "ExecuteTime": {
     "end_time": "2024-12-24T21:26:08.675204Z",
     "start_time": "2024-12-24T21:26:08.641504Z"
    }
   },
   "cell_type": "code",
   "source": [
    "mode_value = df['OCCUPATION_TYPE'].mode()[0]\n",
    "\n",
    "# Replace missing values with the mode\n",
    "df['OCCUPATION_TYPE'].fillna(mode_value, inplace=True)\n",
    "\n",
    "# Verify that missing values have been filled\n",
    "print(df['OCCUPATION_TYPE'].isnull().sum())  # Should print 0 if all missing values are replaced\n",
    "print (df)"
   ],
   "id": "7cff374858d6c391",
   "outputs": [
    {
     "name": "stdout",
     "output_type": "stream",
     "text": [
      "0\n",
      "             ID CODE_GENDER FLAG_OWN_CAR FLAG_OWN_REALTY  CNT_CHILDREN  \\\n",
      "0       5008804           M            Y               Y             0   \n",
      "1       5008805           M            Y               Y             0   \n",
      "2       5008806           M            Y               Y             0   \n",
      "3       5008808           F            N               Y             0   \n",
      "4       5008809           F            N               Y             0   \n",
      "...         ...         ...          ...             ...           ...   \n",
      "438552  6840104           M            N               Y             0   \n",
      "438553  6840222           F            N               N             0   \n",
      "438554  6841878           F            N               N             0   \n",
      "438555  6842765           F            N               Y             0   \n",
      "438556  6842885           F            N               Y             0   \n",
      "\n",
      "        AMT_INCOME_TOTAL      NAME_INCOME_TYPE            NAME_EDUCATION_TYPE  \\\n",
      "0               427500.0               Working               Higher education   \n",
      "1               427500.0               Working               Higher education   \n",
      "2               112500.0               Working  Secondary / secondary special   \n",
      "3               270000.0  Commercial associate  Secondary / secondary special   \n",
      "4               270000.0  Commercial associate  Secondary / secondary special   \n",
      "...                  ...                   ...                            ...   \n",
      "438552          135000.0             Pensioner  Secondary / secondary special   \n",
      "438553          103500.0               Working  Secondary / secondary special   \n",
      "438554           54000.0  Commercial associate               Higher education   \n",
      "438555           72000.0             Pensioner  Secondary / secondary special   \n",
      "438556          121500.0               Working  Secondary / secondary special   \n",
      "\n",
      "          NAME_FAMILY_STATUS  NAME_HOUSING_TYPE  DAYS_BIRTH  DAYS_EMPLOYED  \\\n",
      "0             Civil marriage   Rented apartment      -12005          -4542   \n",
      "1             Civil marriage   Rented apartment      -12005          -4542   \n",
      "2                    Married  House / apartment      -21474          -1134   \n",
      "3       Single / not married  House / apartment      -19110          -3051   \n",
      "4       Single / not married  House / apartment      -19110          -3051   \n",
      "...                      ...                ...         ...            ...   \n",
      "438552             Separated  House / apartment      -22717         365243   \n",
      "438553  Single / not married  House / apartment      -15939          -3007   \n",
      "438554  Single / not married       With parents       -8169           -372   \n",
      "438555               Married  House / apartment      -21673         365243   \n",
      "438556               Married  House / apartment      -18858          -1201   \n",
      "\n",
      "        FLAG_MOBIL  FLAG_WORK_PHONE  FLAG_PHONE  FLAG_EMAIL OCCUPATION_TYPE  \\\n",
      "0                1                1           0           0        Laborers   \n",
      "1                1                1           0           0        Laborers   \n",
      "2                1                0           0           0  Security staff   \n",
      "3                1                0           1           1     Sales staff   \n",
      "4                1                0           1           1     Sales staff   \n",
      "...            ...              ...         ...         ...             ...   \n",
      "438552           1                0           0           0        Laborers   \n",
      "438553           1                0           0           0        Laborers   \n",
      "438554           1                1           0           0     Sales staff   \n",
      "438555           1                0           0           0        Laborers   \n",
      "438556           1                0           1           0     Sales staff   \n",
      "\n",
      "        CNT_FAM_MEMBERS  \n",
      "0                   2.0  \n",
      "1                   2.0  \n",
      "2                   2.0  \n",
      "3                   1.0  \n",
      "4                   1.0  \n",
      "...                 ...  \n",
      "438552              1.0  \n",
      "438553              1.0  \n",
      "438554              1.0  \n",
      "438555              2.0  \n",
      "438556              2.0  \n",
      "\n",
      "[438557 rows x 18 columns]\n"
     ]
    }
   ],
   "execution_count": 16
  },
  {
   "metadata": {
    "ExecuteTime": {
     "end_time": "2024-12-24T21:42:19.328696Z",
     "start_time": "2024-12-24T21:35:34.110988Z"
    }
   },
   "cell_type": "code",
   "source": [
    "import pandas as pd\n",
    "from sklearn.preprocessing import LabelEncoder, MinMaxScaler\n",
    "\n",
    "# Load dataset\n",
    "# Filter rows with duplicated IDs\n",
    "duplicated_ids = df[df.duplicated(subset=[\"ID\"], keep=False)]\n",
    "df = df.groupby('ID').apply(lambda x: x.mode().iloc[0]).reset_index(drop=True)\n",
    "\n",
    "print(df)"
   ],
   "id": "4860bef8fe64e3ab",
   "outputs": [
    {
     "name": "stdout",
     "output_type": "stream",
     "text": [
      "0              ID CODE_GENDER FLAG_OWN_CAR FLAG_OWN_REALTY  CNT_CHILDREN  \\\n",
      "0       5008804.0           M            Y               Y           0.0   \n",
      "1       5008805.0           M            Y               Y           0.0   \n",
      "2       5008806.0           M            Y               Y           0.0   \n",
      "3       5008808.0           F            N               Y           0.0   \n",
      "4       5008809.0           F            N               Y           0.0   \n",
      "...           ...         ...          ...             ...           ...   \n",
      "438505  7999660.0           F            N               N           0.0   \n",
      "438506  7999696.0           F            N               Y           2.0   \n",
      "438507  7999738.0           M            N               Y           0.0   \n",
      "438508  7999784.0           F            Y               Y           1.0   \n",
      "438509  7999952.0           F            N               Y           1.0   \n",
      "\n",
      "0       AMT_INCOME_TOTAL      NAME_INCOME_TYPE            NAME_EDUCATION_TYPE  \\\n",
      "0               427500.0               Working               Higher education   \n",
      "1               427500.0               Working               Higher education   \n",
      "2               112500.0               Working  Secondary / secondary special   \n",
      "3               270000.0  Commercial associate  Secondary / secondary special   \n",
      "4               270000.0  Commercial associate  Secondary / secondary special   \n",
      "...                  ...                   ...                            ...   \n",
      "438505           90000.0         State servant               Higher education   \n",
      "438506          135000.0         State servant  Secondary / secondary special   \n",
      "438507          180000.0               Working  Secondary / secondary special   \n",
      "438508          180000.0  Commercial associate  Secondary / secondary special   \n",
      "438509          157500.0         State servant               Higher education   \n",
      "\n",
      "0         NAME_FAMILY_STATUS  NAME_HOUSING_TYPE  DAYS_BIRTH  DAYS_EMPLOYED  \\\n",
      "0             Civil marriage   Rented apartment      -12005          -4542   \n",
      "1             Civil marriage   Rented apartment      -12005          -4542   \n",
      "2                    Married  House / apartment      -21474          -1134   \n",
      "3       Single / not married  House / apartment      -19110          -3051   \n",
      "4       Single / not married  House / apartment      -19110          -3051   \n",
      "...                      ...                ...         ...            ...   \n",
      "438505  Single / not married  House / apartment      -13432          -5446   \n",
      "438506               Married  House / apartment      -12576          -4382   \n",
      "438507               Married  House / apartment       -9970           -119   \n",
      "438508               Married  House / apartment      -10630           -454   \n",
      "438509               Married  House / apartment      -15859          -3679   \n",
      "\n",
      "0       FLAG_MOBIL  FLAG_WORK_PHONE  FLAG_PHONE  FLAG_EMAIL OCCUPATION_TYPE  \\\n",
      "0              1.0              1.0         0.0         0.0             NaN   \n",
      "1              1.0              1.0         0.0         0.0             NaN   \n",
      "2              1.0              0.0         0.0         0.0  Security staff   \n",
      "3              1.0              0.0         1.0         1.0     Sales staff   \n",
      "4              1.0              0.0         1.0         1.0     Sales staff   \n",
      "...            ...              ...         ...         ...             ...   \n",
      "438505         1.0              0.0         0.0         0.0      Core staff   \n",
      "438506         1.0              0.0         0.0         0.0  Medicine staff   \n",
      "438507         1.0              0.0         0.0         0.0             NaN   \n",
      "438508         1.0              0.0         0.0         0.0             NaN   \n",
      "438509         1.0              0.0         0.0         0.0      Core staff   \n",
      "\n",
      "0       CNT_FAM_MEMBERS  \n",
      "0                   2.0  \n",
      "1                   2.0  \n",
      "2                   2.0  \n",
      "3                   1.0  \n",
      "4                   1.0  \n",
      "...                 ...  \n",
      "438505              1.0  \n",
      "438506              4.0  \n",
      "438507              2.0  \n",
      "438508              3.0  \n",
      "438509              3.0  \n",
      "\n",
      "[438510 rows x 18 columns]\n"
     ]
    },
    {
     "name": "stderr",
     "output_type": "stream",
     "text": [
      "/var/folders/q_/ffbdvtfx16s23l4197jvl3vh0000gn/T/ipykernel_13080/702179085.py:7: DeprecationWarning: DataFrameGroupBy.apply operated on the grouping columns. This behavior is deprecated, and in a future version of pandas the grouping columns will be excluded from the operation. Either pass `include_groups=False` to exclude the groupings or explicitly select the grouping columns after groupby to silence this warning.\n",
      "  df = df.groupby('ID').apply(lambda x: x.mode().iloc[0]).reset_index(drop=True)\n"
     ]
    }
   ],
   "execution_count": 21
  }
 ],
 "metadata": {
  "kernelspec": {
   "display_name": "Python 3",
   "language": "python",
   "name": "python3"
  },
  "language_info": {
   "codemirror_mode": {
    "name": "ipython",
    "version": 2
   },
   "file_extension": ".py",
   "mimetype": "text/x-python",
   "name": "python",
   "nbconvert_exporter": "python",
   "pygments_lexer": "ipython2",
   "version": "2.7.6"
  }
 },
 "nbformat": 4,
 "nbformat_minor": 5
}
