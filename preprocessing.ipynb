{
 "cells": [
  {
   "cell_type": "code",
   "id": "d91b03585d244aae",
   "metadata": {
    "ExecuteTime": {
     "end_time": "2024-12-25T23:29:00.455094Z",
     "start_time": "2024-12-25T23:29:00.318948Z"
    }
   },
   "source": [
    "import pandas as pd\n",
    "from sklearn.impute import SimpleImputer\n",
    "from sklearn.preprocessing import LabelEncoder, StandardScaler"
   ],
   "outputs": [],
   "execution_count": 2
  },
  {
   "cell_type": "code",
   "id": "03c3721a",
   "metadata": {
    "ExecuteTime": {
     "end_time": "2024-12-25T23:29:03.706635Z",
     "start_time": "2024-12-25T23:29:03.203846Z"
    }
   },
   "source": [
    "application_record = pd.read_csv('data/application_record_cleaned.csv')\n",
    "credit_record = pd.read_csv('data/credit_record_cleaned.csv')"
   ],
   "outputs": [],
   "execution_count": 3
  },
  {
   "cell_type": "code",
   "id": "5d2f6e19",
   "metadata": {
    "ExecuteTime": {
     "end_time": "2024-12-25T23:29:05.492313Z",
     "start_time": "2024-12-25T23:29:05.474682Z"
    }
   },
   "source": [
    "merged_data = application_record.merge(credit_record, on='ID', how='inner')"
   ],
   "outputs": [],
   "execution_count": 4
  },
  {
   "cell_type": "code",
   "id": "8bcd506a",
   "metadata": {
    "ExecuteTime": {
     "end_time": "2024-12-25T23:29:07.252294Z",
     "start_time": "2024-12-25T23:29:07.249757Z"
    }
   },
   "source": [
    "print(merged_data.columns)"
   ],
   "outputs": [
    {
     "name": "stdout",
     "output_type": "stream",
     "text": [
      "Index(['ID', 'CODE_GENDER', 'FLAG_OWN_CAR', 'FLAG_OWN_REALTY', 'CNT_CHILDREN',\n",
      "       'AMT_INCOME_TOTAL', 'NAME_INCOME_TYPE', 'NAME_EDUCATION_TYPE',\n",
      "       'NAME_FAMILY_STATUS', 'NAME_HOUSING_TYPE', 'DAYS_BIRTH',\n",
      "       'DAYS_EMPLOYED', 'FLAG_WORK_PHONE', 'FLAG_PHONE', 'FLAG_EMAIL',\n",
      "       'OCCUPATION_TYPE', 'CNT_FAM_MEMBERS', 'AGE', 'EMPLOYMENT_YEARS',\n",
      "       'STATUS'],\n",
      "      dtype='object')\n"
     ]
    }
   ],
   "execution_count": 5
  },
  {
   "cell_type": "code",
   "id": "5f37a602",
   "metadata": {
    "ExecuteTime": {
     "end_time": "2024-12-25T23:29:09.356078Z",
     "start_time": "2024-12-25T23:29:09.344494Z"
    }
   },
   "source": [
    "print(merged_data)"
   ],
   "outputs": [
    {
     "name": "stdout",
     "output_type": "stream",
     "text": [
      "            ID CODE_GENDER FLAG_OWN_CAR FLAG_OWN_REALTY  CNT_CHILDREN  \\\n",
      "0      5008804           M            Y               Y           0.0   \n",
      "1      5008805           M            Y               Y           0.0   \n",
      "2      5008806           M            Y               Y           0.0   \n",
      "3      5008808           F            N               Y           0.0   \n",
      "4      5008809           F            N               Y           0.0   \n",
      "...        ...         ...          ...             ...           ...   \n",
      "36452  5150482           F            Y               Y           1.0   \n",
      "36453  5150483           F            Y               Y           1.0   \n",
      "36454  5150484           F            Y               Y           1.0   \n",
      "36455  5150485           F            Y               Y           1.0   \n",
      "36456  5150487           M            Y               N           0.0   \n",
      "\n",
      "       AMT_INCOME_TOTAL      NAME_INCOME_TYPE            NAME_EDUCATION_TYPE  \\\n",
      "0              0.059697               Working               Higher education   \n",
      "1              0.059697               Working               Higher education   \n",
      "2              0.012850               Working  Secondary / secondary special   \n",
      "3              0.036274  Commercial associate  Secondary / secondary special   \n",
      "4              0.036274  Commercial associate  Secondary / secondary special   \n",
      "...                 ...                   ...                            ...   \n",
      "36452          0.019542               Working  Secondary / secondary special   \n",
      "36453          0.019542               Working  Secondary / secondary special   \n",
      "36454          0.019542               Working  Secondary / secondary special   \n",
      "36455          0.019542               Working  Secondary / secondary special   \n",
      "36456          0.026235               Working  Secondary / secondary special   \n",
      "\n",
      "         NAME_FAMILY_STATUS  NAME_HOUSING_TYPE  DAYS_BIRTH  DAYS_EMPLOYED  \\\n",
      "0            Civil marriage   Rented apartment     12005.0         4542.0   \n",
      "1            Civil marriage   Rented apartment     12005.0         4542.0   \n",
      "2                   Married  House / apartment     21474.0         1134.0   \n",
      "3      Single / not married  House / apartment     19110.0         3051.0   \n",
      "4      Single / not married  House / apartment     19110.0         3051.0   \n",
      "...                     ...                ...         ...            ...   \n",
      "36452               Married  House / apartment     10808.0         1739.0   \n",
      "36453               Married  House / apartment     10808.0         1739.0   \n",
      "36454               Married  House / apartment     10808.0         1739.0   \n",
      "36455               Married  House / apartment     10808.0         1739.0   \n",
      "36456               Married  House / apartment     19398.0         2166.0   \n",
      "\n",
      "       FLAG_WORK_PHONE  FLAG_PHONE  FLAG_EMAIL OCCUPATION_TYPE  \\\n",
      "0                  1.0         0.0         0.0        Laborers   \n",
      "1                  1.0         0.0         0.0        Laborers   \n",
      "2                  0.0         0.0         0.0  Security staff   \n",
      "3                  0.0         1.0         1.0     Sales staff   \n",
      "4                  0.0         1.0         1.0     Sales staff   \n",
      "...                ...         ...         ...             ...   \n",
      "36452              0.0         0.0         0.0      Core staff   \n",
      "36453              0.0         0.0         0.0      Core staff   \n",
      "36454              0.0         0.0         0.0      Core staff   \n",
      "36455              0.0         0.0         0.0      Core staff   \n",
      "36456              0.0         0.0         0.0         Drivers   \n",
      "\n",
      "       CNT_FAM_MEMBERS       AGE  EMPLOYMENT_YEARS  STATUS  \n",
      "0                  2.0  0.254968          0.258576       0  \n",
      "1                  2.0  0.254968          0.258576       0  \n",
      "2                  2.0  0.789578          0.064045       0  \n",
      "3                  1.0  0.656109          0.173469       0  \n",
      "4                  1.0  0.656109          0.173469       0  \n",
      "...                ...       ...               ...     ...  \n",
      "36452              3.0  0.187387          0.098579       1  \n",
      "36453              3.0  0.187387          0.098579       0  \n",
      "36454              3.0  0.187387          0.098579       1  \n",
      "36455              3.0  0.187387          0.098579       1  \n",
      "36456              2.0  0.672369          0.122952       0  \n",
      "\n",
      "[36457 rows x 20 columns]\n"
     ]
    }
   ],
   "execution_count": 6
  },
  {
   "cell_type": "code",
   "id": "dcabcd24",
   "metadata": {
    "ExecuteTime": {
     "end_time": "2024-12-25T23:29:28.669555Z",
     "start_time": "2024-12-25T23:29:28.663396Z"
    }
   },
   "source": [
    "merged_data.shape"
   ],
   "outputs": [
    {
     "data": {
      "text/plain": [
       "(36457, 20)"
      ]
     },
     "execution_count": 7,
     "metadata": {},
     "output_type": "execute_result"
    }
   ],
   "execution_count": 7
  },
  {
   "cell_type": "code",
   "id": "18eed5fb",
   "metadata": {
    "ExecuteTime": {
     "end_time": "2024-12-25T23:29:30.443763Z",
     "start_time": "2024-12-25T23:29:30.427640Z"
    }
   },
   "source": [
    "merged_data.head()"
   ],
   "outputs": [
    {
     "data": {
      "text/plain": [
       "        ID CODE_GENDER FLAG_OWN_CAR FLAG_OWN_REALTY  CNT_CHILDREN  \\\n",
       "0  5008804           M            Y               Y           0.0   \n",
       "1  5008805           M            Y               Y           0.0   \n",
       "2  5008806           M            Y               Y           0.0   \n",
       "3  5008808           F            N               Y           0.0   \n",
       "4  5008809           F            N               Y           0.0   \n",
       "\n",
       "   AMT_INCOME_TOTAL      NAME_INCOME_TYPE            NAME_EDUCATION_TYPE  \\\n",
       "0          0.059697               Working               Higher education   \n",
       "1          0.059697               Working               Higher education   \n",
       "2          0.012850               Working  Secondary / secondary special   \n",
       "3          0.036274  Commercial associate  Secondary / secondary special   \n",
       "4          0.036274  Commercial associate  Secondary / secondary special   \n",
       "\n",
       "     NAME_FAMILY_STATUS  NAME_HOUSING_TYPE  DAYS_BIRTH  DAYS_EMPLOYED  \\\n",
       "0        Civil marriage   Rented apartment     12005.0         4542.0   \n",
       "1        Civil marriage   Rented apartment     12005.0         4542.0   \n",
       "2               Married  House / apartment     21474.0         1134.0   \n",
       "3  Single / not married  House / apartment     19110.0         3051.0   \n",
       "4  Single / not married  House / apartment     19110.0         3051.0   \n",
       "\n",
       "   FLAG_WORK_PHONE  FLAG_PHONE  FLAG_EMAIL OCCUPATION_TYPE  CNT_FAM_MEMBERS  \\\n",
       "0              1.0         0.0         0.0        Laborers              2.0   \n",
       "1              1.0         0.0         0.0        Laborers              2.0   \n",
       "2              0.0         0.0         0.0  Security staff              2.0   \n",
       "3              0.0         1.0         1.0     Sales staff              1.0   \n",
       "4              0.0         1.0         1.0     Sales staff              1.0   \n",
       "\n",
       "        AGE  EMPLOYMENT_YEARS  STATUS  \n",
       "0  0.254968          0.258576       0  \n",
       "1  0.254968          0.258576       0  \n",
       "2  0.789578          0.064045       0  \n",
       "3  0.656109          0.173469       0  \n",
       "4  0.656109          0.173469       0  "
      ],
      "text/html": [
       "<div>\n",
       "<style scoped>\n",
       "    .dataframe tbody tr th:only-of-type {\n",
       "        vertical-align: middle;\n",
       "    }\n",
       "\n",
       "    .dataframe tbody tr th {\n",
       "        vertical-align: top;\n",
       "    }\n",
       "\n",
       "    .dataframe thead th {\n",
       "        text-align: right;\n",
       "    }\n",
       "</style>\n",
       "<table border=\"1\" class=\"dataframe\">\n",
       "  <thead>\n",
       "    <tr style=\"text-align: right;\">\n",
       "      <th></th>\n",
       "      <th>ID</th>\n",
       "      <th>CODE_GENDER</th>\n",
       "      <th>FLAG_OWN_CAR</th>\n",
       "      <th>FLAG_OWN_REALTY</th>\n",
       "      <th>CNT_CHILDREN</th>\n",
       "      <th>AMT_INCOME_TOTAL</th>\n",
       "      <th>NAME_INCOME_TYPE</th>\n",
       "      <th>NAME_EDUCATION_TYPE</th>\n",
       "      <th>NAME_FAMILY_STATUS</th>\n",
       "      <th>NAME_HOUSING_TYPE</th>\n",
       "      <th>DAYS_BIRTH</th>\n",
       "      <th>DAYS_EMPLOYED</th>\n",
       "      <th>FLAG_WORK_PHONE</th>\n",
       "      <th>FLAG_PHONE</th>\n",
       "      <th>FLAG_EMAIL</th>\n",
       "      <th>OCCUPATION_TYPE</th>\n",
       "      <th>CNT_FAM_MEMBERS</th>\n",
       "      <th>AGE</th>\n",
       "      <th>EMPLOYMENT_YEARS</th>\n",
       "      <th>STATUS</th>\n",
       "    </tr>\n",
       "  </thead>\n",
       "  <tbody>\n",
       "    <tr>\n",
       "      <th>0</th>\n",
       "      <td>5008804</td>\n",
       "      <td>M</td>\n",
       "      <td>Y</td>\n",
       "      <td>Y</td>\n",
       "      <td>0.0</td>\n",
       "      <td>0.059697</td>\n",
       "      <td>Working</td>\n",
       "      <td>Higher education</td>\n",
       "      <td>Civil marriage</td>\n",
       "      <td>Rented apartment</td>\n",
       "      <td>12005.0</td>\n",
       "      <td>4542.0</td>\n",
       "      <td>1.0</td>\n",
       "      <td>0.0</td>\n",
       "      <td>0.0</td>\n",
       "      <td>Laborers</td>\n",
       "      <td>2.0</td>\n",
       "      <td>0.254968</td>\n",
       "      <td>0.258576</td>\n",
       "      <td>0</td>\n",
       "    </tr>\n",
       "    <tr>\n",
       "      <th>1</th>\n",
       "      <td>5008805</td>\n",
       "      <td>M</td>\n",
       "      <td>Y</td>\n",
       "      <td>Y</td>\n",
       "      <td>0.0</td>\n",
       "      <td>0.059697</td>\n",
       "      <td>Working</td>\n",
       "      <td>Higher education</td>\n",
       "      <td>Civil marriage</td>\n",
       "      <td>Rented apartment</td>\n",
       "      <td>12005.0</td>\n",
       "      <td>4542.0</td>\n",
       "      <td>1.0</td>\n",
       "      <td>0.0</td>\n",
       "      <td>0.0</td>\n",
       "      <td>Laborers</td>\n",
       "      <td>2.0</td>\n",
       "      <td>0.254968</td>\n",
       "      <td>0.258576</td>\n",
       "      <td>0</td>\n",
       "    </tr>\n",
       "    <tr>\n",
       "      <th>2</th>\n",
       "      <td>5008806</td>\n",
       "      <td>M</td>\n",
       "      <td>Y</td>\n",
       "      <td>Y</td>\n",
       "      <td>0.0</td>\n",
       "      <td>0.012850</td>\n",
       "      <td>Working</td>\n",
       "      <td>Secondary / secondary special</td>\n",
       "      <td>Married</td>\n",
       "      <td>House / apartment</td>\n",
       "      <td>21474.0</td>\n",
       "      <td>1134.0</td>\n",
       "      <td>0.0</td>\n",
       "      <td>0.0</td>\n",
       "      <td>0.0</td>\n",
       "      <td>Security staff</td>\n",
       "      <td>2.0</td>\n",
       "      <td>0.789578</td>\n",
       "      <td>0.064045</td>\n",
       "      <td>0</td>\n",
       "    </tr>\n",
       "    <tr>\n",
       "      <th>3</th>\n",
       "      <td>5008808</td>\n",
       "      <td>F</td>\n",
       "      <td>N</td>\n",
       "      <td>Y</td>\n",
       "      <td>0.0</td>\n",
       "      <td>0.036274</td>\n",
       "      <td>Commercial associate</td>\n",
       "      <td>Secondary / secondary special</td>\n",
       "      <td>Single / not married</td>\n",
       "      <td>House / apartment</td>\n",
       "      <td>19110.0</td>\n",
       "      <td>3051.0</td>\n",
       "      <td>0.0</td>\n",
       "      <td>1.0</td>\n",
       "      <td>1.0</td>\n",
       "      <td>Sales staff</td>\n",
       "      <td>1.0</td>\n",
       "      <td>0.656109</td>\n",
       "      <td>0.173469</td>\n",
       "      <td>0</td>\n",
       "    </tr>\n",
       "    <tr>\n",
       "      <th>4</th>\n",
       "      <td>5008809</td>\n",
       "      <td>F</td>\n",
       "      <td>N</td>\n",
       "      <td>Y</td>\n",
       "      <td>0.0</td>\n",
       "      <td>0.036274</td>\n",
       "      <td>Commercial associate</td>\n",
       "      <td>Secondary / secondary special</td>\n",
       "      <td>Single / not married</td>\n",
       "      <td>House / apartment</td>\n",
       "      <td>19110.0</td>\n",
       "      <td>3051.0</td>\n",
       "      <td>0.0</td>\n",
       "      <td>1.0</td>\n",
       "      <td>1.0</td>\n",
       "      <td>Sales staff</td>\n",
       "      <td>1.0</td>\n",
       "      <td>0.656109</td>\n",
       "      <td>0.173469</td>\n",
       "      <td>0</td>\n",
       "    </tr>\n",
       "  </tbody>\n",
       "</table>\n",
       "</div>"
      ]
     },
     "execution_count": 8,
     "metadata": {},
     "output_type": "execute_result"
    }
   ],
   "execution_count": 8
  },
  {
   "cell_type": "code",
   "id": "baa82e59",
   "metadata": {
    "ExecuteTime": {
     "end_time": "2024-12-25T23:29:37.516790Z",
     "start_time": "2024-12-25T23:29:37.499831Z"
    }
   },
   "source": [
    "merged_data.isnull().sum()"
   ],
   "outputs": [
    {
     "data": {
      "text/plain": [
       "ID                     0\n",
       "CODE_GENDER            0\n",
       "FLAG_OWN_CAR           0\n",
       "FLAG_OWN_REALTY        0\n",
       "CNT_CHILDREN           0\n",
       "AMT_INCOME_TOTAL       0\n",
       "NAME_INCOME_TYPE       0\n",
       "NAME_EDUCATION_TYPE    0\n",
       "NAME_FAMILY_STATUS     0\n",
       "NAME_HOUSING_TYPE      0\n",
       "DAYS_BIRTH             0\n",
       "DAYS_EMPLOYED          0\n",
       "FLAG_WORK_PHONE        0\n",
       "FLAG_PHONE             0\n",
       "FLAG_EMAIL             0\n",
       "OCCUPATION_TYPE        0\n",
       "CNT_FAM_MEMBERS        0\n",
       "AGE                    0\n",
       "EMPLOYMENT_YEARS       0\n",
       "STATUS                 0\n",
       "dtype: int64"
      ]
     },
     "execution_count": 9,
     "metadata": {},
     "output_type": "execute_result"
    }
   ],
   "execution_count": 9
  },
  {
   "cell_type": "code",
   "id": "0a101842",
   "metadata": {
    "ExecuteTime": {
     "end_time": "2024-12-25T23:29:40.000033Z",
     "start_time": "2024-12-25T23:29:39.970411Z"
    }
   },
   "source": [
    "unique_counts = merged_data.nunique()\n",
    "print(unique_counts)"
   ],
   "outputs": [
    {
     "name": "stdout",
     "output_type": "stream",
     "text": [
      "ID                     36457\n",
      "CODE_GENDER                2\n",
      "FLAG_OWN_CAR               2\n",
      "FLAG_OWN_REALTY            2\n",
      "CNT_CHILDREN               9\n",
      "AMT_INCOME_TOTAL         265\n",
      "NAME_INCOME_TYPE           5\n",
      "NAME_EDUCATION_TYPE        5\n",
      "NAME_FAMILY_STATUS         5\n",
      "NAME_HOUSING_TYPE          6\n",
      "DAYS_BIRTH              7183\n",
      "DAYS_EMPLOYED           3640\n",
      "FLAG_WORK_PHONE            2\n",
      "FLAG_PHONE                 2\n",
      "FLAG_EMAIL                 2\n",
      "OCCUPATION_TYPE           18\n",
      "CNT_FAM_MEMBERS           10\n",
      "AGE                     7183\n",
      "EMPLOYMENT_YEARS        3636\n",
      "STATUS                     2\n",
      "dtype: int64\n"
     ]
    }
   ],
   "execution_count": 10
  },
  {
   "cell_type": "code",
   "id": "5a8e2981",
   "metadata": {
    "ExecuteTime": {
     "end_time": "2024-12-25T23:29:43.332546Z",
     "start_time": "2024-12-25T23:29:43.326627Z"
    }
   },
   "source": [
    "def print_categorical_columns(df):\n",
    "    categorical_columns = df.select_dtypes(include=['object']).columns\n",
    "    print(\"Categorical columns:\", categorical_columns.tolist())\n",
    "\n",
    "print_categorical_columns(merged_data)"
   ],
   "outputs": [
    {
     "name": "stdout",
     "output_type": "stream",
     "text": [
      "Categorical columns: ['CODE_GENDER', 'FLAG_OWN_CAR', 'FLAG_OWN_REALTY', 'NAME_INCOME_TYPE', 'NAME_EDUCATION_TYPE', 'NAME_FAMILY_STATUS', 'NAME_HOUSING_TYPE', 'OCCUPATION_TYPE']\n"
     ]
    }
   ],
   "execution_count": 11
  },
  {
   "cell_type": "code",
   "id": "1aae0b90",
   "metadata": {
    "ExecuteTime": {
     "end_time": "2024-12-25T23:29:47.274664Z",
     "start_time": "2024-12-25T23:29:47.233188Z"
    }
   },
   "source": [
    "categorical_columns = ['CODE_GENDER', 'FLAG_OWN_CAR',\n",
    "                     'FLAG_OWN_REALTY', 'NAME_INCOME_TYPE',\n",
    "                     'NAME_EDUCATION_TYPE', 'NAME_FAMILY_STATUS',\n",
    "                     'NAME_HOUSING_TYPE', 'OCCUPATION_TYPE']\n",
    "\n",
    "label_encoders = {}\n",
    "for col in categorical_columns:\n",
    "    le = LabelEncoder()\n",
    "    merged_data[col] = le.fit_transform(merged_data[col])\n",
    "    label_encoders[col] = le  \n"
   ],
   "outputs": [],
   "execution_count": 12
  },
  {
   "cell_type": "code",
   "id": "02050aef",
   "metadata": {
    "ExecuteTime": {
     "end_time": "2024-12-25T23:29:50.607453Z",
     "start_time": "2024-12-25T23:29:50.599766Z"
    }
   },
   "source": [
    "def print_numeric_columns(df):\n",
    "    numeric_columns = df.select_dtypes(include=['number']).columns\n",
    "    print(\"Numeric columns:\", numeric_columns.tolist())\n",
    "\n",
    "print_numeric_columns(merged_data)"
   ],
   "outputs": [
    {
     "name": "stdout",
     "output_type": "stream",
     "text": [
      "Numeric columns: ['ID', 'CODE_GENDER', 'FLAG_OWN_CAR', 'FLAG_OWN_REALTY', 'CNT_CHILDREN', 'AMT_INCOME_TOTAL', 'NAME_INCOME_TYPE', 'NAME_EDUCATION_TYPE', 'NAME_FAMILY_STATUS', 'NAME_HOUSING_TYPE', 'DAYS_BIRTH', 'DAYS_EMPLOYED', 'FLAG_WORK_PHONE', 'FLAG_PHONE', 'FLAG_EMAIL', 'OCCUPATION_TYPE', 'CNT_FAM_MEMBERS', 'AGE', 'EMPLOYMENT_YEARS', 'STATUS']\n"
     ]
    }
   ],
   "execution_count": 13
  },
  {
   "cell_type": "code",
   "id": "41d442f2",
   "metadata": {
    "ExecuteTime": {
     "end_time": "2024-12-25T23:29:53.252772Z",
     "start_time": "2024-12-25T23:29:53.242857Z"
    }
   },
   "source": [
    "merged_data = merged_data.drop(columns=['DAYS_BIRTH'], errors='ignore')\n",
    "merged_data = merged_data.drop(columns=['DAYS_EMPLOYED'], errors='ignore')"
   ],
   "outputs": [],
   "execution_count": 14
  },
  {
   "cell_type": "code",
   "id": "b014aeac",
   "metadata": {
    "ExecuteTime": {
     "end_time": "2024-12-25T23:29:57.109500Z",
     "start_time": "2024-12-25T23:29:57.106127Z"
    }
   },
   "source": [
    "print(merged_data.columns)"
   ],
   "outputs": [
    {
     "name": "stdout",
     "output_type": "stream",
     "text": [
      "Index(['ID', 'CODE_GENDER', 'FLAG_OWN_CAR', 'FLAG_OWN_REALTY', 'CNT_CHILDREN',\n",
      "       'AMT_INCOME_TOTAL', 'NAME_INCOME_TYPE', 'NAME_EDUCATION_TYPE',\n",
      "       'NAME_FAMILY_STATUS', 'NAME_HOUSING_TYPE', 'FLAG_WORK_PHONE',\n",
      "       'FLAG_PHONE', 'FLAG_EMAIL', 'OCCUPATION_TYPE', 'CNT_FAM_MEMBERS', 'AGE',\n",
      "       'EMPLOYMENT_YEARS', 'STATUS'],\n",
      "      dtype='object')\n"
     ]
    }
   ],
   "execution_count": 15
  },
  {
   "cell_type": "code",
   "id": "c0027856",
   "metadata": {
    "ExecuteTime": {
     "end_time": "2024-12-25T23:30:35.372948Z",
     "start_time": "2024-12-25T23:30:35.265072Z"
    }
   },
   "source": [
    "import matplotlib.pyplot as plt\n",
    "\n",
    "class_distribution = merged_data['STATUS'].value_counts()\n",
    "\n",
    "# Print class distribution\n",
    "print(\"Class Distribution:\")\n",
    "print(class_distribution)\n",
    "\n",
    "# Visualize the class distribution\n",
    "class_distribution.plot(kind='bar')\n",
    "plt.xlabel('Class')\n",
    "plt.ylabel('Frequency')\n",
    "plt.title('Class Distribution')\n",
    "plt.show()"
   ],
   "outputs": [
    {
     "name": "stdout",
     "output_type": "stream",
     "text": [
      "Class Distribution:\n",
      "STATUS\n",
      "0    18805\n",
      "1    17652\n",
      "Name: count, dtype: int64\n"
     ]
    },
    {
     "data": {
      "text/plain": [
       "<Figure size 640x480 with 1 Axes>"
      ],
      "image/png": "[encoded data removed]"
     },
     "metadata": {},
     "output_type": "display_data"
    }
   ],
   "execution_count": 16
  },
  {
   "metadata": {
    "ExecuteTime": {
     "end_time": "2024-12-25T23:31:23.729393Z",
     "start_time": "2024-12-25T23:31:23.717061Z"
    }
   },
   "cell_type": "code",
   "source": "merged_data.head()",
   "id": "6bec1610f5b47d1b",
   "outputs": [
    {
     "data": {
      "text/plain": [
       "        ID  CODE_GENDER  FLAG_OWN_CAR  FLAG_OWN_REALTY  CNT_CHILDREN  \\\n",
       "0  5008804            1             1                1           0.0   \n",
       "1  5008805            1             1                1           0.0   \n",
       "2  5008806            1             1                1           0.0   \n",
       "3  5008808            0             0                1           0.0   \n",
       "4  5008809            0             0                1           0.0   \n",
       "\n",
       "   AMT_INCOME_TOTAL  NAME_INCOME_TYPE  NAME_EDUCATION_TYPE  \\\n",
       "0          0.059697                 4                    1   \n",
       "1          0.059697                 4                    1   \n",
       "2          0.012850                 4                    4   \n",
       "3          0.036274                 0                    4   \n",
       "4          0.036274                 0                    4   \n",
       "\n",
       "   NAME_FAMILY_STATUS  NAME_HOUSING_TYPE  FLAG_WORK_PHONE  FLAG_PHONE  \\\n",
       "0                   0                  4              1.0         0.0   \n",
       "1                   0                  4              1.0         0.0   \n",
       "2                   1                  1              0.0         0.0   \n",
       "3                   3                  1              0.0         1.0   \n",
       "4                   3                  1              0.0         1.0   \n",
       "\n",
       "   FLAG_EMAIL  OCCUPATION_TYPE  CNT_FAM_MEMBERS       AGE  EMPLOYMENT_YEARS  \\\n",
       "0         0.0                8              2.0  0.254968          0.258576   \n",
       "1         0.0                8              2.0  0.254968          0.258576   \n",
       "2         0.0               16              2.0  0.789578          0.064045   \n",
       "3         1.0               14              1.0  0.656109          0.173469   \n",
       "4         1.0               14              1.0  0.656109          0.173469   \n",
       "\n",
       "   STATUS  \n",
       "0       0  \n",
       "1       0  \n",
       "2       0  \n",
       "3       0  \n",
       "4       0  "
      ],
      "text/html": [
       "<div>\n",
       "<style scoped>\n",
       "    .dataframe tbody tr th:only-of-type {\n",
       "        vertical-align: middle;\n",
       "    }\n",
       "\n",
       "    .dataframe tbody tr th {\n",
       "        vertical-align: top;\n",
       "    }\n",
       "\n",
       "    .dataframe thead th {\n",
       "        text-align: right;\n",
       "    }\n",
       "</style>\n",
       "<table border=\"1\" class=\"dataframe\">\n",
       "  <thead>\n",
       "    <tr style=\"text-align: right;\">\n",
       "      <th></th>\n",
       "      <th>ID</th>\n",
       "      <th>CODE_GENDER</th>\n",
       "      <th>FLAG_OWN_CAR</th>\n",
       "      <th>FLAG_OWN_REALTY</th>\n",
       "      <th>CNT_CHILDREN</th>\n",
       "      <th>AMT_INCOME_TOTAL</th>\n",
       "      <th>NAME_INCOME_TYPE</th>\n",
       "      <th>NAME_EDUCATION_TYPE</th>\n",
       "      <th>NAME_FAMILY_STATUS</th>\n",
       "      <th>NAME_HOUSING_TYPE</th>\n",
       "      <th>FLAG_WORK_PHONE</th>\n",
       "      <th>FLAG_PHONE</th>\n",
       "      <th>FLAG_EMAIL</th>\n",
       "      <th>OCCUPATION_TYPE</th>\n",
       "      <th>CNT_FAM_MEMBERS</th>\n",
       "      <th>AGE</th>\n",
       "      <th>EMPLOYMENT_YEARS</th>\n",
       "      <th>STATUS</th>\n",
       "    </tr>\n",
       "  </thead>\n",
       "  <tbody>\n",
       "    <tr>\n",
       "      <th>0</th>\n",
       "      <td>5008804</td>\n",
       "      <td>1</td>\n",
       "      <td>1</td>\n",
       "      <td>1</td>\n",
       "      <td>0.0</td>\n",
       "      <td>0.059697</td>\n",
       "      <td>4</td>\n",
       "      <td>1</td>\n",
       "      <td>0</td>\n",
       "      <td>4</td>\n",
       "      <td>1.0</td>\n",
       "      <td>0.0</td>\n",
       "      <td>0.0</td>\n",
       "      <td>8</td>\n",
       "      <td>2.0</td>\n",
       "      <td>0.254968</td>\n",
       "      <td>0.258576</td>\n",
       "      <td>0</td>\n",
       "    </tr>\n",
       "    <tr>\n",
       "      <th>1</th>\n",
       "      <td>5008805</td>\n",
       "      <td>1</td>\n",
       "      <td>1</td>\n",
       "      <td>1</td>\n",
       "      <td>0.0</td>\n",
       "      <td>0.059697</td>\n",
       "      <td>4</td>\n",
       "      <td>1</td>\n",
       "      <td>0</td>\n",
       "      <td>4</td>\n",
       "      <td>1.0</td>\n",
       "      <td>0.0</td>\n",
       "      <td>0.0</td>\n",
       "      <td>8</td>\n",
       "      <td>2.0</td>\n",
       "      <td>0.254968</td>\n",
       "      <td>0.258576</td>\n",
       "      <td>0</td>\n",
       "    </tr>\n",
       "    <tr>\n",
       "      <th>2</th>\n",
       "      <td>5008806</td>\n",
       "      <td>1</td>\n",
       "      <td>1</td>\n",
       "      <td>1</td>\n",
       "      <td>0.0</td>\n",
       "      <td>0.012850</td>\n",
       "      <td>4</td>\n",
       "      <td>4</td>\n",
       "      <td>1</td>\n",
       "      <td>1</td>\n",
       "      <td>0.0</td>\n",
       "      <td>0.0</td>\n",
       "      <td>0.0</td>\n",
       "      <td>16</td>\n",
       "      <td>2.0</td>\n",
       "      <td>0.789578</td>\n",
       "      <td>0.064045</td>\n",
       "      <td>0</td>\n",
       "    </tr>\n",
       "    <tr>\n",
       "      <th>3</th>\n",
       "      <td>5008808</td>\n",
       "      <td>0</td>\n",
       "      <td>0</td>\n",
       "      <td>1</td>\n",
       "      <td>0.0</td>\n",
       "      <td>0.036274</td>\n",
       "      <td>0</td>\n",
       "      <td>4</td>\n",
       "      <td>3</td>\n",
       "      <td>1</td>\n",
       "      <td>0.0</td>\n",
       "      <td>1.0</td>\n",
       "      <td>1.0</td>\n",
       "      <td>14</td>\n",
       "      <td>1.0</td>\n",
       "      <td>0.656109</td>\n",
       "      <td>0.173469</td>\n",
       "      <td>0</td>\n",
       "    </tr>\n",
       "    <tr>\n",
       "      <th>4</th>\n",
       "      <td>5008809</td>\n",
       "      <td>0</td>\n",
       "      <td>0</td>\n",
       "      <td>1</td>\n",
       "      <td>0.0</td>\n",
       "      <td>0.036274</td>\n",
       "      <td>0</td>\n",
       "      <td>4</td>\n",
       "      <td>3</td>\n",
       "      <td>1</td>\n",
       "      <td>0.0</td>\n",
       "      <td>1.0</td>\n",
       "      <td>1.0</td>\n",
       "      <td>14</td>\n",
       "      <td>1.0</td>\n",
       "      <td>0.656109</td>\n",
       "      <td>0.173469</td>\n",
       "      <td>0</td>\n",
       "    </tr>\n",
       "  </tbody>\n",
       "</table>\n",
       "</div>"
      ]
     },
     "execution_count": 17,
     "metadata": {},
     "output_type": "execute_result"
    }
   ],
   "execution_count": 17
  },
  {
   "cell_type": "code",
   "id": "05e37eff",
   "metadata": {
    "ExecuteTime": {
     "end_time": "2024-12-25T23:31:26.735717Z",
     "start_time": "2024-12-25T23:31:26.546709Z"
    }
   },
   "source": [
    "print(merged_data.info())\n",
    "print(merged_data.head())\n",
    "\n",
    "merged_data.to_csv('data/cleaned_data.csv', index=False)"
   ],
   "outputs": [
    {
     "name": "stdout",
     "output_type": "stream",
     "text": [
      "<class 'pandas.core.frame.DataFrame'>\n",
      "RangeIndex: 36457 entries, 0 to 36456\n",
      "Data columns (total 18 columns):\n",
      " #   Column               Non-Null Count  Dtype  \n",
      "---  ------               --------------  -----  \n",
      " 0   ID                   36457 non-null  int64  \n",
      " 1   CODE_GENDER          36457 non-null  int64  \n",
      " 2   FLAG_OWN_CAR         36457 non-null  int64  \n",
      " 3   FLAG_OWN_REALTY      36457 non-null  int64  \n",
      " 4   CNT_CHILDREN         36457 non-null  float64\n",
      " 5   AMT_INCOME_TOTAL     36457 non-null  float64\n",
      " 6   NAME_INCOME_TYPE     36457 non-null  int64  \n",
      " 7   NAME_EDUCATION_TYPE  36457 non-null  int64  \n",
      " 8   NAME_FAMILY_STATUS   36457 non-null  int64  \n",
      " 9   NAME_HOUSING_TYPE    36457 non-null  int64  \n",
      " 10  FLAG_WORK_PHONE      36457 non-null  float64\n",
      " 11  FLAG_PHONE           36457 non-null  float64\n",
      " 12  FLAG_EMAIL           36457 non-null  float64\n",
      " 13  OCCUPATION_TYPE      36457 non-null  int64  \n",
      " 14  CNT_FAM_MEMBERS      36457 non-null  float64\n",
      " 15  AGE                  36457 non-null  float64\n",
      " 16  EMPLOYMENT_YEARS     36457 non-null  float64\n",
      " 17  STATUS               36457 non-null  int64  \n",
      "dtypes: float64(8), int64(10)\n",
      "memory usage: 5.0 MB\n",
      "None\n",
      "        ID  CODE_GENDER  FLAG_OWN_CAR  FLAG_OWN_REALTY  CNT_CHILDREN  \\\n",
      "0  5008804            1             1                1           0.0   \n",
      "1  5008805            1             1                1           0.0   \n",
      "2  5008806            1             1                1           0.0   \n",
      "3  5008808            0             0                1           0.0   \n",
      "4  5008809            0             0                1           0.0   \n",
      "\n",
      "   AMT_INCOME_TOTAL  NAME_INCOME_TYPE  NAME_EDUCATION_TYPE  \\\n",
      "0          0.059697                 4                    1   \n",
      "1          0.059697                 4                    1   \n",
      "2          0.012850                 4                    4   \n",
      "3          0.036274                 0                    4   \n",
      "4          0.036274                 0                    4   \n",
      "\n",
      "   NAME_FAMILY_STATUS  NAME_HOUSING_TYPE  FLAG_WORK_PHONE  FLAG_PHONE  \\\n",
      "0                   0                  4              1.0         0.0   \n",
      "1                   0                  4              1.0         0.0   \n",
      "2                   1                  1              0.0         0.0   \n",
      "3                   3                  1              0.0         1.0   \n",
      "4                   3                  1              0.0         1.0   \n",
      "\n",
      "   FLAG_EMAIL  OCCUPATION_TYPE  CNT_FAM_MEMBERS       AGE  EMPLOYMENT_YEARS  \\\n",
      "0         0.0                8              2.0  0.254968          0.258576   \n",
      "1         0.0                8              2.0  0.254968          0.258576   \n",
      "2         0.0               16              2.0  0.789578          0.064045   \n",
      "3         1.0               14              1.0  0.656109          0.173469   \n",
      "4         1.0               14              1.0  0.656109          0.173469   \n",
      "\n",
      "   STATUS  \n",
      "0       0  \n",
      "1       0  \n",
      "2       0  \n",
      "3       0  \n",
      "4       0  \n"
     ]
    }
   ],
   "execution_count": 18
  }
 ],
 "metadata": {
  "kernelspec": {
   "display_name": "Python 3",
   "language": "python",
   "name": "python3"
  },
  "language_info": {
   "codemirror_mode": {
    "name": "ipython",
    "version": 3
   },
   "file_extension": ".py",
   "mimetype": "text/x-python",
   "name": "python",
   "nbconvert_exporter": "python",
   "pygments_lexer": "ipython3",
   "version": "3.12.6"
  }
 },
 "nbformat": 4,
 "nbformat_minor": 5
}
