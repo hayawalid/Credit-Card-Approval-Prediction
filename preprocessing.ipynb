{
 "cells": [
  {
   "cell_type": "code",
   "id": "0413369f",
   "metadata": {
    "ExecuteTime": {
     "end_time": "2024-12-24T15:42:50.205180Z",
     "start_time": "2024-12-24T15:42:50.202277Z"
    }
   },
   "source": [
    "import pandas as pd\n",
    "import numpy as np\n",
    "import seaborn as sns\n",
    "import matplotlib.pyplot as plt\n",
    "from sklearn.preprocessing import StandardScaler, LabelEncoder\n",
    "from sklearn.impute import SimpleImputer"
   ],
   "outputs": [],
   "execution_count": 2
  },
  {
   "cell_type": "markdown",
   "id": "bdd944b35fc61fc1",
   "metadata": {},
   "source": [
    "# PREPROCESSING HAYA\n",
    "\n",
    "first dataset\n"
   ]
  },
  {
   "cell_type": "code",
   "id": "initial_id",
   "metadata": {
    "collapsed": true,
    "tags": [
     "Sanity Check of Data"
    ],
    "ExecuteTime": {
     "end_time": "2024-12-24T18:27:40.963500Z",
     "start_time": "2024-12-24T18:27:40.472896Z"
    }
   },
   "source": [
    "df = pd.read_csv('data/application_record.csv')\n",
    "\n",
    "print('Data Head')\n",
    "df.head()  # First few rows"
   ],
   "outputs": [
    {
     "name": "stdout",
     "output_type": "stream",
     "text": [
      "Data Head\n"
     ]
    },
    {
     "data": {
      "text/plain": [
       "        ID CODE_GENDER FLAG_OWN_CAR FLAG_OWN_REALTY  CNT_CHILDREN  \\\n",
       "0  5008804           M            Y               Y             0   \n",
       "1  5008805           M            Y               Y             0   \n",
       "2  5008806           M            Y               Y             0   \n",
       "3  5008808           F            N               Y             0   \n",
       "4  5008809           F            N               Y             0   \n",
       "\n",
       "   AMT_INCOME_TOTAL      NAME_INCOME_TYPE            NAME_EDUCATION_TYPE  \\\n",
       "0          427500.0               Working               Higher education   \n",
       "1          427500.0               Working               Higher education   \n",
       "2          112500.0               Working  Secondary / secondary special   \n",
       "3          270000.0  Commercial associate  Secondary / secondary special   \n",
       "4          270000.0  Commercial associate  Secondary / secondary special   \n",
       "\n",
       "     NAME_FAMILY_STATUS  NAME_HOUSING_TYPE  DAYS_BIRTH  DAYS_EMPLOYED  \\\n",
       "0        Civil marriage   Rented apartment      -12005          -4542   \n",
       "1        Civil marriage   Rented apartment      -12005          -4542   \n",
       "2               Married  House / apartment      -21474          -1134   \n",
       "3  Single / not married  House / apartment      -19110          -3051   \n",
       "4  Single / not married  House / apartment      -19110          -3051   \n",
       "\n",
       "   FLAG_MOBIL  FLAG_WORK_PHONE  FLAG_PHONE  FLAG_EMAIL OCCUPATION_TYPE  \\\n",
       "0           1                1           0           0             NaN   \n",
       "1           1                1           0           0             NaN   \n",
       "2           1                0           0           0  Security staff   \n",
       "3           1                0           1           1     Sales staff   \n",
       "4           1                0           1           1     Sales staff   \n",
       "\n",
       "   CNT_FAM_MEMBERS  \n",
       "0              2.0  \n",
       "1              2.0  \n",
       "2              2.0  \n",
       "3              1.0  \n",
       "4              1.0  "
      ],
      "text/html": [
       "<div>\n",
       "<style scoped>\n",
       "    .dataframe tbody tr th:only-of-type {\n",
       "        vertical-align: middle;\n",
       "    }\n",
       "\n",
       "    .dataframe tbody tr th {\n",
       "        vertical-align: top;\n",
       "    }\n",
       "\n",
       "    .dataframe thead th {\n",
       "        text-align: right;\n",
       "    }\n",
       "</style>\n",
       "<table border=\"1\" class=\"dataframe\">\n",
       "  <thead>\n",
       "    <tr style=\"text-align: right;\">\n",
       "      <th></th>\n",
       "      <th>ID</th>\n",
       "      <th>CODE_GENDER</th>\n",
       "      <th>FLAG_OWN_CAR</th>\n",
       "      <th>FLAG_OWN_REALTY</th>\n",
       "      <th>CNT_CHILDREN</th>\n",
       "      <th>AMT_INCOME_TOTAL</th>\n",
       "      <th>NAME_INCOME_TYPE</th>\n",
       "      <th>NAME_EDUCATION_TYPE</th>\n",
       "      <th>NAME_FAMILY_STATUS</th>\n",
       "      <th>NAME_HOUSING_TYPE</th>\n",
       "      <th>DAYS_BIRTH</th>\n",
       "      <th>DAYS_EMPLOYED</th>\n",
       "      <th>FLAG_MOBIL</th>\n",
       "      <th>FLAG_WORK_PHONE</th>\n",
       "      <th>FLAG_PHONE</th>\n",
       "      <th>FLAG_EMAIL</th>\n",
       "      <th>OCCUPATION_TYPE</th>\n",
       "      <th>CNT_FAM_MEMBERS</th>\n",
       "    </tr>\n",
       "  </thead>\n",
       "  <tbody>\n",
       "    <tr>\n",
       "      <th>0</th>\n",
       "      <td>5008804</td>\n",
       "      <td>M</td>\n",
       "      <td>Y</td>\n",
       "      <td>Y</td>\n",
       "      <td>0</td>\n",
       "      <td>427500.0</td>\n",
       "      <td>Working</td>\n",
       "      <td>Higher education</td>\n",
       "      <td>Civil marriage</td>\n",
       "      <td>Rented apartment</td>\n",
       "      <td>-12005</td>\n",
       "      <td>-4542</td>\n",
       "      <td>1</td>\n",
       "      <td>1</td>\n",
       "      <td>0</td>\n",
       "      <td>0</td>\n",
       "      <td>NaN</td>\n",
       "      <td>2.0</td>\n",
       "    </tr>\n",
       "    <tr>\n",
       "      <th>1</th>\n",
       "      <td>5008805</td>\n",
       "      <td>M</td>\n",
       "      <td>Y</td>\n",
       "      <td>Y</td>\n",
       "      <td>0</td>\n",
       "      <td>427500.0</td>\n",
       "      <td>Working</td>\n",
       "      <td>Higher education</td>\n",
       "      <td>Civil marriage</td>\n",
       "      <td>Rented apartment</td>\n",
       "      <td>-12005</td>\n",
       "      <td>-4542</td>\n",
       "      <td>1</td>\n",
       "      <td>1</td>\n",
       "      <td>0</td>\n",
       "      <td>0</td>\n",
       "      <td>NaN</td>\n",
       "      <td>2.0</td>\n",
       "    </tr>\n",
       "    <tr>\n",
       "      <th>2</th>\n",
       "      <td>5008806</td>\n",
       "      <td>M</td>\n",
       "      <td>Y</td>\n",
       "      <td>Y</td>\n",
       "      <td>0</td>\n",
       "      <td>112500.0</td>\n",
       "      <td>Working</td>\n",
       "      <td>Secondary / secondary special</td>\n",
       "      <td>Married</td>\n",
       "      <td>House / apartment</td>\n",
       "      <td>-21474</td>\n",
       "      <td>-1134</td>\n",
       "      <td>1</td>\n",
       "      <td>0</td>\n",
       "      <td>0</td>\n",
       "      <td>0</td>\n",
       "      <td>Security staff</td>\n",
       "      <td>2.0</td>\n",
       "    </tr>\n",
       "    <tr>\n",
       "      <th>3</th>\n",
       "      <td>5008808</td>\n",
       "      <td>F</td>\n",
       "      <td>N</td>\n",
       "      <td>Y</td>\n",
       "      <td>0</td>\n",
       "      <td>270000.0</td>\n",
       "      <td>Commercial associate</td>\n",
       "      <td>Secondary / secondary special</td>\n",
       "      <td>Single / not married</td>\n",
       "      <td>House / apartment</td>\n",
       "      <td>-19110</td>\n",
       "      <td>-3051</td>\n",
       "      <td>1</td>\n",
       "      <td>0</td>\n",
       "      <td>1</td>\n",
       "      <td>1</td>\n",
       "      <td>Sales staff</td>\n",
       "      <td>1.0</td>\n",
       "    </tr>\n",
       "    <tr>\n",
       "      <th>4</th>\n",
       "      <td>5008809</td>\n",
       "      <td>F</td>\n",
       "      <td>N</td>\n",
       "      <td>Y</td>\n",
       "      <td>0</td>\n",
       "      <td>270000.0</td>\n",
       "      <td>Commercial associate</td>\n",
       "      <td>Secondary / secondary special</td>\n",
       "      <td>Single / not married</td>\n",
       "      <td>House / apartment</td>\n",
       "      <td>-19110</td>\n",
       "      <td>-3051</td>\n",
       "      <td>1</td>\n",
       "      <td>0</td>\n",
       "      <td>1</td>\n",
       "      <td>1</td>\n",
       "      <td>Sales staff</td>\n",
       "      <td>1.0</td>\n",
       "    </tr>\n",
       "  </tbody>\n",
       "</table>\n",
       "</div>"
      ]
     },
     "execution_count": 50,
     "metadata": {},
     "output_type": "execute_result"
    }
   ],
   "execution_count": 50
  },
  {
   "cell_type": "code",
   "id": "7efc72be76bedcd9",
   "metadata": {
    "tags": [
     "Exploratory Data Analysis (EDA)"
    ],
    "ExecuteTime": {
     "end_time": "2024-12-24T17:00:17.427094Z",
     "start_time": "2024-12-24T17:00:17.410500Z"
    }
   },
   "source": [
    "print('Data Tail')\n",
    "df.tail()"
   ],
   "outputs": [
    {
     "name": "stdout",
     "output_type": "stream",
     "text": [
      "Data Tail\n"
     ]
    },
    {
     "data": {
      "text/plain": [
       "             ID CODE_GENDER FLAG_OWN_CAR FLAG_OWN_REALTY  CNT_CHILDREN  \\\n",
       "438552  6840104           M            N               Y             0   \n",
       "438553  6840222           F            N               N             0   \n",
       "438554  6841878           F            N               N             0   \n",
       "438555  6842765           F            N               Y             0   \n",
       "438556  6842885           F            N               Y             0   \n",
       "\n",
       "        AMT_INCOME_TOTAL      NAME_INCOME_TYPE            NAME_EDUCATION_TYPE  \\\n",
       "438552          135000.0             Pensioner  Secondary / secondary special   \n",
       "438553          103500.0               Working  Secondary / secondary special   \n",
       "438554           54000.0  Commercial associate               Higher education   \n",
       "438555           72000.0             Pensioner  Secondary / secondary special   \n",
       "438556          121500.0               Working  Secondary / secondary special   \n",
       "\n",
       "          NAME_FAMILY_STATUS  NAME_HOUSING_TYPE  DAYS_BIRTH  DAYS_EMPLOYED  \\\n",
       "438552             Separated  House / apartment      -22717         365243   \n",
       "438553  Single / not married  House / apartment      -15939          -3007   \n",
       "438554  Single / not married       With parents       -8169           -372   \n",
       "438555               Married  House / apartment      -21673         365243   \n",
       "438556               Married  House / apartment      -18858          -1201   \n",
       "\n",
       "        FLAG_MOBIL  FLAG_WORK_PHONE  FLAG_PHONE  FLAG_EMAIL OCCUPATION_TYPE  \\\n",
       "438552           1                0           0           0             NaN   \n",
       "438553           1                0           0           0        Laborers   \n",
       "438554           1                1           0           0     Sales staff   \n",
       "438555           1                0           0           0             NaN   \n",
       "438556           1                0           1           0     Sales staff   \n",
       "\n",
       "        CNT_FAM_MEMBERS  \n",
       "438552              1.0  \n",
       "438553              1.0  \n",
       "438554              1.0  \n",
       "438555              2.0  \n",
       "438556              2.0  "
      ],
      "text/html": [
       "<div>\n",
       "<style scoped>\n",
       "    .dataframe tbody tr th:only-of-type {\n",
       "        vertical-align: middle;\n",
       "    }\n",
       "\n",
       "    .dataframe tbody tr th {\n",
       "        vertical-align: top;\n",
       "    }\n",
       "\n",
       "    .dataframe thead th {\n",
       "        text-align: right;\n",
       "    }\n",
       "</style>\n",
       "<table border=\"1\" class=\"dataframe\">\n",
       "  <thead>\n",
       "    <tr style=\"text-align: right;\">\n",
       "      <th></th>\n",
       "      <th>ID</th>\n",
       "      <th>CODE_GENDER</th>\n",
       "      <th>FLAG_OWN_CAR</th>\n",
       "      <th>FLAG_OWN_REALTY</th>\n",
       "      <th>CNT_CHILDREN</th>\n",
       "      <th>AMT_INCOME_TOTAL</th>\n",
       "      <th>NAME_INCOME_TYPE</th>\n",
       "      <th>NAME_EDUCATION_TYPE</th>\n",
       "      <th>NAME_FAMILY_STATUS</th>\n",
       "      <th>NAME_HOUSING_TYPE</th>\n",
       "      <th>DAYS_BIRTH</th>\n",
       "      <th>DAYS_EMPLOYED</th>\n",
       "      <th>FLAG_MOBIL</th>\n",
       "      <th>FLAG_WORK_PHONE</th>\n",
       "      <th>FLAG_PHONE</th>\n",
       "      <th>FLAG_EMAIL</th>\n",
       "      <th>OCCUPATION_TYPE</th>\n",
       "      <th>CNT_FAM_MEMBERS</th>\n",
       "    </tr>\n",
       "  </thead>\n",
       "  <tbody>\n",
       "    <tr>\n",
       "      <th>438552</th>\n",
       "      <td>6840104</td>\n",
       "      <td>M</td>\n",
       "      <td>N</td>\n",
       "      <td>Y</td>\n",
       "      <td>0</td>\n",
       "      <td>135000.0</td>\n",
       "      <td>Pensioner</td>\n",
       "      <td>Secondary / secondary special</td>\n",
       "      <td>Separated</td>\n",
       "      <td>House / apartment</td>\n",
       "      <td>-22717</td>\n",
       "      <td>365243</td>\n",
       "      <td>1</td>\n",
       "      <td>0</td>\n",
       "      <td>0</td>\n",
       "      <td>0</td>\n",
       "      <td>NaN</td>\n",
       "      <td>1.0</td>\n",
       "    </tr>\n",
       "    <tr>\n",
       "      <th>438553</th>\n",
       "      <td>6840222</td>\n",
       "      <td>F</td>\n",
       "      <td>N</td>\n",
       "      <td>N</td>\n",
       "      <td>0</td>\n",
       "      <td>103500.0</td>\n",
       "      <td>Working</td>\n",
       "      <td>Secondary / secondary special</td>\n",
       "      <td>Single / not married</td>\n",
       "      <td>House / apartment</td>\n",
       "      <td>-15939</td>\n",
       "      <td>-3007</td>\n",
       "      <td>1</td>\n",
       "      <td>0</td>\n",
       "      <td>0</td>\n",
       "      <td>0</td>\n",
       "      <td>Laborers</td>\n",
       "      <td>1.0</td>\n",
       "    </tr>\n",
       "    <tr>\n",
       "      <th>438554</th>\n",
       "      <td>6841878</td>\n",
       "      <td>F</td>\n",
       "      <td>N</td>\n",
       "      <td>N</td>\n",
       "      <td>0</td>\n",
       "      <td>54000.0</td>\n",
       "      <td>Commercial associate</td>\n",
       "      <td>Higher education</td>\n",
       "      <td>Single / not married</td>\n",
       "      <td>With parents</td>\n",
       "      <td>-8169</td>\n",
       "      <td>-372</td>\n",
       "      <td>1</td>\n",
       "      <td>1</td>\n",
       "      <td>0</td>\n",
       "      <td>0</td>\n",
       "      <td>Sales staff</td>\n",
       "      <td>1.0</td>\n",
       "    </tr>\n",
       "    <tr>\n",
       "      <th>438555</th>\n",
       "      <td>6842765</td>\n",
       "      <td>F</td>\n",
       "      <td>N</td>\n",
       "      <td>Y</td>\n",
       "      <td>0</td>\n",
       "      <td>72000.0</td>\n",
       "      <td>Pensioner</td>\n",
       "      <td>Secondary / secondary special</td>\n",
       "      <td>Married</td>\n",
       "      <td>House / apartment</td>\n",
       "      <td>-21673</td>\n",
       "      <td>365243</td>\n",
       "      <td>1</td>\n",
       "      <td>0</td>\n",
       "      <td>0</td>\n",
       "      <td>0</td>\n",
       "      <td>NaN</td>\n",
       "      <td>2.0</td>\n",
       "    </tr>\n",
       "    <tr>\n",
       "      <th>438556</th>\n",
       "      <td>6842885</td>\n",
       "      <td>F</td>\n",
       "      <td>N</td>\n",
       "      <td>Y</td>\n",
       "      <td>0</td>\n",
       "      <td>121500.0</td>\n",
       "      <td>Working</td>\n",
       "      <td>Secondary / secondary special</td>\n",
       "      <td>Married</td>\n",
       "      <td>House / apartment</td>\n",
       "      <td>-18858</td>\n",
       "      <td>-1201</td>\n",
       "      <td>1</td>\n",
       "      <td>0</td>\n",
       "      <td>1</td>\n",
       "      <td>0</td>\n",
       "      <td>Sales staff</td>\n",
       "      <td>2.0</td>\n",
       "    </tr>\n",
       "  </tbody>\n",
       "</table>\n",
       "</div>"
      ]
     },
     "execution_count": 14,
     "metadata": {},
     "output_type": "execute_result"
    }
   ],
   "execution_count": 14
  },
  {
   "cell_type": "code",
   "id": "94be96ea4f454c75",
   "metadata": {
    "tags": [
     "Missing Value Treatments"
    ],
    "ExecuteTime": {
     "end_time": "2024-12-24T17:00:37.212680Z",
     "start_time": "2024-12-24T17:00:37.099275Z"
    }
   },
   "source": [
    "print('Data Information')\n",
    "df.info()"
   ],
   "outputs": [
    {
     "name": "stdout",
     "output_type": "stream",
     "text": [
      "Data Information\n",
      "<class 'pandas.core.frame.DataFrame'>\n",
      "RangeIndex: 438557 entries, 0 to 438556\n",
      "Data columns (total 18 columns):\n",
      " #   Column               Non-Null Count   Dtype  \n",
      "---  ------               --------------   -----  \n",
      " 0   ID                   438557 non-null  int64  \n",
      " 1   CODE_GENDER          438557 non-null  object \n",
      " 2   FLAG_OWN_CAR         438557 non-null  object \n",
      " 3   FLAG_OWN_REALTY      438557 non-null  object \n",
      " 4   CNT_CHILDREN         438557 non-null  int64  \n",
      " 5   AMT_INCOME_TOTAL     438557 non-null  float64\n",
      " 6   NAME_INCOME_TYPE     438557 non-null  object \n",
      " 7   NAME_EDUCATION_TYPE  438557 non-null  object \n",
      " 8   NAME_FAMILY_STATUS   438557 non-null  object \n",
      " 9   NAME_HOUSING_TYPE    438557 non-null  object \n",
      " 10  DAYS_BIRTH           438557 non-null  int64  \n",
      " 11  DAYS_EMPLOYED        438557 non-null  int64  \n",
      " 12  FLAG_MOBIL           438557 non-null  int64  \n",
      " 13  FLAG_WORK_PHONE      438557 non-null  int64  \n",
      " 14  FLAG_PHONE           438557 non-null  int64  \n",
      " 15  FLAG_EMAIL           438557 non-null  int64  \n",
      " 16  OCCUPATION_TYPE      304354 non-null  object \n",
      " 17  CNT_FAM_MEMBERS      438557 non-null  float64\n",
      "dtypes: float64(2), int64(8), object(8)\n",
      "memory usage: 60.2+ MB\n"
     ]
    }
   ],
   "execution_count": 15
  },
  {
   "cell_type": "code",
   "id": "f672df699b65f2d2",
   "metadata": {
    "tags": [
     "Outliers Treatment"
    ],
    "ExecuteTime": {
     "end_time": "2024-12-24T17:01:01.604625Z",
     "start_time": "2024-12-24T17:01:01.597593Z"
    }
   },
   "source": "print(f\"Dataset contains {df.shape[0]} rows and {df.shape[1]} columns.\")",
   "outputs": [
    {
     "name": "stdout",
     "output_type": "stream",
     "text": [
      "Dataset contains 438557 rows and 18 columns.\n"
     ]
    }
   ],
   "execution_count": 16
  },
  {
   "cell_type": "code",
   "id": "d32c5ed4ac4ed936",
   "metadata": {
    "tags": [
     "Duplicate Treatment"
    ],
    "ExecuteTime": {
     "end_time": "2024-12-24T17:01:25.601612Z",
     "start_time": "2024-12-24T17:01:25.400233Z"
    }
   },
   "source": "df.describe(include = \"object\")",
   "outputs": [
    {
     "data": {
      "text/plain": [
       "       CODE_GENDER FLAG_OWN_CAR FLAG_OWN_REALTY NAME_INCOME_TYPE  \\\n",
       "count       438557       438557          438557           438557   \n",
       "unique           2            2               2                5   \n",
       "top              F            N               Y          Working   \n",
       "freq        294440       275459          304074           226104   \n",
       "\n",
       "                  NAME_EDUCATION_TYPE NAME_FAMILY_STATUS  NAME_HOUSING_TYPE  \\\n",
       "count                          438557             438557             438557   \n",
       "unique                              5                  5                  6   \n",
       "top     Secondary / secondary special            Married  House / apartment   \n",
       "freq                           301821             299828             393831   \n",
       "\n",
       "       OCCUPATION_TYPE  \n",
       "count           304354  \n",
       "unique              18  \n",
       "top           Laborers  \n",
       "freq             78240  "
      ],
      "text/html": [
       "<div>\n",
       "<style scoped>\n",
       "    .dataframe tbody tr th:only-of-type {\n",
       "        vertical-align: middle;\n",
       "    }\n",
       "\n",
       "    .dataframe tbody tr th {\n",
       "        vertical-align: top;\n",
       "    }\n",
       "\n",
       "    .dataframe thead th {\n",
       "        text-align: right;\n",
       "    }\n",
       "</style>\n",
       "<table border=\"1\" class=\"dataframe\">\n",
       "  <thead>\n",
       "    <tr style=\"text-align: right;\">\n",
       "      <th></th>\n",
       "      <th>CODE_GENDER</th>\n",
       "      <th>FLAG_OWN_CAR</th>\n",
       "      <th>FLAG_OWN_REALTY</th>\n",
       "      <th>NAME_INCOME_TYPE</th>\n",
       "      <th>NAME_EDUCATION_TYPE</th>\n",
       "      <th>NAME_FAMILY_STATUS</th>\n",
       "      <th>NAME_HOUSING_TYPE</th>\n",
       "      <th>OCCUPATION_TYPE</th>\n",
       "    </tr>\n",
       "  </thead>\n",
       "  <tbody>\n",
       "    <tr>\n",
       "      <th>count</th>\n",
       "      <td>438557</td>\n",
       "      <td>438557</td>\n",
       "      <td>438557</td>\n",
       "      <td>438557</td>\n",
       "      <td>438557</td>\n",
       "      <td>438557</td>\n",
       "      <td>438557</td>\n",
       "      <td>304354</td>\n",
       "    </tr>\n",
       "    <tr>\n",
       "      <th>unique</th>\n",
       "      <td>2</td>\n",
       "      <td>2</td>\n",
       "      <td>2</td>\n",
       "      <td>5</td>\n",
       "      <td>5</td>\n",
       "      <td>5</td>\n",
       "      <td>6</td>\n",
       "      <td>18</td>\n",
       "    </tr>\n",
       "    <tr>\n",
       "      <th>top</th>\n",
       "      <td>F</td>\n",
       "      <td>N</td>\n",
       "      <td>Y</td>\n",
       "      <td>Working</td>\n",
       "      <td>Secondary / secondary special</td>\n",
       "      <td>Married</td>\n",
       "      <td>House / apartment</td>\n",
       "      <td>Laborers</td>\n",
       "    </tr>\n",
       "    <tr>\n",
       "      <th>freq</th>\n",
       "      <td>294440</td>\n",
       "      <td>275459</td>\n",
       "      <td>304074</td>\n",
       "      <td>226104</td>\n",
       "      <td>301821</td>\n",
       "      <td>299828</td>\n",
       "      <td>393831</td>\n",
       "      <td>78240</td>\n",
       "    </tr>\n",
       "  </tbody>\n",
       "</table>\n",
       "</div>"
      ]
     },
     "execution_count": 17,
     "metadata": {},
     "output_type": "execute_result"
    }
   ],
   "execution_count": 17
  },
  {
   "cell_type": "code",
   "id": "eff734878469fecf",
   "metadata": {
    "ExecuteTime": {
     "end_time": "2024-12-24T17:02:11.998551Z",
     "start_time": "2024-12-24T17:02:11.845631Z"
    }
   },
   "source": [
    "for col in df.select_dtypes(include='object').columns:\n",
    "    print(f\"Value counts for {col}:\\n{df[col].value_counts()}\\n\")\n",
    "\n"
   ],
   "outputs": [
    {
     "name": "stdout",
     "output_type": "stream",
     "text": [
      "Value counts for CODE_GENDER:\n",
      "CODE_GENDER\n",
      "F    294440\n",
      "M    144117\n",
      "Name: count, dtype: int64\n",
      "\n",
      "Value counts for FLAG_OWN_CAR:\n",
      "FLAG_OWN_CAR\n",
      "N    275459\n",
      "Y    163098\n",
      "Name: count, dtype: int64\n",
      "\n",
      "Value counts for FLAG_OWN_REALTY:\n",
      "FLAG_OWN_REALTY\n",
      "Y    304074\n",
      "N    134483\n",
      "Name: count, dtype: int64\n",
      "\n",
      "Value counts for NAME_INCOME_TYPE:\n",
      "NAME_INCOME_TYPE\n",
      "Working                 226104\n",
      "Commercial associate    100757\n",
      "Pensioner                75493\n",
      "State servant            36186\n",
      "Student                     17\n",
      "Name: count, dtype: int64\n",
      "\n",
      "Value counts for NAME_EDUCATION_TYPE:\n",
      "NAME_EDUCATION_TYPE\n",
      "Secondary / secondary special    301821\n",
      "Higher education                 117522\n",
      "Incomplete higher                 14851\n",
      "Lower secondary                    4051\n",
      "Academic degree                     312\n",
      "Name: count, dtype: int64\n",
      "\n",
      "Value counts for NAME_FAMILY_STATUS:\n",
      "NAME_FAMILY_STATUS\n",
      "Married                 299828\n",
      "Single / not married     55271\n",
      "Civil marriage           36532\n",
      "Separated                27251\n",
      "Widow                    19675\n",
      "Name: count, dtype: int64\n",
      "\n",
      "Value counts for NAME_HOUSING_TYPE:\n",
      "NAME_HOUSING_TYPE\n",
      "House / apartment      393831\n",
      "With parents            19077\n",
      "Municipal apartment     14214\n",
      "Rented apartment         5974\n",
      "Office apartment         3922\n",
      "Co-op apartment          1539\n",
      "Name: count, dtype: int64\n",
      "\n",
      "Value counts for OCCUPATION_TYPE:\n",
      "OCCUPATION_TYPE\n",
      "Laborers                 78240\n",
      "Core staff               43007\n",
      "Sales staff              41098\n",
      "Managers                 35487\n",
      "Drivers                  26090\n",
      "High skill tech staff    17289\n",
      "Accountants              15985\n",
      "Medicine staff           13520\n",
      "Cooking staff             8076\n",
      "Security staff            7993\n",
      "Cleaning staff            5845\n",
      "Private service staff     3456\n",
      "Low-skill Laborers        2140\n",
      "Secretaries               2044\n",
      "Waiters/barmen staff      1665\n",
      "Realty agents             1041\n",
      "HR staff                   774\n",
      "IT staff                   604\n",
      "Name: count, dtype: int64\n",
      "\n"
     ]
    }
   ],
   "execution_count": 18
  },
  {
   "cell_type": "code",
   "id": "5c3ed26b18baf0f6",
   "metadata": {
    "ExecuteTime": {
     "end_time": "2024-12-24T17:06:13.824231Z",
     "start_time": "2024-12-24T17:06:13.796560Z"
    }
   },
   "source": [
    "# Check relationships between variables using scatter plot\n",
    "numeric_columns = df.select_dtypes(include = \"number\").columns\n",
    "# Check if 'Application Record' is in numeric_columns before dropping\n",
    "if 'Application Record' in numeric_columns:\n",
    "    numeric_columns = numeric_columns.drop('Application Record')\n",
    "print(numeric_columns)\n",
    "print(df.shape)\n"
   ],
   "outputs": [
    {
     "name": "stdout",
     "output_type": "stream",
     "text": [
      "Index(['ID', 'CNT_CHILDREN', 'AMT_INCOME_TOTAL', 'DAYS_BIRTH', 'DAYS_EMPLOYED',\n",
      "       'FLAG_MOBIL', 'FLAG_WORK_PHONE', 'FLAG_PHONE', 'FLAG_EMAIL',\n",
      "       'CNT_FAM_MEMBERS'],\n",
      "      dtype='object')\n",
      "(438557, 18)\n"
     ]
    }
   ],
   "execution_count": 21
  },
  {
   "cell_type": "code",
   "id": "c0e3f23f3943d333",
   "metadata": {
    "ExecuteTime": {
     "end_time": "2024-12-24T17:07:02.080042Z",
     "start_time": "2024-12-24T17:07:02.001748Z"
    }
   },
   "source": [
    "# Check for missing values:\n",
    "df.isnull().sum() #30%"
   ],
   "outputs": [
    {
     "data": {
      "text/plain": [
       "ID                          0\n",
       "CODE_GENDER                 0\n",
       "FLAG_OWN_CAR                0\n",
       "FLAG_OWN_REALTY             0\n",
       "CNT_CHILDREN                0\n",
       "AMT_INCOME_TOTAL            0\n",
       "NAME_INCOME_TYPE            0\n",
       "NAME_EDUCATION_TYPE         0\n",
       "NAME_FAMILY_STATUS          0\n",
       "NAME_HOUSING_TYPE           0\n",
       "DAYS_BIRTH                  0\n",
       "DAYS_EMPLOYED               0\n",
       "FLAG_MOBIL                  0\n",
       "FLAG_WORK_PHONE             0\n",
       "FLAG_PHONE                  0\n",
       "FLAG_EMAIL                  0\n",
       "OCCUPATION_TYPE        134203\n",
       "CNT_FAM_MEMBERS             0\n",
       "dtype: int64"
      ]
     },
     "execution_count": 22,
     "metadata": {},
     "output_type": "execute_result"
    }
   ],
   "execution_count": 22
  },
  {
   "cell_type": "code",
   "id": "100e8560",
   "metadata": {
    "ExecuteTime": {
     "end_time": "2024-12-24T18:28:11.987514Z",
     "start_time": "2024-12-24T18:28:11.770477Z"
    }
   },
   "source": [
    "# Get all rows with duplicate IDs\n",
    "duplicate_sample = df[df['ID'].duplicated(keep=False)]\n",
    "\n",
    "# Count the total number of rows with duplicate IDs\n",
    "total_duplicates = len(duplicate_sample)\n",
    "\n",
    "# Calculate the percentage of duplicate records\n",
    "percentage_duplicates = (total_duplicates / len(df)) * 100\n",
    "\n",
    "# Group by ID and explicitly exclude the grouping column for conflict detection\n",
    "conflicts = (\n",
    "    duplicate_sample.groupby('ID', group_keys=False)\n",
    "    .apply(lambda group: group['CODE_GENDER'].nunique() > 1)\n",
    ")\n",
    "conflicting_ids = conflicts[conflicts].index.tolist()\n",
    "\n",
    "# Output results\n",
    "print(f\"Number of duplicate rows: {df.duplicated().sum()}\")\n",
    "print(f\"Total duplicate ID rows: {total_duplicates}\")\n",
    "print(f\"Percentage of duplicate rows: {percentage_duplicates:.2f}%\")\n",
    "print(f\"Number of conflicting IDs: {len(conflicting_ids)}\")\n",
    "print(f\"Conflicting IDs: {conflicting_ids[:26]} (showing first 10)\")\n"
   ],
   "outputs": [
    {
     "name": "stdout",
     "output_type": "stream",
     "text": [
      "Number of duplicate rows: 0\n",
      "Total duplicate ID rows: 94\n",
      "Percentage of duplicate rows: 0.02%\n",
      "Number of conflicting IDs: 26\n",
      "Conflicting IDs: [7022197, 7022327, 7023108, 7023651, 7024111, 7045885, 7091721, 7137299, 7154598, 7154819, 7243768, 7317997, 7416167, 7576316, 7602432, 7603224, 7618285, 7636389, 7742298, 7742853, 7743418, 7744386, 7833087, 7836711, 7836971, 7838075] (showing first 10)\n"
     ]
    },
    {
     "name": "stderr",
     "output_type": "stream",
     "text": [
      "/var/folders/q_/ffbdvtfx16s23l4197jvl3vh0000gn/T/ipykernel_9167/3934967248.py:13: DeprecationWarning: DataFrameGroupBy.apply operated on the grouping columns. This behavior is deprecated, and in a future version of pandas the grouping columns will be excluded from the operation. Either pass `include_groups=False` to exclude the groupings or explicitly select the grouping columns after groupby to silence this warning.\n",
      "  .apply(lambda group: group['CODE_GENDER'].nunique() > 1)\n"
     ]
    }
   ],
   "execution_count": 55
  },
  {
   "cell_type": "code",
   "id": "f3fc527f",
   "metadata": {
    "ExecuteTime": {
     "end_time": "2024-12-24T18:30:43.662269Z",
     "start_time": "2024-12-24T18:28:35.669607Z"
    }
   },
   "source": [
    "def count_repeats(column):\n",
    "    return column.mode().iloc[0]  # Gets the most frequent value (mode)\n",
    "\n",
    "# Group by ID and aggregate each column\n",
    "result = df.groupby('ID').agg(lambda x: x.mode().iloc[0] if x.dtype == 'O' else x.mean()).reset_index()\n",
    "\n",
    "# Display the final result\n",
    "print(result)"
   ],
   "outputs": [
    {
     "ename": "IndexError",
     "evalue": "single positional indexer is out-of-bounds",
     "output_type": "error",
     "traceback": [
      "\u001B[0;31m---------------------------------------------------------------------------\u001B[0m",
      "\u001B[0;31mIndexError\u001B[0m                                Traceback (most recent call last)",
      "Cell \u001B[0;32mIn[56], line 5\u001B[0m\n\u001B[1;32m      2\u001B[0m     \u001B[38;5;28;01mreturn\u001B[39;00m column\u001B[38;5;241m.\u001B[39mmode()\u001B[38;5;241m.\u001B[39miloc[\u001B[38;5;241m0\u001B[39m]  \u001B[38;5;66;03m# Gets the most frequent value (mode)\u001B[39;00m\n\u001B[1;32m      4\u001B[0m \u001B[38;5;66;03m# Group by ID and aggregate each column\u001B[39;00m\n\u001B[0;32m----> 5\u001B[0m result \u001B[38;5;241m=\u001B[39m \u001B[43mdf\u001B[49m\u001B[38;5;241;43m.\u001B[39;49m\u001B[43mgroupby\u001B[49m\u001B[43m(\u001B[49m\u001B[38;5;124;43m'\u001B[39;49m\u001B[38;5;124;43mID\u001B[39;49m\u001B[38;5;124;43m'\u001B[39;49m\u001B[43m)\u001B[49m\u001B[38;5;241;43m.\u001B[39;49m\u001B[43magg\u001B[49m\u001B[43m(\u001B[49m\u001B[38;5;28;43;01mlambda\u001B[39;49;00m\u001B[43m \u001B[49m\u001B[43mx\u001B[49m\u001B[43m:\u001B[49m\u001B[43m \u001B[49m\u001B[43mx\u001B[49m\u001B[38;5;241;43m.\u001B[39;49m\u001B[43mmode\u001B[49m\u001B[43m(\u001B[49m\u001B[43m)\u001B[49m\u001B[38;5;241;43m.\u001B[39;49m\u001B[43miloc\u001B[49m\u001B[43m[\u001B[49m\u001B[38;5;241;43m0\u001B[39;49m\u001B[43m]\u001B[49m\u001B[43m \u001B[49m\u001B[38;5;28;43;01mif\u001B[39;49;00m\u001B[43m \u001B[49m\u001B[43mx\u001B[49m\u001B[38;5;241;43m.\u001B[39;49m\u001B[43mdtype\u001B[49m\u001B[43m \u001B[49m\u001B[38;5;241;43m==\u001B[39;49m\u001B[43m \u001B[49m\u001B[38;5;124;43m'\u001B[39;49m\u001B[38;5;124;43mO\u001B[39;49m\u001B[38;5;124;43m'\u001B[39;49m\u001B[43m \u001B[49m\u001B[38;5;28;43;01melse\u001B[39;49;00m\u001B[43m \u001B[49m\u001B[43mx\u001B[49m\u001B[38;5;241;43m.\u001B[39;49m\u001B[43mmean\u001B[49m\u001B[43m(\u001B[49m\u001B[43m)\u001B[49m\u001B[43m)\u001B[49m\u001B[38;5;241m.\u001B[39mreset_index()\n\u001B[1;32m      7\u001B[0m \u001B[38;5;66;03m# Display the final result\u001B[39;00m\n\u001B[1;32m      8\u001B[0m \u001B[38;5;28mprint\u001B[39m(result)\n",
      "File \u001B[0;32m~/miniconda3/lib/python3.12/site-packages/pandas/core/groupby/generic.py:1482\u001B[0m, in \u001B[0;36mDataFrameGroupBy.aggregate\u001B[0;34m(self, func, engine, engine_kwargs, *args, **kwargs)\u001B[0m\n\u001B[1;32m   1480\u001B[0m gba \u001B[38;5;241m=\u001B[39m GroupByApply(\u001B[38;5;28mself\u001B[39m, [func], args\u001B[38;5;241m=\u001B[39m(), kwargs\u001B[38;5;241m=\u001B[39m{})\n\u001B[1;32m   1481\u001B[0m \u001B[38;5;28;01mtry\u001B[39;00m:\n\u001B[0;32m-> 1482\u001B[0m     result \u001B[38;5;241m=\u001B[39m \u001B[43mgba\u001B[49m\u001B[38;5;241;43m.\u001B[39;49m\u001B[43magg\u001B[49m\u001B[43m(\u001B[49m\u001B[43m)\u001B[49m\n\u001B[1;32m   1484\u001B[0m \u001B[38;5;28;01mexcept\u001B[39;00m \u001B[38;5;167;01mValueError\u001B[39;00m \u001B[38;5;28;01mas\u001B[39;00m err:\n\u001B[1;32m   1485\u001B[0m     \u001B[38;5;28;01mif\u001B[39;00m \u001B[38;5;124m\"\u001B[39m\u001B[38;5;124mNo objects to concatenate\u001B[39m\u001B[38;5;124m\"\u001B[39m \u001B[38;5;129;01mnot\u001B[39;00m \u001B[38;5;129;01min\u001B[39;00m \u001B[38;5;28mstr\u001B[39m(err):\n",
      "File \u001B[0;32m~/miniconda3/lib/python3.12/site-packages/pandas/core/apply.py:193\u001B[0m, in \u001B[0;36mApply.agg\u001B[0;34m(self)\u001B[0m\n\u001B[1;32m    190\u001B[0m     \u001B[38;5;28;01mreturn\u001B[39;00m \u001B[38;5;28mself\u001B[39m\u001B[38;5;241m.\u001B[39magg_dict_like()\n\u001B[1;32m    191\u001B[0m \u001B[38;5;28;01melif\u001B[39;00m is_list_like(func):\n\u001B[1;32m    192\u001B[0m     \u001B[38;5;66;03m# we require a list, but not a 'str'\u001B[39;00m\n\u001B[0;32m--> 193\u001B[0m     \u001B[38;5;28;01mreturn\u001B[39;00m \u001B[38;5;28;43mself\u001B[39;49m\u001B[38;5;241;43m.\u001B[39;49m\u001B[43magg_list_like\u001B[49m\u001B[43m(\u001B[49m\u001B[43m)\u001B[49m\n\u001B[1;32m    195\u001B[0m \u001B[38;5;28;01mif\u001B[39;00m \u001B[38;5;28mcallable\u001B[39m(func):\n\u001B[1;32m    196\u001B[0m     f \u001B[38;5;241m=\u001B[39m com\u001B[38;5;241m.\u001B[39mget_cython_func(func)\n",
      "File \u001B[0;32m~/miniconda3/lib/python3.12/site-packages/pandas/core/apply.py:326\u001B[0m, in \u001B[0;36mApply.agg_list_like\u001B[0;34m(self)\u001B[0m\n\u001B[1;32m    318\u001B[0m \u001B[38;5;28;01mdef\u001B[39;00m \u001B[38;5;21magg_list_like\u001B[39m(\u001B[38;5;28mself\u001B[39m) \u001B[38;5;241m-\u001B[39m\u001B[38;5;241m>\u001B[39m DataFrame \u001B[38;5;241m|\u001B[39m Series:\n\u001B[1;32m    319\u001B[0m \u001B[38;5;250m    \u001B[39m\u001B[38;5;124;03m\"\"\"\u001B[39;00m\n\u001B[1;32m    320\u001B[0m \u001B[38;5;124;03m    Compute aggregation in the case of a list-like argument.\u001B[39;00m\n\u001B[1;32m    321\u001B[0m \n\u001B[0;32m   (...)\u001B[0m\n\u001B[1;32m    324\u001B[0m \u001B[38;5;124;03m    Result of aggregation.\u001B[39;00m\n\u001B[1;32m    325\u001B[0m \u001B[38;5;124;03m    \"\"\"\u001B[39;00m\n\u001B[0;32m--> 326\u001B[0m     \u001B[38;5;28;01mreturn\u001B[39;00m \u001B[38;5;28;43mself\u001B[39;49m\u001B[38;5;241;43m.\u001B[39;49m\u001B[43magg_or_apply_list_like\u001B[49m\u001B[43m(\u001B[49m\u001B[43mop_name\u001B[49m\u001B[38;5;241;43m=\u001B[39;49m\u001B[38;5;124;43m\"\u001B[39;49m\u001B[38;5;124;43magg\u001B[39;49m\u001B[38;5;124;43m\"\u001B[39;49m\u001B[43m)\u001B[49m\n",
      "File \u001B[0;32m~/miniconda3/lib/python3.12/site-packages/pandas/core/apply.py:1571\u001B[0m, in \u001B[0;36mGroupByApply.agg_or_apply_list_like\u001B[0;34m(self, op_name)\u001B[0m\n\u001B[1;32m   1566\u001B[0m \u001B[38;5;66;03m# Only set as_index=True on groupby objects, not Window or Resample\u001B[39;00m\n\u001B[1;32m   1567\u001B[0m \u001B[38;5;66;03m# that inherit from this class.\u001B[39;00m\n\u001B[1;32m   1568\u001B[0m \u001B[38;5;28;01mwith\u001B[39;00m com\u001B[38;5;241m.\u001B[39mtemp_setattr(\n\u001B[1;32m   1569\u001B[0m     obj, \u001B[38;5;124m\"\u001B[39m\u001B[38;5;124mas_index\u001B[39m\u001B[38;5;124m\"\u001B[39m, \u001B[38;5;28;01mTrue\u001B[39;00m, condition\u001B[38;5;241m=\u001B[39m\u001B[38;5;28mhasattr\u001B[39m(obj, \u001B[38;5;124m\"\u001B[39m\u001B[38;5;124mas_index\u001B[39m\u001B[38;5;124m\"\u001B[39m)\n\u001B[1;32m   1570\u001B[0m ):\n\u001B[0;32m-> 1571\u001B[0m     keys, results \u001B[38;5;241m=\u001B[39m \u001B[38;5;28;43mself\u001B[39;49m\u001B[38;5;241;43m.\u001B[39;49m\u001B[43mcompute_list_like\u001B[49m\u001B[43m(\u001B[49m\u001B[43mop_name\u001B[49m\u001B[43m,\u001B[49m\u001B[43m \u001B[49m\u001B[43mselected_obj\u001B[49m\u001B[43m,\u001B[49m\u001B[43m \u001B[49m\u001B[43mkwargs\u001B[49m\u001B[43m)\u001B[49m\n\u001B[1;32m   1572\u001B[0m result \u001B[38;5;241m=\u001B[39m \u001B[38;5;28mself\u001B[39m\u001B[38;5;241m.\u001B[39mwrap_results_list_like(keys, results)\n\u001B[1;32m   1573\u001B[0m \u001B[38;5;28;01mreturn\u001B[39;00m result\n",
      "File \u001B[0;32m~/miniconda3/lib/python3.12/site-packages/pandas/core/apply.py:385\u001B[0m, in \u001B[0;36mApply.compute_list_like\u001B[0;34m(self, op_name, selected_obj, kwargs)\u001B[0m\n\u001B[1;32m    379\u001B[0m colg \u001B[38;5;241m=\u001B[39m obj\u001B[38;5;241m.\u001B[39m_gotitem(col, ndim\u001B[38;5;241m=\u001B[39m\u001B[38;5;241m1\u001B[39m, subset\u001B[38;5;241m=\u001B[39mselected_obj\u001B[38;5;241m.\u001B[39miloc[:, index])\n\u001B[1;32m    380\u001B[0m args \u001B[38;5;241m=\u001B[39m (\n\u001B[1;32m    381\u001B[0m     [\u001B[38;5;28mself\u001B[39m\u001B[38;5;241m.\u001B[39maxis, \u001B[38;5;241m*\u001B[39m\u001B[38;5;28mself\u001B[39m\u001B[38;5;241m.\u001B[39margs]\n\u001B[1;32m    382\u001B[0m     \u001B[38;5;28;01mif\u001B[39;00m include_axis(op_name, colg)\n\u001B[1;32m    383\u001B[0m     \u001B[38;5;28;01melse\u001B[39;00m \u001B[38;5;28mself\u001B[39m\u001B[38;5;241m.\u001B[39margs\n\u001B[1;32m    384\u001B[0m )\n\u001B[0;32m--> 385\u001B[0m new_res \u001B[38;5;241m=\u001B[39m \u001B[38;5;28;43mgetattr\u001B[39;49m\u001B[43m(\u001B[49m\u001B[43mcolg\u001B[49m\u001B[43m,\u001B[49m\u001B[43m \u001B[49m\u001B[43mop_name\u001B[49m\u001B[43m)\u001B[49m\u001B[43m(\u001B[49m\u001B[43mfunc\u001B[49m\u001B[43m,\u001B[49m\u001B[43m \u001B[49m\u001B[38;5;241;43m*\u001B[39;49m\u001B[43margs\u001B[49m\u001B[43m,\u001B[49m\u001B[43m \u001B[49m\u001B[38;5;241;43m*\u001B[39;49m\u001B[38;5;241;43m*\u001B[39;49m\u001B[43mkwargs\u001B[49m\u001B[43m)\u001B[49m\n\u001B[1;32m    386\u001B[0m results\u001B[38;5;241m.\u001B[39mappend(new_res)\n\u001B[1;32m    387\u001B[0m indices\u001B[38;5;241m.\u001B[39mappend(index)\n",
      "File \u001B[0;32m~/miniconda3/lib/python3.12/site-packages/pandas/core/groupby/generic.py:257\u001B[0m, in \u001B[0;36mSeriesGroupBy.aggregate\u001B[0;34m(self, func, engine, engine_kwargs, *args, **kwargs)\u001B[0m\n\u001B[1;32m    255\u001B[0m kwargs[\u001B[38;5;124m\"\u001B[39m\u001B[38;5;124mengine\u001B[39m\u001B[38;5;124m\"\u001B[39m] \u001B[38;5;241m=\u001B[39m engine\n\u001B[1;32m    256\u001B[0m kwargs[\u001B[38;5;124m\"\u001B[39m\u001B[38;5;124mengine_kwargs\u001B[39m\u001B[38;5;124m\"\u001B[39m] \u001B[38;5;241m=\u001B[39m engine_kwargs\n\u001B[0;32m--> 257\u001B[0m ret \u001B[38;5;241m=\u001B[39m \u001B[38;5;28;43mself\u001B[39;49m\u001B[38;5;241;43m.\u001B[39;49m\u001B[43m_aggregate_multiple_funcs\u001B[49m\u001B[43m(\u001B[49m\u001B[43mfunc\u001B[49m\u001B[43m,\u001B[49m\u001B[43m \u001B[49m\u001B[38;5;241;43m*\u001B[39;49m\u001B[43margs\u001B[49m\u001B[43m,\u001B[49m\u001B[43m \u001B[49m\u001B[38;5;241;43m*\u001B[39;49m\u001B[38;5;241;43m*\u001B[39;49m\u001B[43mkwargs\u001B[49m\u001B[43m)\u001B[49m\n\u001B[1;32m    258\u001B[0m \u001B[38;5;28;01mif\u001B[39;00m relabeling:\n\u001B[1;32m    259\u001B[0m     \u001B[38;5;66;03m# columns is not narrowed by mypy from relabeling flag\u001B[39;00m\n\u001B[1;32m    260\u001B[0m     \u001B[38;5;28;01massert\u001B[39;00m columns \u001B[38;5;129;01mis\u001B[39;00m \u001B[38;5;129;01mnot\u001B[39;00m \u001B[38;5;28;01mNone\u001B[39;00m  \u001B[38;5;66;03m# for mypy\u001B[39;00m\n",
      "File \u001B[0;32m~/miniconda3/lib/python3.12/site-packages/pandas/core/groupby/generic.py:362\u001B[0m, in \u001B[0;36mSeriesGroupBy._aggregate_multiple_funcs\u001B[0;34m(self, arg, *args, **kwargs)\u001B[0m\n\u001B[1;32m    360\u001B[0m     \u001B[38;5;28;01mfor\u001B[39;00m idx, (name, func) \u001B[38;5;129;01min\u001B[39;00m \u001B[38;5;28menumerate\u001B[39m(arg):\n\u001B[1;32m    361\u001B[0m         key \u001B[38;5;241m=\u001B[39m base\u001B[38;5;241m.\u001B[39mOutputKey(label\u001B[38;5;241m=\u001B[39mname, position\u001B[38;5;241m=\u001B[39midx)\n\u001B[0;32m--> 362\u001B[0m         results[key] \u001B[38;5;241m=\u001B[39m \u001B[38;5;28;43mself\u001B[39;49m\u001B[38;5;241;43m.\u001B[39;49m\u001B[43maggregate\u001B[49m\u001B[43m(\u001B[49m\u001B[43mfunc\u001B[49m\u001B[43m,\u001B[49m\u001B[43m \u001B[49m\u001B[38;5;241;43m*\u001B[39;49m\u001B[43margs\u001B[49m\u001B[43m,\u001B[49m\u001B[43m \u001B[49m\u001B[38;5;241;43m*\u001B[39;49m\u001B[38;5;241;43m*\u001B[39;49m\u001B[43mkwargs\u001B[49m\u001B[43m)\u001B[49m\n\u001B[1;32m    364\u001B[0m \u001B[38;5;28;01mif\u001B[39;00m \u001B[38;5;28many\u001B[39m(\u001B[38;5;28misinstance\u001B[39m(x, DataFrame) \u001B[38;5;28;01mfor\u001B[39;00m x \u001B[38;5;129;01min\u001B[39;00m results\u001B[38;5;241m.\u001B[39mvalues()):\n\u001B[1;32m    365\u001B[0m     \u001B[38;5;28;01mfrom\u001B[39;00m \u001B[38;5;21;01mpandas\u001B[39;00m \u001B[38;5;28;01mimport\u001B[39;00m concat\n",
      "File \u001B[0;32m~/miniconda3/lib/python3.12/site-packages/pandas/core/groupby/generic.py:294\u001B[0m, in \u001B[0;36mSeriesGroupBy.aggregate\u001B[0;34m(self, func, engine, engine_kwargs, *args, **kwargs)\u001B[0m\n\u001B[1;32m    291\u001B[0m     \u001B[38;5;28;01mreturn\u001B[39;00m \u001B[38;5;28mself\u001B[39m\u001B[38;5;241m.\u001B[39m_python_agg_general(func, \u001B[38;5;241m*\u001B[39margs, \u001B[38;5;241m*\u001B[39m\u001B[38;5;241m*\u001B[39mkwargs)\n\u001B[1;32m    293\u001B[0m \u001B[38;5;28;01mtry\u001B[39;00m:\n\u001B[0;32m--> 294\u001B[0m     \u001B[38;5;28;01mreturn\u001B[39;00m \u001B[38;5;28;43mself\u001B[39;49m\u001B[38;5;241;43m.\u001B[39;49m\u001B[43m_python_agg_general\u001B[49m\u001B[43m(\u001B[49m\u001B[43mfunc\u001B[49m\u001B[43m,\u001B[49m\u001B[43m \u001B[49m\u001B[38;5;241;43m*\u001B[39;49m\u001B[43margs\u001B[49m\u001B[43m,\u001B[49m\u001B[43m \u001B[49m\u001B[38;5;241;43m*\u001B[39;49m\u001B[38;5;241;43m*\u001B[39;49m\u001B[43mkwargs\u001B[49m\u001B[43m)\u001B[49m\n\u001B[1;32m    295\u001B[0m \u001B[38;5;28;01mexcept\u001B[39;00m \u001B[38;5;167;01mKeyError\u001B[39;00m:\n\u001B[1;32m    296\u001B[0m     \u001B[38;5;66;03m# KeyError raised in test_groupby.test_basic is bc the func does\u001B[39;00m\n\u001B[1;32m    297\u001B[0m     \u001B[38;5;66;03m#  a dictionary lookup on group.name, but group name is not\u001B[39;00m\n\u001B[1;32m    298\u001B[0m     \u001B[38;5;66;03m#  pinned in _python_agg_general, only in _aggregate_named\u001B[39;00m\n\u001B[1;32m    299\u001B[0m     result \u001B[38;5;241m=\u001B[39m \u001B[38;5;28mself\u001B[39m\u001B[38;5;241m.\u001B[39m_aggregate_named(func, \u001B[38;5;241m*\u001B[39margs, \u001B[38;5;241m*\u001B[39m\u001B[38;5;241m*\u001B[39mkwargs)\n",
      "File \u001B[0;32m~/miniconda3/lib/python3.12/site-packages/pandas/core/groupby/generic.py:327\u001B[0m, in \u001B[0;36mSeriesGroupBy._python_agg_general\u001B[0;34m(self, func, *args, **kwargs)\u001B[0m\n\u001B[1;32m    324\u001B[0m f \u001B[38;5;241m=\u001B[39m \u001B[38;5;28;01mlambda\u001B[39;00m x: func(x, \u001B[38;5;241m*\u001B[39margs, \u001B[38;5;241m*\u001B[39m\u001B[38;5;241m*\u001B[39mkwargs)\n\u001B[1;32m    326\u001B[0m obj \u001B[38;5;241m=\u001B[39m \u001B[38;5;28mself\u001B[39m\u001B[38;5;241m.\u001B[39m_obj_with_exclusions\n\u001B[0;32m--> 327\u001B[0m result \u001B[38;5;241m=\u001B[39m \u001B[38;5;28;43mself\u001B[39;49m\u001B[38;5;241;43m.\u001B[39;49m\u001B[43m_grouper\u001B[49m\u001B[38;5;241;43m.\u001B[39;49m\u001B[43magg_series\u001B[49m\u001B[43m(\u001B[49m\u001B[43mobj\u001B[49m\u001B[43m,\u001B[49m\u001B[43m \u001B[49m\u001B[43mf\u001B[49m\u001B[43m)\u001B[49m\n\u001B[1;32m    328\u001B[0m res \u001B[38;5;241m=\u001B[39m obj\u001B[38;5;241m.\u001B[39m_constructor(result, name\u001B[38;5;241m=\u001B[39mobj\u001B[38;5;241m.\u001B[39mname)\n\u001B[1;32m    329\u001B[0m \u001B[38;5;28;01mreturn\u001B[39;00m \u001B[38;5;28mself\u001B[39m\u001B[38;5;241m.\u001B[39m_wrap_aggregated_output(res)\n",
      "File \u001B[0;32m~/miniconda3/lib/python3.12/site-packages/pandas/core/groupby/ops.py:864\u001B[0m, in \u001B[0;36mBaseGrouper.agg_series\u001B[0;34m(self, obj, func, preserve_dtype)\u001B[0m\n\u001B[1;32m    857\u001B[0m \u001B[38;5;28;01mif\u001B[39;00m \u001B[38;5;129;01mnot\u001B[39;00m \u001B[38;5;28misinstance\u001B[39m(obj\u001B[38;5;241m.\u001B[39m_values, np\u001B[38;5;241m.\u001B[39mndarray):\n\u001B[1;32m    858\u001B[0m     \u001B[38;5;66;03m# we can preserve a little bit more aggressively with EA dtype\u001B[39;00m\n\u001B[1;32m    859\u001B[0m     \u001B[38;5;66;03m#  because maybe_cast_pointwise_result will do a try/except\u001B[39;00m\n\u001B[1;32m    860\u001B[0m     \u001B[38;5;66;03m#  with _from_sequence.  NB we are assuming here that _from_sequence\u001B[39;00m\n\u001B[1;32m    861\u001B[0m     \u001B[38;5;66;03m#  is sufficiently strict that it casts appropriately.\u001B[39;00m\n\u001B[1;32m    862\u001B[0m     preserve_dtype \u001B[38;5;241m=\u001B[39m \u001B[38;5;28;01mTrue\u001B[39;00m\n\u001B[0;32m--> 864\u001B[0m result \u001B[38;5;241m=\u001B[39m \u001B[38;5;28;43mself\u001B[39;49m\u001B[38;5;241;43m.\u001B[39;49m\u001B[43m_aggregate_series_pure_python\u001B[49m\u001B[43m(\u001B[49m\u001B[43mobj\u001B[49m\u001B[43m,\u001B[49m\u001B[43m \u001B[49m\u001B[43mfunc\u001B[49m\u001B[43m)\u001B[49m\n\u001B[1;32m    866\u001B[0m npvalues \u001B[38;5;241m=\u001B[39m lib\u001B[38;5;241m.\u001B[39mmaybe_convert_objects(result, try_float\u001B[38;5;241m=\u001B[39m\u001B[38;5;28;01mFalse\u001B[39;00m)\n\u001B[1;32m    867\u001B[0m \u001B[38;5;28;01mif\u001B[39;00m preserve_dtype:\n",
      "File \u001B[0;32m~/miniconda3/lib/python3.12/site-packages/pandas/core/groupby/ops.py:885\u001B[0m, in \u001B[0;36mBaseGrouper._aggregate_series_pure_python\u001B[0;34m(self, obj, func)\u001B[0m\n\u001B[1;32m    882\u001B[0m splitter \u001B[38;5;241m=\u001B[39m \u001B[38;5;28mself\u001B[39m\u001B[38;5;241m.\u001B[39m_get_splitter(obj, axis\u001B[38;5;241m=\u001B[39m\u001B[38;5;241m0\u001B[39m)\n\u001B[1;32m    884\u001B[0m \u001B[38;5;28;01mfor\u001B[39;00m i, group \u001B[38;5;129;01min\u001B[39;00m \u001B[38;5;28menumerate\u001B[39m(splitter):\n\u001B[0;32m--> 885\u001B[0m     res \u001B[38;5;241m=\u001B[39m \u001B[43mfunc\u001B[49m\u001B[43m(\u001B[49m\u001B[43mgroup\u001B[49m\u001B[43m)\u001B[49m\n\u001B[1;32m    886\u001B[0m     res \u001B[38;5;241m=\u001B[39m extract_result(res)\n\u001B[1;32m    888\u001B[0m     \u001B[38;5;28;01mif\u001B[39;00m \u001B[38;5;129;01mnot\u001B[39;00m initialized:\n\u001B[1;32m    889\u001B[0m         \u001B[38;5;66;03m# We only do this validation on the first iteration\u001B[39;00m\n",
      "File \u001B[0;32m~/miniconda3/lib/python3.12/site-packages/pandas/core/groupby/generic.py:324\u001B[0m, in \u001B[0;36mSeriesGroupBy._python_agg_general.<locals>.<lambda>\u001B[0;34m(x)\u001B[0m\n\u001B[1;32m    322\u001B[0m     alias \u001B[38;5;241m=\u001B[39m com\u001B[38;5;241m.\u001B[39m_builtin_table_alias[func]\n\u001B[1;32m    323\u001B[0m     warn_alias_replacement(\u001B[38;5;28mself\u001B[39m, orig_func, alias)\n\u001B[0;32m--> 324\u001B[0m f \u001B[38;5;241m=\u001B[39m \u001B[38;5;28;01mlambda\u001B[39;00m x: \u001B[43mfunc\u001B[49m\u001B[43m(\u001B[49m\u001B[43mx\u001B[49m\u001B[43m,\u001B[49m\u001B[43m \u001B[49m\u001B[38;5;241;43m*\u001B[39;49m\u001B[43margs\u001B[49m\u001B[43m,\u001B[49m\u001B[43m \u001B[49m\u001B[38;5;241;43m*\u001B[39;49m\u001B[38;5;241;43m*\u001B[39;49m\u001B[43mkwargs\u001B[49m\u001B[43m)\u001B[49m\n\u001B[1;32m    326\u001B[0m obj \u001B[38;5;241m=\u001B[39m \u001B[38;5;28mself\u001B[39m\u001B[38;5;241m.\u001B[39m_obj_with_exclusions\n\u001B[1;32m    327\u001B[0m result \u001B[38;5;241m=\u001B[39m \u001B[38;5;28mself\u001B[39m\u001B[38;5;241m.\u001B[39m_grouper\u001B[38;5;241m.\u001B[39magg_series(obj, f)\n",
      "Cell \u001B[0;32mIn[56], line 5\u001B[0m, in \u001B[0;36m<lambda>\u001B[0;34m(x)\u001B[0m\n\u001B[1;32m      2\u001B[0m     \u001B[38;5;28;01mreturn\u001B[39;00m column\u001B[38;5;241m.\u001B[39mmode()\u001B[38;5;241m.\u001B[39miloc[\u001B[38;5;241m0\u001B[39m]  \u001B[38;5;66;03m# Gets the most frequent value (mode)\u001B[39;00m\n\u001B[1;32m      4\u001B[0m \u001B[38;5;66;03m# Group by ID and aggregate each column\u001B[39;00m\n\u001B[0;32m----> 5\u001B[0m result \u001B[38;5;241m=\u001B[39m df\u001B[38;5;241m.\u001B[39mgroupby(\u001B[38;5;124m'\u001B[39m\u001B[38;5;124mID\u001B[39m\u001B[38;5;124m'\u001B[39m)\u001B[38;5;241m.\u001B[39magg(\u001B[38;5;28;01mlambda\u001B[39;00m x: \u001B[43mx\u001B[49m\u001B[38;5;241;43m.\u001B[39;49m\u001B[43mmode\u001B[49m\u001B[43m(\u001B[49m\u001B[43m)\u001B[49m\u001B[38;5;241;43m.\u001B[39;49m\u001B[43miloc\u001B[49m\u001B[43m[\u001B[49m\u001B[38;5;241;43m0\u001B[39;49m\u001B[43m]\u001B[49m \u001B[38;5;28;01mif\u001B[39;00m x\u001B[38;5;241m.\u001B[39mdtype \u001B[38;5;241m==\u001B[39m \u001B[38;5;124m'\u001B[39m\u001B[38;5;124mO\u001B[39m\u001B[38;5;124m'\u001B[39m \u001B[38;5;28;01melse\u001B[39;00m x\u001B[38;5;241m.\u001B[39mmean())\u001B[38;5;241m.\u001B[39mreset_index()\n\u001B[1;32m      7\u001B[0m \u001B[38;5;66;03m# Display the final result\u001B[39;00m\n\u001B[1;32m      8\u001B[0m \u001B[38;5;28mprint\u001B[39m(result)\n",
      "File \u001B[0;32m~/miniconda3/lib/python3.12/site-packages/pandas/core/indexing.py:1191\u001B[0m, in \u001B[0;36m_LocationIndexer.__getitem__\u001B[0;34m(self, key)\u001B[0m\n\u001B[1;32m   1189\u001B[0m maybe_callable \u001B[38;5;241m=\u001B[39m com\u001B[38;5;241m.\u001B[39mapply_if_callable(key, \u001B[38;5;28mself\u001B[39m\u001B[38;5;241m.\u001B[39mobj)\n\u001B[1;32m   1190\u001B[0m maybe_callable \u001B[38;5;241m=\u001B[39m \u001B[38;5;28mself\u001B[39m\u001B[38;5;241m.\u001B[39m_check_deprecated_callable_usage(key, maybe_callable)\n\u001B[0;32m-> 1191\u001B[0m \u001B[38;5;28;01mreturn\u001B[39;00m \u001B[38;5;28;43mself\u001B[39;49m\u001B[38;5;241;43m.\u001B[39;49m\u001B[43m_getitem_axis\u001B[49m\u001B[43m(\u001B[49m\u001B[43mmaybe_callable\u001B[49m\u001B[43m,\u001B[49m\u001B[43m \u001B[49m\u001B[43maxis\u001B[49m\u001B[38;5;241;43m=\u001B[39;49m\u001B[43maxis\u001B[49m\u001B[43m)\u001B[49m\n",
      "File \u001B[0;32m~/miniconda3/lib/python3.12/site-packages/pandas/core/indexing.py:1752\u001B[0m, in \u001B[0;36m_iLocIndexer._getitem_axis\u001B[0;34m(self, key, axis)\u001B[0m\n\u001B[1;32m   1749\u001B[0m     \u001B[38;5;28;01mraise\u001B[39;00m \u001B[38;5;167;01mTypeError\u001B[39;00m(\u001B[38;5;124m\"\u001B[39m\u001B[38;5;124mCannot index by location index with a non-integer key\u001B[39m\u001B[38;5;124m\"\u001B[39m)\n\u001B[1;32m   1751\u001B[0m \u001B[38;5;66;03m# validate the location\u001B[39;00m\n\u001B[0;32m-> 1752\u001B[0m \u001B[38;5;28;43mself\u001B[39;49m\u001B[38;5;241;43m.\u001B[39;49m\u001B[43m_validate_integer\u001B[49m\u001B[43m(\u001B[49m\u001B[43mkey\u001B[49m\u001B[43m,\u001B[49m\u001B[43m \u001B[49m\u001B[43maxis\u001B[49m\u001B[43m)\u001B[49m\n\u001B[1;32m   1754\u001B[0m \u001B[38;5;28;01mreturn\u001B[39;00m \u001B[38;5;28mself\u001B[39m\u001B[38;5;241m.\u001B[39mobj\u001B[38;5;241m.\u001B[39m_ixs(key, axis\u001B[38;5;241m=\u001B[39maxis)\n",
      "File \u001B[0;32m~/miniconda3/lib/python3.12/site-packages/pandas/core/indexing.py:1685\u001B[0m, in \u001B[0;36m_iLocIndexer._validate_integer\u001B[0;34m(self, key, axis)\u001B[0m\n\u001B[1;32m   1683\u001B[0m len_axis \u001B[38;5;241m=\u001B[39m \u001B[38;5;28mlen\u001B[39m(\u001B[38;5;28mself\u001B[39m\u001B[38;5;241m.\u001B[39mobj\u001B[38;5;241m.\u001B[39m_get_axis(axis))\n\u001B[1;32m   1684\u001B[0m \u001B[38;5;28;01mif\u001B[39;00m key \u001B[38;5;241m>\u001B[39m\u001B[38;5;241m=\u001B[39m len_axis \u001B[38;5;129;01mor\u001B[39;00m key \u001B[38;5;241m<\u001B[39m \u001B[38;5;241m-\u001B[39mlen_axis:\n\u001B[0;32m-> 1685\u001B[0m     \u001B[38;5;28;01mraise\u001B[39;00m \u001B[38;5;167;01mIndexError\u001B[39;00m(\u001B[38;5;124m\"\u001B[39m\u001B[38;5;124msingle positional indexer is out-of-bounds\u001B[39m\u001B[38;5;124m\"\u001B[39m)\n",
      "\u001B[0;31mIndexError\u001B[0m: single positional indexer is out-of-bounds"
     ]
    }
   ],
   "execution_count": 56
  },
  {
   "cell_type": "code",
   "id": "ccd79e44",
   "metadata": {
    "ExecuteTime": {
     "end_time": "2024-12-24T18:22:07.586420Z",
     "start_time": "2024-12-24T18:22:07.550234Z"
    }
   },
   "source": [
    "if \"OCCUPATION_TYPE\" in df.columns:\n",
    "    df[\"OCCUPATION_TYPE\"].fillna(\"Unknown\", inplace=True)\n"
   ],
   "outputs": [
    {
     "name": "stdout",
     "output_type": "stream",
     "text": [
      "Empty DataFrame\n",
      "Columns: [ID, CODE_GENDER, FLAG_OWN_CAR, FLAG_OWN_REALTY, CNT_CHILDREN, AMT_INCOME_TOTAL, NAME_INCOME_TYPE, NAME_EDUCATION_TYPE, NAME_FAMILY_STATUS, NAME_HOUSING_TYPE, DAYS_BIRTH, DAYS_EMPLOYED, FLAG_MOBIL, FLAG_WORK_PHONE, FLAG_PHONE, FLAG_EMAIL, OCCUPATION_TYPE, CNT_FAM_MEMBERS]\n",
      "Index: []\n"
     ]
    }
   ],
   "execution_count": 44
  },
  {
   "cell_type": "code",
   "id": "c1ee82c6",
   "metadata": {
    "ExecuteTime": {
     "end_time": "2024-12-24T18:15:19.567013Z",
     "start_time": "2024-12-24T18:13:02.284190Z"
    }
   },
   "source": [
    "import pandas as pd\n",
    "print(pd.__version__)\n"
   ],
   "outputs": [
    {
     "name": "stdout",
     "output_type": "stream",
     "text": [
      "0              ID CODE_GENDER FLAG_OWN_CAR FLAG_OWN_REALTY  CNT_CHILDREN  \\\n",
      "0       5008804.0           M            Y               Y           0.0   \n",
      "1       5008805.0           M            Y               Y           0.0   \n",
      "2       5008806.0           M            Y               Y           0.0   \n",
      "3       5008808.0           F            N               Y           0.0   \n",
      "4       5008809.0           F            N               Y           0.0   \n",
      "...           ...         ...          ...             ...           ...   \n",
      "438505  7999660.0           F            N               N           0.0   \n",
      "438506  7999696.0           F            N               Y           2.0   \n",
      "438507  7999738.0           M            N               Y           0.0   \n",
      "438508  7999784.0           F            Y               Y           1.0   \n",
      "438509  7999952.0           F            N               Y           1.0   \n",
      "\n",
      "0       AMT_INCOME_TOTAL      NAME_INCOME_TYPE            NAME_EDUCATION_TYPE  \\\n",
      "0               427500.0               Working               Higher education   \n",
      "1               427500.0               Working               Higher education   \n",
      "2               112500.0               Working  Secondary / secondary special   \n",
      "3               270000.0  Commercial associate  Secondary / secondary special   \n",
      "4               270000.0  Commercial associate  Secondary / secondary special   \n",
      "...                  ...                   ...                            ...   \n",
      "438505           90000.0         State servant               Higher education   \n",
      "438506          135000.0         State servant  Secondary / secondary special   \n",
      "438507          180000.0               Working  Secondary / secondary special   \n",
      "438508          180000.0  Commercial associate  Secondary / secondary special   \n",
      "438509          157500.0         State servant               Higher education   \n",
      "\n",
      "0         NAME_FAMILY_STATUS  NAME_HOUSING_TYPE  DAYS_BIRTH  DAYS_EMPLOYED  \\\n",
      "0             Civil marriage   Rented apartment    -12005.0        -4542.0   \n",
      "1             Civil marriage   Rented apartment    -12005.0        -4542.0   \n",
      "2                    Married  House / apartment    -21474.0        -1134.0   \n",
      "3       Single / not married  House / apartment    -19110.0        -3051.0   \n",
      "4       Single / not married  House / apartment    -19110.0        -3051.0   \n",
      "...                      ...                ...         ...            ...   \n",
      "438505  Single / not married  House / apartment    -13432.0        -5446.0   \n",
      "438506               Married  House / apartment    -12576.0        -4382.0   \n",
      "438507               Married  House / apartment     -9970.0         -119.0   \n",
      "438508               Married  House / apartment    -10630.0         -454.0   \n",
      "438509               Married  House / apartment    -15859.0        -3679.0   \n",
      "\n",
      "0       FLAG_MOBIL  FLAG_WORK_PHONE  FLAG_PHONE  FLAG_EMAIL OCCUPATION_TYPE  \\\n",
      "0              1.0              1.0         0.0         0.0         Unknown   \n",
      "1              1.0              1.0         0.0         0.0         Unknown   \n",
      "2              1.0              0.0         0.0         0.0  Security staff   \n",
      "3              1.0              0.0         1.0         1.0     Sales staff   \n",
      "4              1.0              0.0         1.0         1.0     Sales staff   \n",
      "...            ...              ...         ...         ...             ...   \n",
      "438505         1.0              0.0         0.0         0.0      Core staff   \n",
      "438506         1.0              0.0         0.0         0.0  Medicine staff   \n",
      "438507         1.0              0.0         0.0         0.0         Unknown   \n",
      "438508         1.0              0.0         0.0         0.0         Unknown   \n",
      "438509         1.0              0.0         0.0         0.0      Core staff   \n",
      "\n",
      "0       CNT_FAM_MEMBERS  \n",
      "0                   2.0  \n",
      "1                   2.0  \n",
      "2                   2.0  \n",
      "3                   1.0  \n",
      "4                   1.0  \n",
      "...                 ...  \n",
      "438505              1.0  \n",
      "438506              4.0  \n",
      "438507              2.0  \n",
      "438508              3.0  \n",
      "438509              3.0  \n",
      "\n",
      "[438510 rows x 18 columns]\n"
     ]
    }
   ],
   "execution_count": 37
  },
  {
   "cell_type": "code",
   "execution_count": null,
   "id": "b3be20ce",
   "metadata": {},
   "outputs": [],
   "source": [
    "1"
   ]
  },
  {
   "cell_type": "code",
   "execution_count": null,
   "id": "e0587272",
   "metadata": {},
   "outputs": [],
   "source": [
    "1"
   ]
  },
  {
   "cell_type": "code",
   "execution_count": null,
   "id": "469c711f",
   "metadata": {},
   "outputs": [],
   "source": [
    "1"
   ]
  },
  {
   "cell_type": "code",
   "execution_count": null,
   "id": "f19e3b60",
   "metadata": {},
   "outputs": [],
   "source": [
    "1"
   ]
  },
  {
   "cell_type": "code",
   "execution_count": null,
   "id": "4eedb202",
   "metadata": {},
   "outputs": [],
   "source": [
    "1"
   ]
  },
  {
   "cell_type": "code",
   "execution_count": null,
   "id": "ccc0d52a",
   "metadata": {},
   "outputs": [],
   "source": [
    "1"
   ]
  },
  {
   "cell_type": "markdown",
   "id": "7ab3c993cb61fc1c",
   "metadata": {},
   "source": [
    "# PREPROCESSING JANA\n",
    "second dataset"
   ]
  },
  {
   "cell_type": "code",
   "execution_count": null,
   "id": "c7c1e77369e0a391",
   "metadata": {},
   "outputs": [],
   "source": ""
  },
  {
   "cell_type": "code",
   "execution_count": null,
   "id": "39ba8d4f867c03ec",
   "metadata": {},
   "outputs": [],
   "source": []
  },
  {
   "cell_type": "code",
   "execution_count": null,
   "id": "3ca7135c6ca6a7d6",
   "metadata": {},
   "outputs": [],
   "source": []
  },
  {
   "cell_type": "code",
   "execution_count": null,
   "id": "a4298eeea711be14",
   "metadata": {},
   "outputs": [],
   "source": []
  },
  {
   "cell_type": "code",
   "execution_count": null,
   "id": "f2f1c6576f89d0f8",
   "metadata": {},
   "outputs": [],
   "source": []
  },
  {
   "cell_type": "code",
   "execution_count": null,
   "id": "22f104d0b5d1b39d",
   "metadata": {},
   "outputs": [],
   "source": []
  },
  {
   "cell_type": "code",
   "execution_count": null,
   "id": "ab6b2afde1c95eb1",
   "metadata": {},
   "outputs": [],
   "source": []
  },
  {
   "cell_type": "code",
   "execution_count": null,
   "id": "e764e60da0784bf4",
   "metadata": {},
   "outputs": [],
   "source": []
  },
  {
   "cell_type": "code",
   "execution_count": null,
   "id": "ed87109659b9d4df",
   "metadata": {},
   "outputs": [],
   "source": []
  },
  {
   "cell_type": "code",
   "execution_count": null,
   "id": "ee11fc4529c0950d",
   "metadata": {},
   "outputs": [],
   "source": []
  }
 ],
 "metadata": {
  "kernelspec": {
   "display_name": "Python 3",
   "language": "python",
   "name": "python3"
  },
  "language_info": {
   "codemirror_mode": {
    "name": "ipython",
    "version": 3
   },
   "file_extension": ".py",
   "mimetype": "text/x-python",
   "name": "python",
   "nbconvert_exporter": "python",
   "pygments_lexer": "ipython3",
   "version": "3.12.6"
  }
 },
 "nbformat": 4,
 "nbformat_minor": 5
}
