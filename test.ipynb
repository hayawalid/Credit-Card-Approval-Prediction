{
 "cells": [
  {
   "metadata": {
    "ExecuteTime": {
     "end_time": "2024-12-25T20:37:26.162205Z",
     "start_time": "2024-12-25T20:37:25.785520Z"
    }
   },
   "cell_type": "code",
   "source": [
    "import pandas as pd\n",
    "df = pd.read_csv(\"data/application_record.csv\")\n"
   ],
   "id": "9a79755b938e80f3",
   "outputs": [],
   "execution_count": 1
  },
  {
   "metadata": {
    "ExecuteTime": {
     "end_time": "2024-12-25T20:37:26.207639Z",
     "start_time": "2024-12-25T20:37:26.169172Z"
    }
   },
   "cell_type": "code",
   "source": [
    "import pandas as pd\n",
    "\n",
    "mode_value = df['OCCUPATION_TYPE'].mode()[0]\n",
    "\n",
    "# Replace missing values with the mode\n",
    "df['OCCUPATION_TYPE'].fillna(mode_value, inplace=True)\n",
    "\n",
    "# Verify that missing values have been filled\n",
    "print(df['OCCUPATION_TYPE'].isnull().sum())  # Should print 0 if all missing values are replaced\n"
   ],
   "id": "d0994e761f71e318",
   "outputs": [
    {
     "name": "stdout",
     "output_type": "stream",
     "text": [
      "0\n"
     ]
    },
    {
     "name": "stderr",
     "output_type": "stream",
     "text": [
      "/var/folders/q_/ffbdvtfx16s23l4197jvl3vh0000gn/T/ipykernel_4013/163147427.py:6: FutureWarning: A value is trying to be set on a copy of a DataFrame or Series through chained assignment using an inplace method.\n",
      "The behavior will change in pandas 3.0. This inplace method will never work because the intermediate object on which we are setting values always behaves as a copy.\n",
      "\n",
      "For example, when doing 'df[col].method(value, inplace=True)', try using 'df.method({col: value}, inplace=True)' or df[col] = df[col].method(value) instead, to perform the operation inplace on the original object.\n",
      "\n",
      "\n",
      "  df['OCCUPATION_TYPE'].fillna(mode_value, inplace=True)\n"
     ]
    }
   ],
   "execution_count": 2
  },
  {
   "cell_type": "code",
   "id": "initial_id",
   "metadata": {
    "collapsed": true,
    "ExecuteTime": {
     "end_time": "2024-12-25T20:39:41.594350Z",
     "start_time": "2024-12-25T20:37:26.322396Z"
    }
   },
   "source": [
    "import numpy as np\n",
    "\n",
    "def aggregate_columns(column):\n",
    "    if column.dtype == 'O':  # If categorical\n",
    "        # Check if the mode exists\n",
    "        mode = column.mode()\n",
    "        if not mode.empty:\n",
    "            return mode.iloc[0]  # Most frequent value\n",
    "        else:\n",
    "            return None  # Return None if no mode is found\n",
    "    else:  # For numerical columns\n",
    "        return column.mean()  # Use mean\n",
    "\n",
    "df = df.groupby('ID').agg(aggregate_columns).reset_index()\n",
    "print(df)"
   ],
   "outputs": [
    {
     "name": "stdout",
     "output_type": "stream",
     "text": [
      "             ID CODE_GENDER FLAG_OWN_CAR FLAG_OWN_REALTY  CNT_CHILDREN  \\\n",
      "0       5008804           M            Y               Y           0.0   \n",
      "1       5008805           M            Y               Y           0.0   \n",
      "2       5008806           M            Y               Y           0.0   \n",
      "3       5008808           F            N               Y           0.0   \n",
      "4       5008809           F            N               Y           0.0   \n",
      "...         ...         ...          ...             ...           ...   \n",
      "438505  7999660           F            N               N           0.0   \n",
      "438506  7999696           F            N               Y           2.0   \n",
      "438507  7999738           M            N               Y           0.0   \n",
      "438508  7999784           F            Y               Y           1.0   \n",
      "438509  7999952           F            N               Y           1.0   \n",
      "\n",
      "        AMT_INCOME_TOTAL      NAME_INCOME_TYPE            NAME_EDUCATION_TYPE  \\\n",
      "0               427500.0               Working               Higher education   \n",
      "1               427500.0               Working               Higher education   \n",
      "2               112500.0               Working  Secondary / secondary special   \n",
      "3               270000.0  Commercial associate  Secondary / secondary special   \n",
      "4               270000.0  Commercial associate  Secondary / secondary special   \n",
      "...                  ...                   ...                            ...   \n",
      "438505           90000.0         State servant               Higher education   \n",
      "438506          135000.0         State servant  Secondary / secondary special   \n",
      "438507          180000.0               Working  Secondary / secondary special   \n",
      "438508          180000.0  Commercial associate  Secondary / secondary special   \n",
      "438509          157500.0         State servant               Higher education   \n",
      "\n",
      "          NAME_FAMILY_STATUS  NAME_HOUSING_TYPE  DAYS_BIRTH  DAYS_EMPLOYED  \\\n",
      "0             Civil marriage   Rented apartment    -12005.0        -4542.0   \n",
      "1             Civil marriage   Rented apartment    -12005.0        -4542.0   \n",
      "2                    Married  House / apartment    -21474.0        -1134.0   \n",
      "3       Single / not married  House / apartment    -19110.0        -3051.0   \n",
      "4       Single / not married  House / apartment    -19110.0        -3051.0   \n",
      "...                      ...                ...         ...            ...   \n",
      "438505  Single / not married  House / apartment    -13432.0        -5446.0   \n",
      "438506               Married  House / apartment    -12576.0        -4382.0   \n",
      "438507               Married  House / apartment     -9970.0         -119.0   \n",
      "438508               Married  House / apartment    -10630.0         -454.0   \n",
      "438509               Married  House / apartment    -15859.0        -3679.0   \n",
      "\n",
      "        FLAG_MOBIL  FLAG_WORK_PHONE  FLAG_PHONE  FLAG_EMAIL OCCUPATION_TYPE  \\\n",
      "0              1.0              1.0         0.0         0.0        Laborers   \n",
      "1              1.0              1.0         0.0         0.0        Laborers   \n",
      "2              1.0              0.0         0.0         0.0  Security staff   \n",
      "3              1.0              0.0         1.0         1.0     Sales staff   \n",
      "4              1.0              0.0         1.0         1.0     Sales staff   \n",
      "...            ...              ...         ...         ...             ...   \n",
      "438505         1.0              0.0         0.0         0.0      Core staff   \n",
      "438506         1.0              0.0         0.0         0.0  Medicine staff   \n",
      "438507         1.0              0.0         0.0         0.0        Laborers   \n",
      "438508         1.0              0.0         0.0         0.0        Laborers   \n",
      "438509         1.0              0.0         0.0         0.0      Core staff   \n",
      "\n",
      "        CNT_FAM_MEMBERS  \n",
      "0                   2.0  \n",
      "1                   2.0  \n",
      "2                   2.0  \n",
      "3                   1.0  \n",
      "4                   1.0  \n",
      "...                 ...  \n",
      "438505              1.0  \n",
      "438506              4.0  \n",
      "438507              2.0  \n",
      "438508              3.0  \n",
      "438509              3.0  \n",
      "\n",
      "[438510 rows x 18 columns]\n"
     ]
    }
   ],
   "execution_count": 3
  },
  {
   "metadata": {
    "ExecuteTime": {
     "end_time": "2024-12-25T20:39:41.691944Z",
     "start_time": "2024-12-25T20:39:41.619124Z"
    }
   },
   "cell_type": "code",
   "source": "df.isnull().sum()\n",
   "id": "2e79733b0b95526e",
   "outputs": [
    {
     "data": {
      "text/plain": [
       "ID                     0\n",
       "CODE_GENDER            0\n",
       "FLAG_OWN_CAR           0\n",
       "FLAG_OWN_REALTY        0\n",
       "CNT_CHILDREN           0\n",
       "AMT_INCOME_TOTAL       0\n",
       "NAME_INCOME_TYPE       0\n",
       "NAME_EDUCATION_TYPE    0\n",
       "NAME_FAMILY_STATUS     0\n",
       "NAME_HOUSING_TYPE      0\n",
       "DAYS_BIRTH             0\n",
       "DAYS_EMPLOYED          0\n",
       "FLAG_MOBIL             0\n",
       "FLAG_WORK_PHONE        0\n",
       "FLAG_PHONE             0\n",
       "FLAG_EMAIL             0\n",
       "OCCUPATION_TYPE        0\n",
       "CNT_FAM_MEMBERS        0\n",
       "dtype: int64"
      ]
     },
     "execution_count": 4,
     "metadata": {},
     "output_type": "execute_result"
    }
   ],
   "execution_count": 4
  },
  {
   "metadata": {
    "ExecuteTime": {
     "end_time": "2024-12-25T20:39:41.746405Z",
     "start_time": "2024-12-25T20:39:41.715274Z"
    }
   },
   "cell_type": "code",
   "source": [
    "df.drop(columns=['FLAG_MOBIL'], inplace=True)\n",
    "\n",
    "print(df.columns)  # 'FLAG_MOBIL' should no longer appear in the list of columns"
   ],
   "id": "153f407052689f58",
   "outputs": [
    {
     "name": "stdout",
     "output_type": "stream",
     "text": [
      "Index(['ID', 'CODE_GENDER', 'FLAG_OWN_CAR', 'FLAG_OWN_REALTY', 'CNT_CHILDREN',\n",
      "       'AMT_INCOME_TOTAL', 'NAME_INCOME_TYPE', 'NAME_EDUCATION_TYPE',\n",
      "       'NAME_FAMILY_STATUS', 'NAME_HOUSING_TYPE', 'DAYS_BIRTH',\n",
      "       'DAYS_EMPLOYED', 'FLAG_WORK_PHONE', 'FLAG_PHONE', 'FLAG_EMAIL',\n",
      "       'OCCUPATION_TYPE', 'CNT_FAM_MEMBERS'],\n",
      "      dtype='object')\n"
     ]
    }
   ],
   "execution_count": 5
  },
  {
   "metadata": {
    "ExecuteTime": {
     "end_time": "2024-12-25T20:39:41.822352Z",
     "start_time": "2024-12-25T20:39:41.810666Z"
    }
   },
   "cell_type": "code",
   "source": [
    "# Convert negative values in 'DAYS_BIRTH' and 'DAYS_EMPLOYED' to positive values\n",
    "df['DAYS_BIRTH'] = abs(df['DAYS_BIRTH'])\n",
    "df['DAYS_EMPLOYED'] = abs(df['DAYS_EMPLOYED'])\n",
    "\n",
    "# Optionally, if you want to convert days to years (for 'DAYS_BIRTH'):\n",
    "df['AGE'] = df['DAYS_BIRTH'] / 365  # Convert days to years\n",
    "\n",
    "# Optionally, if you want to convert 'DAYS_EMPLOYED' to years:\n",
    "df['EMPLOYMENT_YEARS'] = df['DAYS_EMPLOYED'] / 365  # Convert days to years\n",
    "\n",
    "# Verify changes\n",
    "print(df[['DAYS_BIRTH', 'AGE', 'DAYS_EMPLOYED', 'EMPLOYMENT_YEARS']].tail())\n"
   ],
   "id": "3f58f1f6e8a35334",
   "outputs": [
    {
     "name": "stdout",
     "output_type": "stream",
     "text": [
      "        DAYS_BIRTH        AGE  DAYS_EMPLOYED  EMPLOYMENT_YEARS\n",
      "438505     13432.0  36.800000         5446.0         14.920548\n",
      "438506     12576.0  34.454795         4382.0         12.005479\n",
      "438507      9970.0  27.315068          119.0          0.326027\n",
      "438508     10630.0  29.123288          454.0          1.243836\n",
      "438509     15859.0  43.449315         3679.0         10.079452\n"
     ]
    }
   ],
   "execution_count": 6
  },
  {
   "metadata": {
    "ExecuteTime": {
     "end_time": "2024-12-25T20:39:41.846605Z",
     "start_time": "2024-12-25T20:39:41.843716Z"
    }
   },
   "cell_type": "code",
   "source": [
    "# Handling extreme negative values (optional)\n",
    "df.loc[df['DAYS_EMPLOYED'] < -10000, 'DAYS_EMPLOYED'] = None  # Mark extreme negative values as missing (e.g., > 10 years)\n"
   ],
   "id": "f34694bfcc5c2f1e",
   "outputs": [],
   "execution_count": 7
  },
  {
   "metadata": {
    "ExecuteTime": {
     "end_time": "2024-12-25T20:39:41.884927Z",
     "start_time": "2024-12-25T20:39:41.871798Z"
    }
   },
   "cell_type": "code",
   "source": [
    "import numpy as np\n",
    "\n",
    "# Assuming df is your DataFrame\n",
    "# Ensure that the 'DAYS_BIRTH' and 'DAYS_EMPLOYED' columns are already in the correct format (days)\n",
    "\n",
    "# Convert 'DAYS_BIRTH' to age in years\n",
    "df['AGE'] = abs(df['DAYS_BIRTH']) / 365\n",
    "\n",
    "# Convert 'DAYS_EMPLOYED' to employment years\n",
    "df['EMPLOYMENT_YEARS'] = abs(df['DAYS_EMPLOYED']) / 365\n",
    "\n",
    "# Handle the case where employment years are greater than the person's age minus 18\n",
    "df.loc[df['EMPLOYMENT_YEARS'] > (df['AGE'] - 18), 'EMPLOYMENT_YEARS'] = np.nan  # Replace with NaN if unrealistic\n",
    "\n",
    "# Handle extreme employment years (e.g., more than 100 years of employment)\n",
    "df.loc[df['EMPLOYMENT_YEARS'] > 100, 'EMPLOYMENT_YEARS'] = np.nan  # Replace with NaN for extreme values\n",
    "\n",
    "# Verify the changes\n",
    "print(df[['DAYS_BIRTH', 'AGE', 'DAYS_EMPLOYED', 'EMPLOYMENT_YEARS']].tail())\n"
   ],
   "id": "51769edc1f7122c3",
   "outputs": [
    {
     "name": "stdout",
     "output_type": "stream",
     "text": [
      "        DAYS_BIRTH        AGE  DAYS_EMPLOYED  EMPLOYMENT_YEARS\n",
      "438505     13432.0  36.800000         5446.0         14.920548\n",
      "438506     12576.0  34.454795         4382.0         12.005479\n",
      "438507      9970.0  27.315068          119.0          0.326027\n",
      "438508     10630.0  29.123288          454.0          1.243836\n",
      "438509     15859.0  43.449315         3679.0         10.079452\n"
     ]
    }
   ],
   "execution_count": 8
  },
  {
   "metadata": {
    "ExecuteTime": {
     "end_time": "2024-12-25T20:39:41.967187Z",
     "start_time": "2024-12-25T20:39:41.890687Z"
    }
   },
   "cell_type": "code",
   "source": [
    "from sklearn.preprocessing import MinMaxScaler\n",
    "\n",
    "# Assuming df is your DataFrame and 'AMT_INCOME_TOTAL' is the column to normalize\n",
    "\n",
    "scaler = MinMaxScaler()\n",
    "\n",
    "# Normalize the 'AMT_INCOME_TOTAL' column\n",
    "df['AMT_INCOME_TOTAL'] = scaler.fit_transform(df[['AMT_INCOME_TOTAL']])\n",
    "df['AGE'] = scaler.fit_transform(df[['AGE']])\n",
    "df['EMPLOYMENT_YEARS'] = scaler.fit_transform(df[['EMPLOYMENT_YEARS']])\n",
    "\n",
    "# Verify the result\n",
    "print(df[['AMT_INCOME_TOTAL']].tail())\n"
   ],
   "id": "628ed69f5c460ca5",
   "outputs": [
    {
     "name": "stdout",
     "output_type": "stream",
     "text": [
      "        AMT_INCOME_TOTAL\n",
      "438505          0.009503\n",
      "438506          0.016196\n",
      "438507          0.022889\n",
      "438508          0.022889\n",
      "438509          0.019542\n"
     ]
    }
   ],
   "execution_count": 9
  },
  {
   "metadata": {
    "ExecuteTime": {
     "end_time": "2024-12-25T20:39:42.002278Z",
     "start_time": "2024-12-25T20:39:41.973669Z"
    }
   },
   "cell_type": "code",
   "source": [
    "# Check distribution of CODE_GENDER\n",
    "print(df['CODE_GENDER'].value_counts())\n",
    "\n",
    "# Check distribution of NAME_INCOME_TYPE\n",
    "print(df['NAME_INCOME_TYPE'].value_counts())\n"
   ],
   "id": "1f3a412f5cd62a5d",
   "outputs": [
    {
     "name": "stdout",
     "output_type": "stream",
     "text": [
      "CODE_GENDER\n",
      "F    294422\n",
      "M    144088\n",
      "Name: count, dtype: int64\n",
      "NAME_INCOME_TYPE\n",
      "Working                 226072\n",
      "Commercial associate    100753\n",
      "Pensioner                75483\n",
      "State servant            36185\n",
      "Student                     17\n",
      "Name: count, dtype: int64\n"
     ]
    }
   ],
   "execution_count": 10
  },
  {
   "metadata": {
    "ExecuteTime": {
     "end_time": "2024-12-25T20:39:42.082054Z",
     "start_time": "2024-12-25T20:39:42.012605Z"
    }
   },
   "cell_type": "code",
   "source": [
    "# Check for missing values\n",
    "print(df.isnull().sum())\n"
   ],
   "id": "7fb0c9067636436d",
   "outputs": [
    {
     "name": "stdout",
     "output_type": "stream",
     "text": [
      "ID                         0\n",
      "CODE_GENDER                0\n",
      "FLAG_OWN_CAR               0\n",
      "FLAG_OWN_REALTY            0\n",
      "CNT_CHILDREN               0\n",
      "AMT_INCOME_TOTAL           0\n",
      "NAME_INCOME_TYPE           0\n",
      "NAME_EDUCATION_TYPE        0\n",
      "NAME_FAMILY_STATUS         0\n",
      "NAME_HOUSING_TYPE          0\n",
      "DAYS_BIRTH                 0\n",
      "DAYS_EMPLOYED              0\n",
      "FLAG_WORK_PHONE            0\n",
      "FLAG_PHONE                 0\n",
      "FLAG_EMAIL                 0\n",
      "OCCUPATION_TYPE            0\n",
      "CNT_FAM_MEMBERS            0\n",
      "AGE                        0\n",
      "EMPLOYMENT_YEARS       75574\n",
      "dtype: int64\n"
     ]
    }
   ],
   "execution_count": 11
  },
  {
   "metadata": {
    "ExecuteTime": {
     "end_time": "2024-12-25T20:39:42.091635Z",
     "start_time": "2024-12-25T20:39:42.088954Z"
    }
   },
   "cell_type": "code",
   "source": [
    "# Check data types of each column\n",
    "print(df.dtypes)\n"
   ],
   "id": "948f523eaa9a6020",
   "outputs": [
    {
     "name": "stdout",
     "output_type": "stream",
     "text": [
      "ID                       int64\n",
      "CODE_GENDER             object\n",
      "FLAG_OWN_CAR            object\n",
      "FLAG_OWN_REALTY         object\n",
      "CNT_CHILDREN           float64\n",
      "AMT_INCOME_TOTAL       float64\n",
      "NAME_INCOME_TYPE        object\n",
      "NAME_EDUCATION_TYPE     object\n",
      "NAME_FAMILY_STATUS      object\n",
      "NAME_HOUSING_TYPE       object\n",
      "DAYS_BIRTH             float64\n",
      "DAYS_EMPLOYED          float64\n",
      "FLAG_WORK_PHONE        float64\n",
      "FLAG_PHONE             float64\n",
      "FLAG_EMAIL             float64\n",
      "OCCUPATION_TYPE         object\n",
      "CNT_FAM_MEMBERS        float64\n",
      "AGE                    float64\n",
      "EMPLOYMENT_YEARS       float64\n",
      "dtype: object\n"
     ]
    }
   ],
   "execution_count": 12
  },
  {
   "metadata": {
    "ExecuteTime": {
     "end_time": "2024-12-25T20:39:42.121463Z",
     "start_time": "2024-12-25T20:39:42.104430Z"
    }
   },
   "cell_type": "code",
   "source": [
    "# Get descriptive statistics for the 'EMPLOYMENT_YEARS' column\n",
    "print(df['EMPLOYMENT_YEARS'].describe()) #DATA IS RIGHT SKEWED USE MEDIAN\n"
   ],
   "id": "c5523518cd8009a6",
   "outputs": [
    {
     "name": "stdout",
     "output_type": "stream",
     "text": [
      "count    362936.000000\n",
      "mean          0.148901\n",
      "std           0.136842\n",
      "min           0.000000\n",
      "25%           0.051487\n",
      "50%           0.109082\n",
      "75%           0.199612\n",
      "max           1.000000\n",
      "Name: EMPLOYMENT_YEARS, dtype: float64\n"
     ]
    }
   ],
   "execution_count": 13
  },
  {
   "metadata": {
    "ExecuteTime": {
     "end_time": "2024-12-25T20:39:42.139623Z",
     "start_time": "2024-12-25T20:39:42.132986Z"
    }
   },
   "cell_type": "code",
   "source": "df['EMPLOYMENT_YEARS'] = df['EMPLOYMENT_YEARS'].fillna(df['EMPLOYMENT_YEARS'].median())",
   "id": "bd86df81551eebb3",
   "outputs": [],
   "execution_count": 14
  },
  {
   "metadata": {
    "ExecuteTime": {
     "end_time": "2024-12-25T20:39:42.215240Z",
     "start_time": "2024-12-25T20:39:42.146101Z"
    }
   },
   "cell_type": "code",
   "source": [
    "# Check for missing values\n",
    "print(df.isnull().sum())\n"
   ],
   "id": "1b13c4c4b90563a7",
   "outputs": [
    {
     "name": "stdout",
     "output_type": "stream",
     "text": [
      "ID                     0\n",
      "CODE_GENDER            0\n",
      "FLAG_OWN_CAR           0\n",
      "FLAG_OWN_REALTY        0\n",
      "CNT_CHILDREN           0\n",
      "AMT_INCOME_TOTAL       0\n",
      "NAME_INCOME_TYPE       0\n",
      "NAME_EDUCATION_TYPE    0\n",
      "NAME_FAMILY_STATUS     0\n",
      "NAME_HOUSING_TYPE      0\n",
      "DAYS_BIRTH             0\n",
      "DAYS_EMPLOYED          0\n",
      "FLAG_WORK_PHONE        0\n",
      "FLAG_PHONE             0\n",
      "FLAG_EMAIL             0\n",
      "OCCUPATION_TYPE        0\n",
      "CNT_FAM_MEMBERS        0\n",
      "AGE                    0\n",
      "EMPLOYMENT_YEARS       0\n",
      "dtype: int64\n"
     ]
    }
   ],
   "execution_count": 15
  },
  {
   "metadata": {
    "ExecuteTime": {
     "end_time": "2024-12-25T20:39:42.357368Z",
     "start_time": "2024-12-25T20:39:42.221334Z"
    }
   },
   "cell_type": "code",
   "source": [
    "# Check for outliers or invalid values\n",
    "print(df.describe())\n"
   ],
   "id": "d1c7813557a60dbe",
   "outputs": [
    {
     "name": "stdout",
     "output_type": "stream",
     "text": [
      "                 ID   CNT_CHILDREN  AMT_INCOME_TOTAL     DAYS_BIRTH  \\\n",
      "count  4.385100e+05  438510.000000     438510.000000  438510.000000   \n",
      "mean   6.022035e+06       0.427387          0.024007   15997.919490   \n",
      "std    5.714962e+05       0.724863          0.016372    4184.914798   \n",
      "min    5.008804e+06       0.000000          0.000000    7489.000000   \n",
      "25%    5.609362e+06       0.000000          0.014188   12514.000000   \n",
      "50%    6.047720e+06       0.000000          0.020078   15630.000000   \n",
      "75%    6.454161e+06       1.000000          0.029581   19483.000000   \n",
      "max    7.999952e+06      19.000000          1.000000   25201.000000   \n",
      "\n",
      "       DAYS_EMPLOYED  FLAG_WORK_PHONE     FLAG_PHONE     FLAG_EMAIL  \\\n",
      "count  438510.000000    438510.000000  438510.000000  438510.000000   \n",
      "mean    64909.149696         0.206131       0.287767       0.108202   \n",
      "std    136785.546110         0.404514       0.452709       0.310625   \n",
      "min        12.000000         0.000000       0.000000       0.000000   \n",
      "25%      1093.000000         0.000000       0.000000       0.000000   \n",
      "50%      2514.000000         0.000000       0.000000       0.000000   \n",
      "75%      5850.000000         0.000000       1.000000       0.000000   \n",
      "max    365243.000000         1.000000       1.000000       1.000000   \n",
      "\n",
      "       CNT_FAM_MEMBERS            AGE  EMPLOYMENT_YEARS  \n",
      "count    438510.000000  438510.000000     438510.000000  \n",
      "mean          2.194463       0.480404          0.142039  \n",
      "std           0.897176       0.236276          0.125398  \n",
      "min           1.000000       0.000000          0.000000  \n",
      "25%           2.000000       0.283706          0.061704  \n",
      "50%           2.000000       0.459632          0.109082  \n",
      "75%           3.000000       0.677168          0.176323  \n",
      "max          20.000000       1.000000          1.000000  \n"
     ]
    }
   ],
   "execution_count": 16
  },
  {
   "metadata": {
    "ExecuteTime": {
     "end_time": "2024-12-25T20:39:42.374907Z",
     "start_time": "2024-12-25T20:39:42.363346Z"
    }
   },
   "cell_type": "code",
   "source": [
    "# Check the range of numeric features\n",
    "print(df[['AGE', 'AMT_INCOME_TOTAL', 'DAYS_BIRTH']].min())\n",
    "print(df[['AGE', 'AMT_INCOME_TOTAL', 'DAYS_BIRTH']].max())\n"
   ],
   "id": "5ae942b2035aaf22",
   "outputs": [
    {
     "name": "stdout",
     "output_type": "stream",
     "text": [
      "AGE                    0.0\n",
      "AMT_INCOME_TOTAL       0.0\n",
      "DAYS_BIRTH          7489.0\n",
      "dtype: float64\n",
      "AGE                     1.0\n",
      "AMT_INCOME_TOTAL        1.0\n",
      "DAYS_BIRTH          25201.0\n",
      "dtype: float64\n"
     ]
    }
   ],
   "execution_count": 17
  },
  {
   "metadata": {
    "ExecuteTime": {
     "end_time": "2024-12-25T20:39:42.385458Z",
     "start_time": "2024-12-25T20:39:42.380730Z"
    }
   },
   "cell_type": "code",
   "source": [
    "# Check if new features are correctly created (e.g., 'AGE' or 'EMPLOYMENT_YEARS')\n",
    "print(df[['AGE', 'EMPLOYMENT_YEARS']].head())\n"
   ],
   "id": "dfdbf258d28fc113",
   "outputs": [
    {
     "name": "stdout",
     "output_type": "stream",
     "text": [
      "        AGE  EMPLOYMENT_YEARS\n",
      "0  0.254968          0.258576\n",
      "1  0.254968          0.258576\n",
      "2  0.789578          0.064045\n",
      "3  0.656109          0.173469\n",
      "4  0.656109          0.173469\n"
     ]
    }
   ],
   "execution_count": 18
  },
  {
   "metadata": {
    "ExecuteTime": {
     "end_time": "2024-12-25T20:39:42.979770Z",
     "start_time": "2024-12-25T20:39:42.394942Z"
    }
   },
   "cell_type": "code",
   "source": [
    "import matplotlib.pyplot as plt\n",
    "import seaborn as sns\n",
    "\n",
    "# Histograms for numeric columns\n",
    "df[['AGE', 'AMT_INCOME_TOTAL', 'DAYS_BIRTH']].hist(figsize=(10, 6))\n",
    "plt.show()\n",
    "\n",
    "# Bar plots for categorical columns\n",
    "sns.countplot(x='CODE_GENDER', data=df)\n",
    "plt.show()\n"
   ],
   "id": "2c6524114bbff196",
   "outputs": [
    {
     "data": {
      "text/plain": [
       "<Figure size 1000x600 with 4 Axes>"
      ],
      "image/png": "[encoded data removed]"
     },
     "metadata": {},
     "output_type": "display_data"
    },
    {
     "data": {
      "text/plain": [
       "<Figure size 640x480 with 1 Axes>"
      ],
      "image/png": "[encoded data removed]"
     },
     "metadata": {},
     "output_type": "display_data"
    }
   ],
   "execution_count": 19
  },
  {
   "metadata": {
    "ExecuteTime": {
     "end_time": "2024-12-25T20:39:42.995494Z",
     "start_time": "2024-12-25T20:39:42.990278Z"
    }
   },
   "cell_type": "code",
   "source": [
    "# Filter rows where AMT_INCOME_TOTAL is 0 or negative\n",
    "invalid_income = df[df['AMT_INCOME_TOTAL'] <= 0]\n",
    "\n",
    "# Display the invalid rows to inspect them\n",
    "print(invalid_income)\n"
   ],
   "id": "6dedc9dd3c7afed0",
   "outputs": [
    {
     "name": "stdout",
     "output_type": "stream",
     "text": [
      "             ID CODE_GENDER FLAG_OWN_CAR FLAG_OWN_REALTY  CNT_CHILDREN  \\\n",
      "238132  6093712           F            N               N           0.0   \n",
      "238133  6093713           F            N               N           0.0   \n",
      "\n",
      "        AMT_INCOME_TOTAL NAME_INCOME_TYPE            NAME_EDUCATION_TYPE  \\\n",
      "238132               0.0        Pensioner  Secondary / secondary special   \n",
      "238133               0.0        Pensioner  Secondary / secondary special   \n",
      "\n",
      "       NAME_FAMILY_STATUS  NAME_HOUSING_TYPE  DAYS_BIRTH  DAYS_EMPLOYED  \\\n",
      "238132            Married  House / apartment     21003.0       365243.0   \n",
      "238133            Married  House / apartment     21003.0       365243.0   \n",
      "\n",
      "        FLAG_WORK_PHONE  FLAG_PHONE  FLAG_EMAIL OCCUPATION_TYPE  \\\n",
      "238132              0.0         0.0         0.0        Laborers   \n",
      "238133              0.0         0.0         0.0        Laborers   \n",
      "\n",
      "        CNT_FAM_MEMBERS       AGE  EMPLOYMENT_YEARS  \n",
      "238132              2.0  0.762986          0.109082  \n",
      "238133              2.0  0.762986          0.109082  \n"
     ]
    }
   ],
   "execution_count": 20
  },
  {
   "metadata": {
    "ExecuteTime": {
     "end_time": "2024-12-25T20:39:43.051174Z",
     "start_time": "2024-12-25T20:39:43.013951Z"
    }
   },
   "cell_type": "code",
   "source": [
    "# Drop rows where AMT_INCOME_TOTAL is 0\n",
    "df = df[df['AMT_INCOME_TOTAL'] != 0]\n",
    "\n",
    "# Check the number of rows remaining\n",
    "print(f\"Number of rows after dropping zero income: {df.shape[0]}\")\n"
   ],
   "id": "b4c968057b27201f",
   "outputs": [
    {
     "name": "stdout",
     "output_type": "stream",
     "text": [
      "Number of rows after dropping zero income: 438508\n"
     ]
    }
   ],
   "execution_count": 21
  },
  {
   "metadata": {
    "ExecuteTime": {
     "end_time": "2024-12-25T20:39:43.066398Z",
     "start_time": "2024-12-25T20:39:43.062784Z"
    }
   },
   "cell_type": "code",
   "source": [
    "# Filter rows where AMT_INCOME_TOTAL is 0 or negative\n",
    "invalid_income = df[df['AMT_INCOME_TOTAL'] <= 0]\n",
    "\n",
    "# Display the invalid rows to inspect them\n",
    "print(invalid_income)"
   ],
   "id": "e11608604a884cbf",
   "outputs": [
    {
     "name": "stdout",
     "output_type": "stream",
     "text": [
      "Empty DataFrame\n",
      "Columns: [ID, CODE_GENDER, FLAG_OWN_CAR, FLAG_OWN_REALTY, CNT_CHILDREN, AMT_INCOME_TOTAL, NAME_INCOME_TYPE, NAME_EDUCATION_TYPE, NAME_FAMILY_STATUS, NAME_HOUSING_TYPE, DAYS_BIRTH, DAYS_EMPLOYED, FLAG_WORK_PHONE, FLAG_PHONE, FLAG_EMAIL, OCCUPATION_TYPE, CNT_FAM_MEMBERS, AGE, EMPLOYMENT_YEARS]\n",
      "Index: []\n"
     ]
    }
   ],
   "execution_count": 22
  },
  {
   "metadata": {
    "ExecuteTime": {
     "end_time": "2024-12-25T20:39:43.089854Z",
     "start_time": "2024-12-25T20:39:43.084812Z"
    }
   },
   "cell_type": "code",
   "source": [
    "# Display the first few rows of the cleaned dataset\n",
    "print(df.head())\n"
   ],
   "id": "4c38a57393631c92",
   "outputs": [
    {
     "name": "stdout",
     "output_type": "stream",
     "text": [
      "        ID CODE_GENDER FLAG_OWN_CAR FLAG_OWN_REALTY  CNT_CHILDREN  \\\n",
      "0  5008804           M            Y               Y           0.0   \n",
      "1  5008805           M            Y               Y           0.0   \n",
      "2  5008806           M            Y               Y           0.0   \n",
      "3  5008808           F            N               Y           0.0   \n",
      "4  5008809           F            N               Y           0.0   \n",
      "\n",
      "   AMT_INCOME_TOTAL      NAME_INCOME_TYPE            NAME_EDUCATION_TYPE  \\\n",
      "0          0.059697               Working               Higher education   \n",
      "1          0.059697               Working               Higher education   \n",
      "2          0.012850               Working  Secondary / secondary special   \n",
      "3          0.036274  Commercial associate  Secondary / secondary special   \n",
      "4          0.036274  Commercial associate  Secondary / secondary special   \n",
      "\n",
      "     NAME_FAMILY_STATUS  NAME_HOUSING_TYPE  DAYS_BIRTH  DAYS_EMPLOYED  \\\n",
      "0        Civil marriage   Rented apartment     12005.0         4542.0   \n",
      "1        Civil marriage   Rented apartment     12005.0         4542.0   \n",
      "2               Married  House / apartment     21474.0         1134.0   \n",
      "3  Single / not married  House / apartment     19110.0         3051.0   \n",
      "4  Single / not married  House / apartment     19110.0         3051.0   \n",
      "\n",
      "   FLAG_WORK_PHONE  FLAG_PHONE  FLAG_EMAIL OCCUPATION_TYPE  CNT_FAM_MEMBERS  \\\n",
      "0              1.0         0.0         0.0        Laborers              2.0   \n",
      "1              1.0         0.0         0.0        Laborers              2.0   \n",
      "2              0.0         0.0         0.0  Security staff              2.0   \n",
      "3              0.0         1.0         1.0     Sales staff              1.0   \n",
      "4              0.0         1.0         1.0     Sales staff              1.0   \n",
      "\n",
      "        AGE  EMPLOYMENT_YEARS  \n",
      "0  0.254968          0.258576  \n",
      "1  0.254968          0.258576  \n",
      "2  0.789578          0.064045  \n",
      "3  0.656109          0.173469  \n",
      "4  0.656109          0.173469  \n"
     ]
    }
   ],
   "execution_count": 23
  },
  {
   "metadata": {
    "ExecuteTime": {
     "end_time": "2024-12-25T20:39:43.175319Z",
     "start_time": "2024-12-25T20:39:43.104513Z"
    }
   },
   "cell_type": "code",
   "source": [
    "# Check for missing values in the entire dataset\n",
    "missing_values = df.isnull().sum()\n",
    "print(f\"Missing values per column:\\n{missing_values}\")\n",
    "\n",
    "# If you want to check for missing values in a specific column\n",
    "print(df['AMT_INCOME_TOTAL'].isnull().sum())  # Example for one column\n"
   ],
   "id": "b77c61db1f3c4838",
   "outputs": [
    {
     "name": "stdout",
     "output_type": "stream",
     "text": [
      "Missing values per column:\n",
      "ID                     0\n",
      "CODE_GENDER            0\n",
      "FLAG_OWN_CAR           0\n",
      "FLAG_OWN_REALTY        0\n",
      "CNT_CHILDREN           0\n",
      "AMT_INCOME_TOTAL       0\n",
      "NAME_INCOME_TYPE       0\n",
      "NAME_EDUCATION_TYPE    0\n",
      "NAME_FAMILY_STATUS     0\n",
      "NAME_HOUSING_TYPE      0\n",
      "DAYS_BIRTH             0\n",
      "DAYS_EMPLOYED          0\n",
      "FLAG_WORK_PHONE        0\n",
      "FLAG_PHONE             0\n",
      "FLAG_EMAIL             0\n",
      "OCCUPATION_TYPE        0\n",
      "CNT_FAM_MEMBERS        0\n",
      "AGE                    0\n",
      "EMPLOYMENT_YEARS       0\n",
      "dtype: int64\n",
      "0\n"
     ]
    }
   ],
   "execution_count": 24
  },
  {
   "metadata": {
    "ExecuteTime": {
     "end_time": "2024-12-25T20:39:43.556287Z",
     "start_time": "2024-12-25T20:39:43.188399Z"
    }
   },
   "cell_type": "code",
   "source": [
    "# Check for duplicates\n",
    "duplicates = df.duplicated().sum()\n",
    "print(f\"Number of duplicate rows: {duplicates}\")\n",
    "\n",
    "# Optionally, remove duplicates\n",
    "df = df.drop_duplicates()\n"
   ],
   "id": "45bd1f573e9a1641",
   "outputs": [
    {
     "name": "stdout",
     "output_type": "stream",
     "text": [
      "Number of duplicate rows: 0\n"
     ]
    }
   ],
   "execution_count": 25
  },
  {
   "metadata": {
    "ExecuteTime": {
     "end_time": "2024-12-25T20:39:43.567316Z",
     "start_time": "2024-12-25T20:39:43.563299Z"
    }
   },
   "cell_type": "code",
   "source": [
    "# Check for negative or unrealistic values in 'DAYS_BIRTH' (age)\n",
    "print(f\"Negative age values: {df[df['DAYS_BIRTH'] < 0].shape[0]}\")\n",
    "\n",
    "# Check for extreme or unrealistic values in 'DAYS_EMPLOYED'\n",
    "print(f\"Extreme 'DAYS_EMPLOYED' values: {df[df['DAYS_EMPLOYED'] > 365243].shape[0]}\")  # 1000+ years\n"
   ],
   "id": "9277d2c7f144efb1",
   "outputs": [
    {
     "name": "stdout",
     "output_type": "stream",
     "text": [
      "Negative age values: 0\n",
      "Extreme 'DAYS_EMPLOYED' values: 0\n"
     ]
    }
   ],
   "execution_count": 26
  },
  {
   "metadata": {
    "ExecuteTime": {
     "end_time": "2024-12-25T20:39:43.579971Z",
     "start_time": "2024-12-25T20:39:43.577485Z"
    }
   },
   "cell_type": "code",
   "source": [
    "# Check for zero income values\n",
    "zero_income = df[df['AMT_INCOME_TOTAL'] == 0]\n",
    "print(f\"Rows with zero income: {zero_income.shape[0]}\")\n"
   ],
   "id": "37d64299ea90f183",
   "outputs": [
    {
     "name": "stdout",
     "output_type": "stream",
     "text": [
      "Rows with zero income: 0\n"
     ]
    }
   ],
   "execution_count": 27
  },
  {
   "metadata": {
    "ExecuteTime": {
     "end_time": "2024-12-25T20:39:43.606795Z",
     "start_time": "2024-12-25T20:39:43.598767Z"
    }
   },
   "cell_type": "code",
   "source": [
    "# Check for outliers in 'AMT_INCOME_TOTAL' (for example, values beyond 99th percentile)\n",
    "income_percentile_99 = df['AMT_INCOME_TOTAL'].quantile(0.99)\n",
    "outliers_income = df[df['AMT_INCOME_TOTAL'] > income_percentile_99]\n",
    "print(f\"Rows with income above the 99th percentile: {outliers_income.shape[0]}\")\n"
   ],
   "id": "e1302bba8dfc7c97",
   "outputs": [
    {
     "name": "stdout",
     "output_type": "stream",
     "text": [
      "Rows with income above the 99th percentile: 3658\n"
     ]
    }
   ],
   "execution_count": 28
  },
  {
   "metadata": {
    "ExecuteTime": {
     "end_time": "2024-12-25T20:39:43.651349Z",
     "start_time": "2024-12-25T20:39:43.622095Z"
    }
   },
   "cell_type": "code",
   "source": [
    "# Check if AGE is within a reasonable range (e.g., between 18 and 100)\n",
    "print(df[(df['AGE'] < 18) | (df['AGE'] > 100)])\n",
    "\n",
    "# Check for valid employment years (should be > 0)\n",
    "print(df[df['EMPLOYMENT_YEARS'] <= 0])\n"
   ],
   "id": "180c0e1774518d42",
   "outputs": [
    {
     "name": "stdout",
     "output_type": "stream",
     "text": [
      "             ID CODE_GENDER FLAG_OWN_CAR FLAG_OWN_REALTY  CNT_CHILDREN  \\\n",
      "0       5008804           M            Y               Y           0.0   \n",
      "1       5008805           M            Y               Y           0.0   \n",
      "2       5008806           M            Y               Y           0.0   \n",
      "3       5008808           F            N               Y           0.0   \n",
      "4       5008809           F            N               Y           0.0   \n",
      "...         ...         ...          ...             ...           ...   \n",
      "438505  7999660           F            N               N           0.0   \n",
      "438506  7999696           F            N               Y           2.0   \n",
      "438507  7999738           M            N               Y           0.0   \n",
      "438508  7999784           F            Y               Y           1.0   \n",
      "438509  7999952           F            N               Y           1.0   \n",
      "\n",
      "        AMT_INCOME_TOTAL      NAME_INCOME_TYPE            NAME_EDUCATION_TYPE  \\\n",
      "0               0.059697               Working               Higher education   \n",
      "1               0.059697               Working               Higher education   \n",
      "2               0.012850               Working  Secondary / secondary special   \n",
      "3               0.036274  Commercial associate  Secondary / secondary special   \n",
      "4               0.036274  Commercial associate  Secondary / secondary special   \n",
      "...                  ...                   ...                            ...   \n",
      "438505          0.009503         State servant               Higher education   \n",
      "438506          0.016196         State servant  Secondary / secondary special   \n",
      "438507          0.022889               Working  Secondary / secondary special   \n",
      "438508          0.022889  Commercial associate  Secondary / secondary special   \n",
      "438509          0.019542         State servant               Higher education   \n",
      "\n",
      "          NAME_FAMILY_STATUS  NAME_HOUSING_TYPE  DAYS_BIRTH  DAYS_EMPLOYED  \\\n",
      "0             Civil marriage   Rented apartment     12005.0         4542.0   \n",
      "1             Civil marriage   Rented apartment     12005.0         4542.0   \n",
      "2                    Married  House / apartment     21474.0         1134.0   \n",
      "3       Single / not married  House / apartment     19110.0         3051.0   \n",
      "4       Single / not married  House / apartment     19110.0         3051.0   \n",
      "...                      ...                ...         ...            ...   \n",
      "438505  Single / not married  House / apartment     13432.0         5446.0   \n",
      "438506               Married  House / apartment     12576.0         4382.0   \n",
      "438507               Married  House / apartment      9970.0          119.0   \n",
      "438508               Married  House / apartment     10630.0          454.0   \n",
      "438509               Married  House / apartment     15859.0         3679.0   \n",
      "\n",
      "        FLAG_WORK_PHONE  FLAG_PHONE  FLAG_EMAIL OCCUPATION_TYPE  \\\n",
      "0                   1.0         0.0         0.0        Laborers   \n",
      "1                   1.0         0.0         0.0        Laborers   \n",
      "2                   0.0         0.0         0.0  Security staff   \n",
      "3                   0.0         1.0         1.0     Sales staff   \n",
      "4                   0.0         1.0         1.0     Sales staff   \n",
      "...                 ...         ...         ...             ...   \n",
      "438505              0.0         0.0         0.0      Core staff   \n",
      "438506              0.0         0.0         0.0  Medicine staff   \n",
      "438507              0.0         0.0         0.0        Laborers   \n",
      "438508              0.0         0.0         0.0        Laborers   \n",
      "438509              0.0         0.0         0.0      Core staff   \n",
      "\n",
      "        CNT_FAM_MEMBERS       AGE  EMPLOYMENT_YEARS  \n",
      "0                   2.0  0.254968          0.258576  \n",
      "1                   2.0  0.254968          0.258576  \n",
      "2                   2.0  0.789578          0.064045  \n",
      "3                   1.0  0.656109          0.173469  \n",
      "4                   1.0  0.656109          0.173469  \n",
      "...                 ...       ...               ...  \n",
      "438505              1.0  0.335535          0.310178  \n",
      "438506              4.0  0.287206          0.249443  \n",
      "438507              2.0  0.140075          0.006108  \n",
      "438508              3.0  0.177337          0.025230  \n",
      "438509              3.0  0.472561          0.209316  \n",
      "\n",
      "[438508 rows x 19 columns]\n",
      "             ID CODE_GENDER FLAG_OWN_CAR FLAG_OWN_REALTY  CNT_CHILDREN  \\\n",
      "376813  6639411           F            N               Y           1.0   \n",
      "376814  6639412           F            N               Y           1.0   \n",
      "376815  6639413           F            N               Y           1.0   \n",
      "376816  6639414           F            N               Y           1.0   \n",
      "413029  6790284           F            N               N           0.0   \n",
      "413030  6790285           F            N               N           0.0   \n",
      "434169  7639412           F            N               Y           1.0   \n",
      "436238  7790285           F            N               N           0.0   \n",
      "\n",
      "        AMT_INCOME_TOTAL      NAME_INCOME_TYPE            NAME_EDUCATION_TYPE  \\\n",
      "376813          0.008165  Commercial associate  Secondary / secondary special   \n",
      "376814          0.008165  Commercial associate  Secondary / secondary special   \n",
      "376815          0.008165  Commercial associate  Secondary / secondary special   \n",
      "376816          0.008165  Commercial associate  Secondary / secondary special   \n",
      "413029          0.020211               Working               Higher education   \n",
      "413030          0.020211               Working               Higher education   \n",
      "434169          0.008165  Commercial associate  Secondary / secondary special   \n",
      "436238          0.020211               Working               Higher education   \n",
      "\n",
      "       NAME_FAMILY_STATUS  NAME_HOUSING_TYPE  DAYS_BIRTH  DAYS_EMPLOYED  \\\n",
      "376813          Separated  House / apartment     11989.0           12.0   \n",
      "376814          Separated  House / apartment     11989.0           12.0   \n",
      "376815          Separated  House / apartment     11989.0           12.0   \n",
      "376816          Separated  House / apartment     11989.0           12.0   \n",
      "413029          Separated  House / apartment     17036.0           12.0   \n",
      "413030          Separated  House / apartment     17036.0           12.0   \n",
      "434169          Separated  House / apartment     11989.0           12.0   \n",
      "436238          Separated  House / apartment     17036.0           12.0   \n",
      "\n",
      "        FLAG_WORK_PHONE  FLAG_PHONE  FLAG_EMAIL OCCUPATION_TYPE  \\\n",
      "376813              0.0         0.0         1.0        Laborers   \n",
      "376814              0.0         0.0         1.0        Laborers   \n",
      "376815              0.0         0.0         1.0        Laborers   \n",
      "376816              0.0         0.0         1.0        Laborers   \n",
      "413029              0.0         0.0         0.0      Core staff   \n",
      "413030              0.0         0.0         0.0      Core staff   \n",
      "434169              0.0         0.0         1.0        Laborers   \n",
      "436238              0.0         0.0         0.0      Core staff   \n",
      "\n",
      "        CNT_FAM_MEMBERS       AGE  EMPLOYMENT_YEARS  \n",
      "376813              2.0  0.254065               0.0  \n",
      "376814              2.0  0.254065               0.0  \n",
      "376815              2.0  0.254065               0.0  \n",
      "376816              2.0  0.254065               0.0  \n",
      "413029              1.0  0.539013               0.0  \n",
      "413030              1.0  0.539013               0.0  \n",
      "434169              2.0  0.254065               0.0  \n",
      "436238              1.0  0.539013               0.0  \n"
     ]
    }
   ],
   "execution_count": 29
  },
  {
   "metadata": {
    "ExecuteTime": {
     "end_time": "2024-12-25T20:39:46.090818Z",
     "start_time": "2024-12-25T20:39:43.659779Z"
    }
   },
   "cell_type": "code",
   "source": [
    "import pandas as pd\n",
    "\n",
    "# Assuming `df` is your DataFrame that you want to save and make available\n",
    "\n",
    "# Save the DataFrame to a CSV file\n",
    "df.to_csv('application_record_cleaned.csv', index=False)\n",
    "\n",
    "# If you are running in a web-based or GUI framework, implement download functionality accordingly.\n",
    "print(\"File has been saved as 'application_record_cleaned.csv'. You can provide this file for download if needed.\")"
   ],
   "id": "483c6afa947b68b0",
   "outputs": [
    {
     "name": "stdout",
     "output_type": "stream",
     "text": [
      "File has been saved as 'application_record_cleaned.csv'. You can provide this file for download if needed.\n"
     ]
    }
   ],
   "execution_count": 30
  },
  {
   "metadata": {
    "ExecuteTime": {
     "end_time": "2024-12-25T20:39:46.103997Z",
     "start_time": "2024-12-25T20:39:46.102075Z"
    }
   },
   "cell_type": "code",
   "source": "print(df.columns)",
   "id": "3d7da2febecb89e3",
   "outputs": [
    {
     "name": "stdout",
     "output_type": "stream",
     "text": [
      "Index(['ID', 'CODE_GENDER', 'FLAG_OWN_CAR', 'FLAG_OWN_REALTY', 'CNT_CHILDREN',\n",
      "       'AMT_INCOME_TOTAL', 'NAME_INCOME_TYPE', 'NAME_EDUCATION_TYPE',\n",
      "       'NAME_FAMILY_STATUS', 'NAME_HOUSING_TYPE', 'DAYS_BIRTH',\n",
      "       'DAYS_EMPLOYED', 'FLAG_WORK_PHONE', 'FLAG_PHONE', 'FLAG_EMAIL',\n",
      "       'OCCUPATION_TYPE', 'CNT_FAM_MEMBERS', 'AGE', 'EMPLOYMENT_YEARS'],\n",
      "      dtype='object')\n"
     ]
    }
   ],
   "execution_count": 31
  }
 ],
 "metadata": {
  "kernelspec": {
   "display_name": "Python 3",
   "language": "python",
   "name": "python3"
  },
  "language_info": {
   "codemirror_mode": {
    "name": "ipython",
    "version": 2
   },
   "file_extension": ".py",
   "mimetype": "text/x-python",
   "name": "python",
   "nbconvert_exporter": "python",
   "pygments_lexer": "ipython2",
   "version": "2.7.6"
  }
 },
 "nbformat": 4,
 "nbformat_minor": 5
}
