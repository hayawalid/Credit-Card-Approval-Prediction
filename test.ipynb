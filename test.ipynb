{
 "cells": [
  {
   "metadata": {
    "ExecuteTime": {
     "end_time": "2024-12-24T21:38:37.919107Z",
     "start_time": "2024-12-24T21:38:37.521610Z"
    }
   },
   "cell_type": "code",
   "source": [
    "import pandas as pd\n",
    "df = pd.read_csv(\"data/application_record.csv\")\n"
   ],
   "id": "9a79755b938e80f3",
   "outputs": [],
   "execution_count": 163
  },
  {
   "metadata": {
    "ExecuteTime": {
     "end_time": "2024-12-24T21:08:30.234329Z",
     "start_time": "2024-12-24T21:08:30.183003Z"
    }
   },
   "cell_type": "code",
   "source": [
    "import pandas as pd\n",
    "\n",
    "mode_value = df['OCCUPATION_TYPE'].mode()[0]\n",
    "\n",
    "# Replace missing values with the mode\n",
    "df['OCCUPATION_TYPE'].fillna(mode_value, inplace=True)\n",
    "\n",
    "# Verify that missing values have been filled\n",
    "print(df['OCCUPATION_TYPE'].isnull().sum())  # Should print 0 if all missing values are replaced\n"
   ],
   "id": "d0994e761f71e318",
   "outputs": [
    {
     "name": "stdout",
     "output_type": "stream",
     "text": [
      "0\n"
     ]
    }
   ],
   "execution_count": 103
  },
  {
   "cell_type": "code",
   "id": "initial_id",
   "metadata": {
    "collapsed": true,
    "ExecuteTime": {
     "end_time": "2024-12-24T21:43:41.433038Z",
     "start_time": "2024-12-24T21:41:21.193700Z"
    }
   },
   "source": [
    "import numpy as np\n",
    "\n",
    "def aggregate_columns(column):\n",
    "    if column.dtype == 'O':  # If categorical\n",
    "        # Check if the mode exists\n",
    "        mode = column.mode()\n",
    "        if not mode.empty:\n",
    "            return mode.iloc[0]  # Most frequent value\n",
    "        else:\n",
    "            return None  # Return None if no mode is found\n",
    "    else:  # For numerical columns\n",
    "        return column.mean()  # Use mean\n",
    "\n",
    "df = df.groupby('ID').agg(aggregate_columns).reset_index()\n",
    "print(df)"
   ],
   "outputs": [
    {
     "name": "stdout",
     "output_type": "stream",
     "text": [
      "             ID CODE_GENDER FLAG_OWN_CAR FLAG_OWN_REALTY  CNT_CHILDREN  \\\n",
      "0       5008804           M            Y               Y           0.0   \n",
      "1       5008805           M            Y               Y           0.0   \n",
      "2       5008806           M            Y               Y           0.0   \n",
      "3       5008808           F            N               Y           0.0   \n",
      "4       5008809           F            N               Y           0.0   \n",
      "...         ...         ...          ...             ...           ...   \n",
      "438505  7999660           F            N               N           0.0   \n",
      "438506  7999696           F            N               Y           2.0   \n",
      "438507  7999738           M            N               Y           0.0   \n",
      "438508  7999784           F            Y               Y           1.0   \n",
      "438509  7999952           F            N               Y           1.0   \n",
      "\n",
      "        AMT_INCOME_TOTAL      NAME_INCOME_TYPE            NAME_EDUCATION_TYPE  \\\n",
      "0               427500.0               Working               Higher education   \n",
      "1               427500.0               Working               Higher education   \n",
      "2               112500.0               Working  Secondary / secondary special   \n",
      "3               270000.0  Commercial associate  Secondary / secondary special   \n",
      "4               270000.0  Commercial associate  Secondary / secondary special   \n",
      "...                  ...                   ...                            ...   \n",
      "438505           90000.0         State servant               Higher education   \n",
      "438506          135000.0         State servant  Secondary / secondary special   \n",
      "438507          180000.0               Working  Secondary / secondary special   \n",
      "438508          180000.0  Commercial associate  Secondary / secondary special   \n",
      "438509          157500.0         State servant               Higher education   \n",
      "\n",
      "          NAME_FAMILY_STATUS  NAME_HOUSING_TYPE  DAYS_BIRTH  DAYS_EMPLOYED  \\\n",
      "0             Civil marriage   Rented apartment    -12005.0        -4542.0   \n",
      "1             Civil marriage   Rented apartment    -12005.0        -4542.0   \n",
      "2                    Married  House / apartment    -21474.0        -1134.0   \n",
      "3       Single / not married  House / apartment    -19110.0        -3051.0   \n",
      "4       Single / not married  House / apartment    -19110.0        -3051.0   \n",
      "...                      ...                ...         ...            ...   \n",
      "438505  Single / not married  House / apartment    -13432.0        -5446.0   \n",
      "438506               Married  House / apartment    -12576.0        -4382.0   \n",
      "438507               Married  House / apartment     -9970.0         -119.0   \n",
      "438508               Married  House / apartment    -10630.0         -454.0   \n",
      "438509               Married  House / apartment    -15859.0        -3679.0   \n",
      "\n",
      "        FLAG_MOBIL  FLAG_WORK_PHONE  FLAG_PHONE  FLAG_EMAIL OCCUPATION_TYPE  \\\n",
      "0              1.0              1.0         0.0         0.0            None   \n",
      "1              1.0              1.0         0.0         0.0            None   \n",
      "2              1.0              0.0         0.0         0.0  Security staff   \n",
      "3              1.0              0.0         1.0         1.0     Sales staff   \n",
      "4              1.0              0.0         1.0         1.0     Sales staff   \n",
      "...            ...              ...         ...         ...             ...   \n",
      "438505         1.0              0.0         0.0         0.0      Core staff   \n",
      "438506         1.0              0.0         0.0         0.0  Medicine staff   \n",
      "438507         1.0              0.0         0.0         0.0            None   \n",
      "438508         1.0              0.0         0.0         0.0            None   \n",
      "438509         1.0              0.0         0.0         0.0      Core staff   \n",
      "\n",
      "        CNT_FAM_MEMBERS  \n",
      "0                   2.0  \n",
      "1                   2.0  \n",
      "2                   2.0  \n",
      "3                   1.0  \n",
      "4                   1.0  \n",
      "...                 ...  \n",
      "438505              1.0  \n",
      "438506              4.0  \n",
      "438507              2.0  \n",
      "438508              3.0  \n",
      "438509              3.0  \n",
      "\n",
      "[438510 rows x 18 columns]\n"
     ]
    }
   ],
   "execution_count": 165
  },
  {
   "metadata": {
    "ExecuteTime": {
     "end_time": "2024-12-24T21:45:57.954931Z",
     "start_time": "2024-12-24T21:45:57.867595Z"
    }
   },
   "cell_type": "code",
   "source": "df.isnull().sum()\n",
   "id": "2e79733b0b95526e",
   "outputs": [
    {
     "data": {
      "text/plain": [
       "ID                          0\n",
       "CODE_GENDER                 0\n",
       "FLAG_OWN_CAR                0\n",
       "FLAG_OWN_REALTY             0\n",
       "CNT_CHILDREN                0\n",
       "AMT_INCOME_TOTAL            0\n",
       "NAME_INCOME_TYPE            0\n",
       "NAME_EDUCATION_TYPE         0\n",
       "NAME_FAMILY_STATUS          0\n",
       "NAME_HOUSING_TYPE           0\n",
       "DAYS_BIRTH                  0\n",
       "DAYS_EMPLOYED               0\n",
       "FLAG_MOBIL                  0\n",
       "FLAG_WORK_PHONE             0\n",
       "FLAG_PHONE                  0\n",
       "FLAG_EMAIL                  0\n",
       "OCCUPATION_TYPE        134179\n",
       "CNT_FAM_MEMBERS             0\n",
       "dtype: int64"
      ]
     },
     "execution_count": 167,
     "metadata": {},
     "output_type": "execute_result"
    }
   ],
   "execution_count": 167
  },
  {
   "metadata": {
    "ExecuteTime": {
     "end_time": "2024-12-24T21:46:01.820096Z",
     "start_time": "2024-12-24T21:46:01.774360Z"
    }
   },
   "cell_type": "code",
   "source": [
    "df.drop(columns=['FLAG_MOBIL'], inplace=True)\n",
    "\n",
    "print(df.columns)  # 'FLAG_MOBIL' should no longer appear in the list of columns"
   ],
   "id": "153f407052689f58",
   "outputs": [
    {
     "ename": "KeyError",
     "evalue": "\"['FLAG_MOBIL'] not found in axis\"",
     "output_type": "error",
     "traceback": [
      "\u001B[0;31m---------------------------------------------------------------------------\u001B[0m",
      "\u001B[0;31mKeyError\u001B[0m                                  Traceback (most recent call last)",
      "Cell \u001B[0;32mIn[169], line 1\u001B[0m\n\u001B[0;32m----> 1\u001B[0m \u001B[43mdf\u001B[49m\u001B[38;5;241;43m.\u001B[39;49m\u001B[43mdrop\u001B[49m\u001B[43m(\u001B[49m\u001B[43mcolumns\u001B[49m\u001B[38;5;241;43m=\u001B[39;49m\u001B[43m[\u001B[49m\u001B[38;5;124;43m'\u001B[39;49m\u001B[38;5;124;43mFLAG_MOBIL\u001B[39;49m\u001B[38;5;124;43m'\u001B[39;49m\u001B[43m]\u001B[49m\u001B[43m,\u001B[49m\u001B[43m \u001B[49m\u001B[43minplace\u001B[49m\u001B[38;5;241;43m=\u001B[39;49m\u001B[38;5;28;43;01mTrue\u001B[39;49;00m\u001B[43m)\u001B[49m\n\u001B[1;32m      3\u001B[0m \u001B[38;5;28mprint\u001B[39m(df\u001B[38;5;241m.\u001B[39mcolumns)  \u001B[38;5;66;03m# 'FLAG_MOBIL' should no longer appear in the list of columns\u001B[39;00m\n",
      "File \u001B[0;32m~/miniconda3/lib/python3.12/site-packages/pandas/core/frame.py:5581\u001B[0m, in \u001B[0;36mDataFrame.drop\u001B[0;34m(self, labels, axis, index, columns, level, inplace, errors)\u001B[0m\n\u001B[1;32m   5433\u001B[0m \u001B[38;5;28;01mdef\u001B[39;00m \u001B[38;5;21mdrop\u001B[39m(\n\u001B[1;32m   5434\u001B[0m     \u001B[38;5;28mself\u001B[39m,\n\u001B[1;32m   5435\u001B[0m     labels: IndexLabel \u001B[38;5;241m|\u001B[39m \u001B[38;5;28;01mNone\u001B[39;00m \u001B[38;5;241m=\u001B[39m \u001B[38;5;28;01mNone\u001B[39;00m,\n\u001B[0;32m   (...)\u001B[0m\n\u001B[1;32m   5442\u001B[0m     errors: IgnoreRaise \u001B[38;5;241m=\u001B[39m \u001B[38;5;124m\"\u001B[39m\u001B[38;5;124mraise\u001B[39m\u001B[38;5;124m\"\u001B[39m,\n\u001B[1;32m   5443\u001B[0m ) \u001B[38;5;241m-\u001B[39m\u001B[38;5;241m>\u001B[39m DataFrame \u001B[38;5;241m|\u001B[39m \u001B[38;5;28;01mNone\u001B[39;00m:\n\u001B[1;32m   5444\u001B[0m \u001B[38;5;250m    \u001B[39m\u001B[38;5;124;03m\"\"\"\u001B[39;00m\n\u001B[1;32m   5445\u001B[0m \u001B[38;5;124;03m    Drop specified labels from rows or columns.\u001B[39;00m\n\u001B[1;32m   5446\u001B[0m \n\u001B[0;32m   (...)\u001B[0m\n\u001B[1;32m   5579\u001B[0m \u001B[38;5;124;03m            weight  1.0     0.8\u001B[39;00m\n\u001B[1;32m   5580\u001B[0m \u001B[38;5;124;03m    \"\"\"\u001B[39;00m\n\u001B[0;32m-> 5581\u001B[0m     \u001B[38;5;28;01mreturn\u001B[39;00m \u001B[38;5;28;43msuper\u001B[39;49m\u001B[43m(\u001B[49m\u001B[43m)\u001B[49m\u001B[38;5;241;43m.\u001B[39;49m\u001B[43mdrop\u001B[49m\u001B[43m(\u001B[49m\n\u001B[1;32m   5582\u001B[0m \u001B[43m        \u001B[49m\u001B[43mlabels\u001B[49m\u001B[38;5;241;43m=\u001B[39;49m\u001B[43mlabels\u001B[49m\u001B[43m,\u001B[49m\n\u001B[1;32m   5583\u001B[0m \u001B[43m        \u001B[49m\u001B[43maxis\u001B[49m\u001B[38;5;241;43m=\u001B[39;49m\u001B[43maxis\u001B[49m\u001B[43m,\u001B[49m\n\u001B[1;32m   5584\u001B[0m \u001B[43m        \u001B[49m\u001B[43mindex\u001B[49m\u001B[38;5;241;43m=\u001B[39;49m\u001B[43mindex\u001B[49m\u001B[43m,\u001B[49m\n\u001B[1;32m   5585\u001B[0m \u001B[43m        \u001B[49m\u001B[43mcolumns\u001B[49m\u001B[38;5;241;43m=\u001B[39;49m\u001B[43mcolumns\u001B[49m\u001B[43m,\u001B[49m\n\u001B[1;32m   5586\u001B[0m \u001B[43m        \u001B[49m\u001B[43mlevel\u001B[49m\u001B[38;5;241;43m=\u001B[39;49m\u001B[43mlevel\u001B[49m\u001B[43m,\u001B[49m\n\u001B[1;32m   5587\u001B[0m \u001B[43m        \u001B[49m\u001B[43minplace\u001B[49m\u001B[38;5;241;43m=\u001B[39;49m\u001B[43minplace\u001B[49m\u001B[43m,\u001B[49m\n\u001B[1;32m   5588\u001B[0m \u001B[43m        \u001B[49m\u001B[43merrors\u001B[49m\u001B[38;5;241;43m=\u001B[39;49m\u001B[43merrors\u001B[49m\u001B[43m,\u001B[49m\n\u001B[1;32m   5589\u001B[0m \u001B[43m    \u001B[49m\u001B[43m)\u001B[49m\n",
      "File \u001B[0;32m~/miniconda3/lib/python3.12/site-packages/pandas/core/generic.py:4788\u001B[0m, in \u001B[0;36mNDFrame.drop\u001B[0;34m(self, labels, axis, index, columns, level, inplace, errors)\u001B[0m\n\u001B[1;32m   4786\u001B[0m \u001B[38;5;28;01mfor\u001B[39;00m axis, labels \u001B[38;5;129;01min\u001B[39;00m axes\u001B[38;5;241m.\u001B[39mitems():\n\u001B[1;32m   4787\u001B[0m     \u001B[38;5;28;01mif\u001B[39;00m labels \u001B[38;5;129;01mis\u001B[39;00m \u001B[38;5;129;01mnot\u001B[39;00m \u001B[38;5;28;01mNone\u001B[39;00m:\n\u001B[0;32m-> 4788\u001B[0m         obj \u001B[38;5;241m=\u001B[39m \u001B[43mobj\u001B[49m\u001B[38;5;241;43m.\u001B[39;49m\u001B[43m_drop_axis\u001B[49m\u001B[43m(\u001B[49m\u001B[43mlabels\u001B[49m\u001B[43m,\u001B[49m\u001B[43m \u001B[49m\u001B[43maxis\u001B[49m\u001B[43m,\u001B[49m\u001B[43m \u001B[49m\u001B[43mlevel\u001B[49m\u001B[38;5;241;43m=\u001B[39;49m\u001B[43mlevel\u001B[49m\u001B[43m,\u001B[49m\u001B[43m \u001B[49m\u001B[43merrors\u001B[49m\u001B[38;5;241;43m=\u001B[39;49m\u001B[43merrors\u001B[49m\u001B[43m)\u001B[49m\n\u001B[1;32m   4790\u001B[0m \u001B[38;5;28;01mif\u001B[39;00m inplace:\n\u001B[1;32m   4791\u001B[0m     \u001B[38;5;28mself\u001B[39m\u001B[38;5;241m.\u001B[39m_update_inplace(obj)\n",
      "File \u001B[0;32m~/miniconda3/lib/python3.12/site-packages/pandas/core/generic.py:4830\u001B[0m, in \u001B[0;36mNDFrame._drop_axis\u001B[0;34m(self, labels, axis, level, errors, only_slice)\u001B[0m\n\u001B[1;32m   4828\u001B[0m         new_axis \u001B[38;5;241m=\u001B[39m axis\u001B[38;5;241m.\u001B[39mdrop(labels, level\u001B[38;5;241m=\u001B[39mlevel, errors\u001B[38;5;241m=\u001B[39merrors)\n\u001B[1;32m   4829\u001B[0m     \u001B[38;5;28;01melse\u001B[39;00m:\n\u001B[0;32m-> 4830\u001B[0m         new_axis \u001B[38;5;241m=\u001B[39m \u001B[43maxis\u001B[49m\u001B[38;5;241;43m.\u001B[39;49m\u001B[43mdrop\u001B[49m\u001B[43m(\u001B[49m\u001B[43mlabels\u001B[49m\u001B[43m,\u001B[49m\u001B[43m \u001B[49m\u001B[43merrors\u001B[49m\u001B[38;5;241;43m=\u001B[39;49m\u001B[43merrors\u001B[49m\u001B[43m)\u001B[49m\n\u001B[1;32m   4831\u001B[0m     indexer \u001B[38;5;241m=\u001B[39m axis\u001B[38;5;241m.\u001B[39mget_indexer(new_axis)\n\u001B[1;32m   4833\u001B[0m \u001B[38;5;66;03m# Case for non-unique axis\u001B[39;00m\n\u001B[1;32m   4834\u001B[0m \u001B[38;5;28;01melse\u001B[39;00m:\n",
      "File \u001B[0;32m~/miniconda3/lib/python3.12/site-packages/pandas/core/indexes/base.py:7070\u001B[0m, in \u001B[0;36mIndex.drop\u001B[0;34m(self, labels, errors)\u001B[0m\n\u001B[1;32m   7068\u001B[0m \u001B[38;5;28;01mif\u001B[39;00m mask\u001B[38;5;241m.\u001B[39many():\n\u001B[1;32m   7069\u001B[0m     \u001B[38;5;28;01mif\u001B[39;00m errors \u001B[38;5;241m!=\u001B[39m \u001B[38;5;124m\"\u001B[39m\u001B[38;5;124mignore\u001B[39m\u001B[38;5;124m\"\u001B[39m:\n\u001B[0;32m-> 7070\u001B[0m         \u001B[38;5;28;01mraise\u001B[39;00m \u001B[38;5;167;01mKeyError\u001B[39;00m(\u001B[38;5;124mf\u001B[39m\u001B[38;5;124m\"\u001B[39m\u001B[38;5;132;01m{\u001B[39;00mlabels[mask]\u001B[38;5;241m.\u001B[39mtolist()\u001B[38;5;132;01m}\u001B[39;00m\u001B[38;5;124m not found in axis\u001B[39m\u001B[38;5;124m\"\u001B[39m)\n\u001B[1;32m   7071\u001B[0m     indexer \u001B[38;5;241m=\u001B[39m indexer[\u001B[38;5;241m~\u001B[39mmask]\n\u001B[1;32m   7072\u001B[0m \u001B[38;5;28;01mreturn\u001B[39;00m \u001B[38;5;28mself\u001B[39m\u001B[38;5;241m.\u001B[39mdelete(indexer)\n",
      "\u001B[0;31mKeyError\u001B[0m: \"['FLAG_MOBIL'] not found in axis\""
     ]
    }
   ],
   "execution_count": 169
  },
  {
   "metadata": {
    "ExecuteTime": {
     "end_time": "2024-12-24T21:46:05.507836Z",
     "start_time": "2024-12-24T21:46:05.490742Z"
    }
   },
   "cell_type": "code",
   "source": [
    "# Convert negative values in 'DAYS_BIRTH' and 'DAYS_EMPLOYED' to positive values\n",
    "df['DAYS_BIRTH'] = abs(df['DAYS_BIRTH'])\n",
    "df['DAYS_EMPLOYED'] = abs(df['DAYS_EMPLOYED'])\n",
    "\n",
    "# Optionally, if you want to convert days to years (for 'DAYS_BIRTH'):\n",
    "df['AGE'] = df['DAYS_BIRTH'] / 365  # Convert days to years\n",
    "\n",
    "# Optionally, if you want to convert 'DAYS_EMPLOYED' to years:\n",
    "df['EMPLOYMENT_YEARS'] = df['DAYS_EMPLOYED'] / 365  # Convert days to years\n",
    "\n",
    "# Verify changes\n",
    "print(df[['DAYS_BIRTH', 'AGE', 'DAYS_EMPLOYED', 'EMPLOYMENT_YEARS']].tail())\n"
   ],
   "id": "3f58f1f6e8a35334",
   "outputs": [
    {
     "name": "stdout",
     "output_type": "stream",
     "text": [
      "        DAYS_BIRTH        AGE  DAYS_EMPLOYED  EMPLOYMENT_YEARS\n",
      "438505     13432.0  36.800000         5446.0         14.920548\n",
      "438506     12576.0  34.454795         4382.0         12.005479\n",
      "438507      9970.0  27.315068          119.0          0.326027\n",
      "438508     10630.0  29.123288          454.0          1.243836\n",
      "438509     15859.0  43.449315         3679.0         10.079452\n"
     ]
    }
   ],
   "execution_count": 171
  },
  {
   "metadata": {
    "ExecuteTime": {
     "end_time": "2024-12-24T21:46:08.361432Z",
     "start_time": "2024-12-24T21:46:08.356031Z"
    }
   },
   "cell_type": "code",
   "source": [
    "# Handling extreme negative values (optional)\n",
    "df.loc[df['DAYS_EMPLOYED'] < -10000, 'DAYS_EMPLOYED'] = None  # Mark extreme negative values as missing (e.g., > 10 years)\n"
   ],
   "id": "f34694bfcc5c2f1e",
   "outputs": [],
   "execution_count": 173
  },
  {
   "metadata": {
    "ExecuteTime": {
     "end_time": "2024-12-24T21:46:11.710511Z",
     "start_time": "2024-12-24T21:46:11.690246Z"
    }
   },
   "cell_type": "code",
   "source": [
    "import numpy as np\n",
    "\n",
    "# Assuming df is your DataFrame\n",
    "# Ensure that the 'DAYS_BIRTH' and 'DAYS_EMPLOYED' columns are already in the correct format (days)\n",
    "\n",
    "# Convert 'DAYS_BIRTH' to age in years\n",
    "df['AGE'] = abs(df['DAYS_BIRTH']) / 365\n",
    "\n",
    "# Convert 'DAYS_EMPLOYED' to employment years\n",
    "df['EMPLOYMENT_YEARS'] = abs(df['DAYS_EMPLOYED']) / 365\n",
    "\n",
    "# Handle the case where employment years are greater than the person's age minus 18\n",
    "df.loc[df['EMPLOYMENT_YEARS'] > (df['AGE'] - 18), 'EMPLOYMENT_YEARS'] = np.nan  # Replace with NaN if unrealistic\n",
    "\n",
    "# Handle extreme employment years (e.g., more than 100 years of employment)\n",
    "df.loc[df['EMPLOYMENT_YEARS'] > 100, 'EMPLOYMENT_YEARS'] = np.nan  # Replace with NaN for extreme values\n",
    "\n",
    "# Verify the changes\n",
    "print(df[['DAYS_BIRTH', 'AGE', 'DAYS_EMPLOYED', 'EMPLOYMENT_YEARS']].tail())\n"
   ],
   "id": "51769edc1f7122c3",
   "outputs": [
    {
     "name": "stdout",
     "output_type": "stream",
     "text": [
      "        DAYS_BIRTH        AGE  DAYS_EMPLOYED  EMPLOYMENT_YEARS\n",
      "438505     13432.0  36.800000         5446.0         14.920548\n",
      "438506     12576.0  34.454795         4382.0         12.005479\n",
      "438507      9970.0  27.315068          119.0          0.326027\n",
      "438508     10630.0  29.123288          454.0          1.243836\n",
      "438509     15859.0  43.449315         3679.0         10.079452\n"
     ]
    }
   ],
   "execution_count": 175
  },
  {
   "metadata": {
    "ExecuteTime": {
     "end_time": "2024-12-24T21:46:14.238355Z",
     "start_time": "2024-12-24T21:46:14.228791Z"
    }
   },
   "cell_type": "code",
   "source": [
    "from sklearn.preprocessing import MinMaxScaler\n",
    "\n",
    "# Assuming df is your DataFrame and 'AMT_INCOME_TOTAL' is the column to normalize\n",
    "\n",
    "scaler = MinMaxScaler()\n",
    "\n",
    "# Normalize the 'AMT_INCOME_TOTAL' column\n",
    "df['AMT_INCOME_TOTAL'] = scaler.fit_transform(df[['AMT_INCOME_TOTAL']])\n",
    "\n",
    "# Verify the result\n",
    "print(df[['AMT_INCOME_TOTAL']].tail())\n"
   ],
   "id": "628ed69f5c460ca5",
   "outputs": [
    {
     "name": "stdout",
     "output_type": "stream",
     "text": [
      "        AMT_INCOME_TOTAL\n",
      "438505          0.009503\n",
      "438506          0.016196\n",
      "438507          0.022889\n",
      "438508          0.022889\n",
      "438509          0.019542\n"
     ]
    }
   ],
   "execution_count": 176
  },
  {
   "metadata": {
    "ExecuteTime": {
     "end_time": "2024-12-24T21:46:16.519111Z",
     "start_time": "2024-12-24T21:46:16.475967Z"
    }
   },
   "cell_type": "code",
   "source": [
    "# Check distribution of CODE_GENDER\n",
    "print(df['CODE_GENDER'].value_counts())\n",
    "\n",
    "# Check distribution of NAME_INCOME_TYPE\n",
    "print(df['NAME_INCOME_TYPE'].value_counts())\n"
   ],
   "id": "1f3a412f5cd62a5d",
   "outputs": [
    {
     "name": "stdout",
     "output_type": "stream",
     "text": [
      "CODE_GENDER\n",
      "F    294422\n",
      "M    144088\n",
      "Name: count, dtype: int64\n",
      "NAME_INCOME_TYPE\n",
      "Working                 226072\n",
      "Commercial associate    100753\n",
      "Pensioner                75483\n",
      "State servant            36185\n",
      "Student                     17\n",
      "Name: count, dtype: int64\n"
     ]
    }
   ],
   "execution_count": 177
  },
  {
   "metadata": {
    "ExecuteTime": {
     "end_time": "2024-12-24T21:46:18.844048Z",
     "start_time": "2024-12-24T21:46:18.738308Z"
    }
   },
   "cell_type": "code",
   "source": [
    "# Check for missing values\n",
    "print(df.isnull().sum())\n"
   ],
   "id": "7fb0c9067636436d",
   "outputs": [
    {
     "name": "stdout",
     "output_type": "stream",
     "text": [
      "ID                          0\n",
      "CODE_GENDER                 0\n",
      "FLAG_OWN_CAR                0\n",
      "FLAG_OWN_REALTY             0\n",
      "CNT_CHILDREN                0\n",
      "AMT_INCOME_TOTAL            0\n",
      "NAME_INCOME_TYPE            0\n",
      "NAME_EDUCATION_TYPE         0\n",
      "NAME_FAMILY_STATUS          0\n",
      "NAME_HOUSING_TYPE           0\n",
      "DAYS_BIRTH                  0\n",
      "DAYS_EMPLOYED               0\n",
      "FLAG_WORK_PHONE             0\n",
      "FLAG_PHONE                  0\n",
      "FLAG_EMAIL                  0\n",
      "OCCUPATION_TYPE        134179\n",
      "CNT_FAM_MEMBERS             0\n",
      "AGE                         0\n",
      "EMPLOYMENT_YEARS        75574\n",
      "dtype: int64\n"
     ]
    }
   ],
   "execution_count": 178
  },
  {
   "metadata": {
    "ExecuteTime": {
     "end_time": "2024-12-24T21:46:21.353792Z",
     "start_time": "2024-12-24T21:46:21.350297Z"
    }
   },
   "cell_type": "code",
   "source": [
    "# Check data types of each column\n",
    "print(df.dtypes)\n"
   ],
   "id": "948f523eaa9a6020",
   "outputs": [
    {
     "name": "stdout",
     "output_type": "stream",
     "text": [
      "ID                       int64\n",
      "CODE_GENDER             object\n",
      "FLAG_OWN_CAR            object\n",
      "FLAG_OWN_REALTY         object\n",
      "CNT_CHILDREN           float64\n",
      "AMT_INCOME_TOTAL       float64\n",
      "NAME_INCOME_TYPE        object\n",
      "NAME_EDUCATION_TYPE     object\n",
      "NAME_FAMILY_STATUS      object\n",
      "NAME_HOUSING_TYPE       object\n",
      "DAYS_BIRTH             float64\n",
      "DAYS_EMPLOYED          float64\n",
      "FLAG_WORK_PHONE        float64\n",
      "FLAG_PHONE             float64\n",
      "FLAG_EMAIL             float64\n",
      "OCCUPATION_TYPE         object\n",
      "CNT_FAM_MEMBERS        float64\n",
      "AGE                    float64\n",
      "EMPLOYMENT_YEARS       float64\n",
      "dtype: object\n"
     ]
    }
   ],
   "execution_count": 179
  },
  {
   "metadata": {
    "ExecuteTime": {
     "end_time": "2024-12-24T21:46:23.335657Z",
     "start_time": "2024-12-24T21:46:23.306530Z"
    }
   },
   "cell_type": "code",
   "source": [
    "# Get descriptive statistics for the 'EMPLOYMENT_YEARS' column\n",
    "print(df['EMPLOYMENT_YEARS'].describe()) #DATA IS RIGHT SKEWED USE MEDIAN\n"
   ],
   "id": "c5523518cd8009a6",
   "outputs": [
    {
     "name": "stdout",
     "output_type": "stream",
     "text": [
      "count    362936.000000\n",
      "mean          7.179731\n",
      "std           6.568024\n",
      "min           0.032877\n",
      "25%           2.504110\n",
      "50%           5.268493\n",
      "75%           9.613699\n",
      "max          48.030137\n",
      "Name: EMPLOYMENT_YEARS, dtype: float64\n"
     ]
    }
   ],
   "execution_count": 180
  },
  {
   "metadata": {
    "ExecuteTime": {
     "end_time": "2024-12-24T21:46:25.556676Z",
     "start_time": "2024-12-24T21:46:25.546804Z"
    }
   },
   "cell_type": "code",
   "source": "df['EMPLOYMENT_YEARS'] = df['EMPLOYMENT_YEARS'].fillna(df['EMPLOYMENT_YEARS'].median())",
   "id": "bd86df81551eebb3",
   "outputs": [],
   "execution_count": 181
  },
  {
   "metadata": {
    "ExecuteTime": {
     "end_time": "2024-12-24T21:46:26.874596Z",
     "start_time": "2024-12-24T21:46:26.787500Z"
    }
   },
   "cell_type": "code",
   "source": [
    "# Check for missing values\n",
    "print(df.isnull().sum())\n"
   ],
   "id": "1b13c4c4b90563a7",
   "outputs": [
    {
     "name": "stdout",
     "output_type": "stream",
     "text": [
      "ID                          0\n",
      "CODE_GENDER                 0\n",
      "FLAG_OWN_CAR                0\n",
      "FLAG_OWN_REALTY             0\n",
      "CNT_CHILDREN                0\n",
      "AMT_INCOME_TOTAL            0\n",
      "NAME_INCOME_TYPE            0\n",
      "NAME_EDUCATION_TYPE         0\n",
      "NAME_FAMILY_STATUS          0\n",
      "NAME_HOUSING_TYPE           0\n",
      "DAYS_BIRTH                  0\n",
      "DAYS_EMPLOYED               0\n",
      "FLAG_WORK_PHONE             0\n",
      "FLAG_PHONE                  0\n",
      "FLAG_EMAIL                  0\n",
      "OCCUPATION_TYPE        134179\n",
      "CNT_FAM_MEMBERS             0\n",
      "AGE                         0\n",
      "EMPLOYMENT_YEARS            0\n",
      "dtype: int64\n"
     ]
    }
   ],
   "execution_count": 182
  },
  {
   "metadata": {
    "ExecuteTime": {
     "end_time": "2024-12-24T21:46:28.938435Z",
     "start_time": "2024-12-24T21:46:28.788484Z"
    }
   },
   "cell_type": "code",
   "source": [
    "# Check for outliers or invalid values\n",
    "print(df.describe())\n"
   ],
   "id": "d1c7813557a60dbe",
   "outputs": [
    {
     "name": "stdout",
     "output_type": "stream",
     "text": [
      "                 ID   CNT_CHILDREN  AMT_INCOME_TOTAL     DAYS_BIRTH  \\\n",
      "count  4.385100e+05  438510.000000     438510.000000  438510.000000   \n",
      "mean   6.022035e+06       0.427387          0.024007   15997.919490   \n",
      "std    5.714962e+05       0.724863          0.016372    4184.914798   \n",
      "min    5.008804e+06       0.000000          0.000000    7489.000000   \n",
      "25%    5.609362e+06       0.000000          0.014188   12514.000000   \n",
      "50%    6.047720e+06       0.000000          0.020078   15630.000000   \n",
      "75%    6.454161e+06       1.000000          0.029581   19483.000000   \n",
      "max    7.999952e+06      19.000000          1.000000   25201.000000   \n",
      "\n",
      "       DAYS_EMPLOYED  FLAG_WORK_PHONE     FLAG_PHONE     FLAG_EMAIL  \\\n",
      "count  438510.000000    438510.000000  438510.000000  438510.000000   \n",
      "mean    64909.149696         0.206131       0.287767       0.108202   \n",
      "std    136785.546110         0.404514       0.452709       0.310625   \n",
      "min        12.000000         0.000000       0.000000       0.000000   \n",
      "25%      1093.000000         0.000000       0.000000       0.000000   \n",
      "50%      2514.000000         0.000000       0.000000       0.000000   \n",
      "75%      5850.000000         0.000000       1.000000       0.000000   \n",
      "max    365243.000000         1.000000       1.000000       1.000000   \n",
      "\n",
      "       CNT_FAM_MEMBERS            AGE  EMPLOYMENT_YEARS  \n",
      "count    438510.000000  438510.000000     438510.000000  \n",
      "mean          2.194463      43.829916          6.850343  \n",
      "std           0.897176      11.465520          6.018744  \n",
      "min           1.000000      20.517808          0.032877  \n",
      "25%           2.000000      34.284932          2.994521  \n",
      "50%           2.000000      42.821918          5.268493  \n",
      "75%           3.000000      53.378082          8.495890  \n",
      "max          20.000000      69.043836         48.030137  \n"
     ]
    }
   ],
   "execution_count": 183
  },
  {
   "metadata": {
    "ExecuteTime": {
     "end_time": "2024-12-24T21:46:31.071720Z",
     "start_time": "2024-12-24T21:46:31.052751Z"
    }
   },
   "cell_type": "code",
   "source": [
    "# Check the range of numeric features\n",
    "print(df[['AGE', 'AMT_INCOME_TOTAL', 'DAYS_BIRTH']].min())\n",
    "print(df[['AGE', 'AMT_INCOME_TOTAL', 'DAYS_BIRTH']].max())\n"
   ],
   "id": "5ae942b2035aaf22",
   "outputs": [
    {
     "name": "stdout",
     "output_type": "stream",
     "text": [
      "AGE                   20.517808\n",
      "AMT_INCOME_TOTAL       0.000000\n",
      "DAYS_BIRTH          7489.000000\n",
      "dtype: float64\n",
      "AGE                    69.043836\n",
      "AMT_INCOME_TOTAL        1.000000\n",
      "DAYS_BIRTH          25201.000000\n",
      "dtype: float64\n"
     ]
    }
   ],
   "execution_count": 184
  },
  {
   "metadata": {
    "ExecuteTime": {
     "end_time": "2024-12-24T21:46:33.124103Z",
     "start_time": "2024-12-24T21:46:33.117846Z"
    }
   },
   "cell_type": "code",
   "source": [
    "# Check if new features are correctly created (e.g., 'AGE' or 'EMPLOYMENT_YEARS')\n",
    "print(df[['AGE', 'EMPLOYMENT_YEARS']].head())\n"
   ],
   "id": "dfdbf258d28fc113",
   "outputs": [
    {
     "name": "stdout",
     "output_type": "stream",
     "text": [
      "         AGE  EMPLOYMENT_YEARS\n",
      "0  32.890411         12.443836\n",
      "1  32.890411         12.443836\n",
      "2  58.832877          3.106849\n",
      "3  52.356164          8.358904\n",
      "4  52.356164          8.358904\n"
     ]
    }
   ],
   "execution_count": 185
  },
  {
   "metadata": {
    "ExecuteTime": {
     "end_time": "2024-12-24T21:46:35.330230Z",
     "start_time": "2024-12-24T21:46:34.683287Z"
    }
   },
   "cell_type": "code",
   "source": [
    "import matplotlib.pyplot as plt\n",
    "import seaborn as sns\n",
    "\n",
    "# Histograms for numeric columns\n",
    "df[['AGE', 'AMT_INCOME_TOTAL', 'DAYS_BIRTH']].hist(figsize=(10, 6))\n",
    "plt.show()\n",
    "\n",
    "# Bar plots for categorical columns\n",
    "sns.countplot(x='CODE_GENDER', data=df)\n",
    "plt.show()\n"
   ],
   "id": "2c6524114bbff196",
   "outputs": [
    {
     "data": {
      "text/plain": [
       "<Figure size 1000x600 with 4 Axes>"
      ],
      "image/png": "[encoded data removed]"
     },
     "metadata": {},
     "output_type": "display_data"
    },
    {
     "data": {
      "text/plain": [
       "<Figure size 640x480 with 1 Axes>"
      ],
      "image/png": "[encoded data removed]"
     },
     "metadata": {},
     "output_type": "display_data"
    }
   ],
   "execution_count": 186
  },
  {
   "metadata": {
    "ExecuteTime": {
     "end_time": "2024-12-24T21:46:38.863921Z",
     "start_time": "2024-12-24T21:46:38.829274Z"
    }
   },
   "cell_type": "code",
   "source": [
    "# Filter rows where AMT_INCOME_TOTAL is 0 or negative\n",
    "invalid_income = df[df['AMT_INCOME_TOTAL'] <= 0]\n",
    "\n",
    "# Display the invalid rows to inspect them\n",
    "print(invalid_income)\n"
   ],
   "id": "6dedc9dd3c7afed0",
   "outputs": [
    {
     "name": "stdout",
     "output_type": "stream",
     "text": [
      "             ID CODE_GENDER FLAG_OWN_CAR FLAG_OWN_REALTY  CNT_CHILDREN  \\\n",
      "238132  6093712           F            N               N           0.0   \n",
      "238133  6093713           F            N               N           0.0   \n",
      "\n",
      "        AMT_INCOME_TOTAL NAME_INCOME_TYPE            NAME_EDUCATION_TYPE  \\\n",
      "238132               0.0        Pensioner  Secondary / secondary special   \n",
      "238133               0.0        Pensioner  Secondary / secondary special   \n",
      "\n",
      "       NAME_FAMILY_STATUS  NAME_HOUSING_TYPE  DAYS_BIRTH  DAYS_EMPLOYED  \\\n",
      "238132            Married  House / apartment     21003.0       365243.0   \n",
      "238133            Married  House / apartment     21003.0       365243.0   \n",
      "\n",
      "        FLAG_WORK_PHONE  FLAG_PHONE  FLAG_EMAIL OCCUPATION_TYPE  \\\n",
      "238132              0.0         0.0         0.0            None   \n",
      "238133              0.0         0.0         0.0            None   \n",
      "\n",
      "        CNT_FAM_MEMBERS        AGE  EMPLOYMENT_YEARS  \n",
      "238132              2.0  57.542466          5.268493  \n",
      "238133              2.0  57.542466          5.268493  \n"
     ]
    }
   ],
   "execution_count": 187
  },
  {
   "metadata": {
    "ExecuteTime": {
     "end_time": "2024-12-24T21:46:41.011102Z",
     "start_time": "2024-12-24T21:46:40.923940Z"
    }
   },
   "cell_type": "code",
   "source": [
    "# Drop rows where AMT_INCOME_TOTAL is 0\n",
    "df = df[df['AMT_INCOME_TOTAL'] != 0]\n",
    "\n",
    "# Check the number of rows remaining\n",
    "print(f\"Number of rows after dropping zero income: {df.shape[0]}\")\n"
   ],
   "id": "b4c968057b27201f",
   "outputs": [
    {
     "name": "stdout",
     "output_type": "stream",
     "text": [
      "Number of rows after dropping zero income: 438508\n"
     ]
    }
   ],
   "execution_count": 188
  },
  {
   "metadata": {
    "ExecuteTime": {
     "end_time": "2024-12-24T21:46:42.460284Z",
     "start_time": "2024-12-24T21:46:42.455481Z"
    }
   },
   "cell_type": "code",
   "source": [
    "# Filter rows where AMT_INCOME_TOTAL is 0 or negative\n",
    "invalid_income = df[df['AMT_INCOME_TOTAL'] <= 0]\n",
    "\n",
    "# Display the invalid rows to inspect them\n",
    "print(invalid_income)"
   ],
   "id": "e11608604a884cbf",
   "outputs": [
    {
     "name": "stdout",
     "output_type": "stream",
     "text": [
      "Empty DataFrame\n",
      "Columns: [ID, CODE_GENDER, FLAG_OWN_CAR, FLAG_OWN_REALTY, CNT_CHILDREN, AMT_INCOME_TOTAL, NAME_INCOME_TYPE, NAME_EDUCATION_TYPE, NAME_FAMILY_STATUS, NAME_HOUSING_TYPE, DAYS_BIRTH, DAYS_EMPLOYED, FLAG_WORK_PHONE, FLAG_PHONE, FLAG_EMAIL, OCCUPATION_TYPE, CNT_FAM_MEMBERS, AGE, EMPLOYMENT_YEARS]\n",
      "Index: []\n"
     ]
    }
   ],
   "execution_count": 189
  },
  {
   "metadata": {
    "ExecuteTime": {
     "end_time": "2024-12-24T21:46:44.330807Z",
     "start_time": "2024-12-24T21:46:44.323177Z"
    }
   },
   "cell_type": "code",
   "source": [
    "# Display the first few rows of the cleaned dataset\n",
    "print(df.head())\n"
   ],
   "id": "4c38a57393631c92",
   "outputs": [
    {
     "name": "stdout",
     "output_type": "stream",
     "text": [
      "        ID CODE_GENDER FLAG_OWN_CAR FLAG_OWN_REALTY  CNT_CHILDREN  \\\n",
      "0  5008804           M            Y               Y           0.0   \n",
      "1  5008805           M            Y               Y           0.0   \n",
      "2  5008806           M            Y               Y           0.0   \n",
      "3  5008808           F            N               Y           0.0   \n",
      "4  5008809           F            N               Y           0.0   \n",
      "\n",
      "   AMT_INCOME_TOTAL      NAME_INCOME_TYPE            NAME_EDUCATION_TYPE  \\\n",
      "0          0.059697               Working               Higher education   \n",
      "1          0.059697               Working               Higher education   \n",
      "2          0.012850               Working  Secondary / secondary special   \n",
      "3          0.036274  Commercial associate  Secondary / secondary special   \n",
      "4          0.036274  Commercial associate  Secondary / secondary special   \n",
      "\n",
      "     NAME_FAMILY_STATUS  NAME_HOUSING_TYPE  DAYS_BIRTH  DAYS_EMPLOYED  \\\n",
      "0        Civil marriage   Rented apartment     12005.0         4542.0   \n",
      "1        Civil marriage   Rented apartment     12005.0         4542.0   \n",
      "2               Married  House / apartment     21474.0         1134.0   \n",
      "3  Single / not married  House / apartment     19110.0         3051.0   \n",
      "4  Single / not married  House / apartment     19110.0         3051.0   \n",
      "\n",
      "   FLAG_WORK_PHONE  FLAG_PHONE  FLAG_EMAIL OCCUPATION_TYPE  CNT_FAM_MEMBERS  \\\n",
      "0              1.0         0.0         0.0            None              2.0   \n",
      "1              1.0         0.0         0.0            None              2.0   \n",
      "2              0.0         0.0         0.0  Security staff              2.0   \n",
      "3              0.0         1.0         1.0     Sales staff              1.0   \n",
      "4              0.0         1.0         1.0     Sales staff              1.0   \n",
      "\n",
      "         AGE  EMPLOYMENT_YEARS  \n",
      "0  32.890411         12.443836  \n",
      "1  32.890411         12.443836  \n",
      "2  58.832877          3.106849  \n",
      "3  52.356164          8.358904  \n",
      "4  52.356164          8.358904  \n"
     ]
    }
   ],
   "execution_count": 190
  },
  {
   "metadata": {
    "ExecuteTime": {
     "end_time": "2024-12-24T21:46:46.216834Z",
     "start_time": "2024-12-24T21:46:46.131775Z"
    }
   },
   "cell_type": "code",
   "source": [
    "# Check for missing values in the entire dataset\n",
    "missing_values = df.isnull().sum()\n",
    "print(f\"Missing values per column:\\n{missing_values}\")\n",
    "\n",
    "# If you want to check for missing values in a specific column\n",
    "print(df['AMT_INCOME_TOTAL'].isnull().sum())  # Example for one column\n"
   ],
   "id": "b77c61db1f3c4838",
   "outputs": [
    {
     "name": "stdout",
     "output_type": "stream",
     "text": [
      "Missing values per column:\n",
      "ID                          0\n",
      "CODE_GENDER                 0\n",
      "FLAG_OWN_CAR                0\n",
      "FLAG_OWN_REALTY             0\n",
      "CNT_CHILDREN                0\n",
      "AMT_INCOME_TOTAL            0\n",
      "NAME_INCOME_TYPE            0\n",
      "NAME_EDUCATION_TYPE         0\n",
      "NAME_FAMILY_STATUS          0\n",
      "NAME_HOUSING_TYPE           0\n",
      "DAYS_BIRTH                  0\n",
      "DAYS_EMPLOYED               0\n",
      "FLAG_WORK_PHONE             0\n",
      "FLAG_PHONE                  0\n",
      "FLAG_EMAIL                  0\n",
      "OCCUPATION_TYPE        134177\n",
      "CNT_FAM_MEMBERS             0\n",
      "AGE                         0\n",
      "EMPLOYMENT_YEARS            0\n",
      "dtype: int64\n",
      "0\n"
     ]
    }
   ],
   "execution_count": 191
  },
  {
   "metadata": {
    "ExecuteTime": {
     "end_time": "2024-12-24T21:46:48.453538Z",
     "start_time": "2024-12-24T21:46:48.036845Z"
    }
   },
   "cell_type": "code",
   "source": [
    "# Check for duplicates\n",
    "duplicates = df.duplicated().sum()\n",
    "print(f\"Number of duplicate rows: {duplicates}\")\n",
    "\n",
    "# Optionally, remove duplicates\n",
    "df = df.drop_duplicates()\n"
   ],
   "id": "45bd1f573e9a1641",
   "outputs": [
    {
     "name": "stdout",
     "output_type": "stream",
     "text": [
      "Number of duplicate rows: 0\n"
     ]
    }
   ],
   "execution_count": 192
  },
  {
   "metadata": {
    "ExecuteTime": {
     "end_time": "2024-12-24T21:46:50.037559Z",
     "start_time": "2024-12-24T21:46:50.031022Z"
    }
   },
   "cell_type": "code",
   "source": [
    "# Check for negative or unrealistic values in 'DAYS_BIRTH' (age)\n",
    "print(f\"Negative age values: {df[df['DAYS_BIRTH'] < 0].shape[0]}\")\n",
    "\n",
    "# Check for extreme or unrealistic values in 'DAYS_EMPLOYED'\n",
    "print(f\"Extreme 'DAYS_EMPLOYED' values: {df[df['DAYS_EMPLOYED'] > 365243].shape[0]}\")  # 1000+ years\n"
   ],
   "id": "9277d2c7f144efb1",
   "outputs": [
    {
     "name": "stdout",
     "output_type": "stream",
     "text": [
      "Negative age values: 0\n",
      "Extreme 'DAYS_EMPLOYED' values: 0\n"
     ]
    }
   ],
   "execution_count": 193
  },
  {
   "metadata": {
    "ExecuteTime": {
     "end_time": "2024-12-24T21:46:51.695459Z",
     "start_time": "2024-12-24T21:46:51.691522Z"
    }
   },
   "cell_type": "code",
   "source": [
    "# Check for zero income values\n",
    "zero_income = df[df['AMT_INCOME_TOTAL'] == 0]\n",
    "print(f\"Rows with zero income: {zero_income.shape[0]}\")\n"
   ],
   "id": "37d64299ea90f183",
   "outputs": [
    {
     "name": "stdout",
     "output_type": "stream",
     "text": [
      "Rows with zero income: 0\n"
     ]
    }
   ],
   "execution_count": 194
  },
  {
   "metadata": {
    "ExecuteTime": {
     "end_time": "2024-12-24T21:46:53.408871Z",
     "start_time": "2024-12-24T21:46:53.392425Z"
    }
   },
   "cell_type": "code",
   "source": [
    "# Check for outliers in 'AMT_INCOME_TOTAL' (for example, values beyond 99th percentile)\n",
    "income_percentile_99 = df['AMT_INCOME_TOTAL'].quantile(0.99)\n",
    "outliers_income = df[df['AMT_INCOME_TOTAL'] > income_percentile_99]\n",
    "print(f\"Rows with income above the 99th percentile: {outliers_income.shape[0]}\")\n"
   ],
   "id": "e1302bba8dfc7c97",
   "outputs": [
    {
     "name": "stdout",
     "output_type": "stream",
     "text": [
      "Rows with income above the 99th percentile: 3658\n"
     ]
    }
   ],
   "execution_count": 195
  },
  {
   "metadata": {
    "ExecuteTime": {
     "end_time": "2024-12-24T21:46:55.083484Z",
     "start_time": "2024-12-24T21:46:55.076040Z"
    }
   },
   "cell_type": "code",
   "source": [
    "# Check if AGE is within a reasonable range (e.g., between 18 and 100)\n",
    "print(df[(df['AGE'] < 18) | (df['AGE'] > 100)])\n",
    "\n",
    "# Check for valid employment years (should be > 0)\n",
    "print(df[df['EMPLOYMENT_YEARS'] <= 0])\n"
   ],
   "id": "180c0e1774518d42",
   "outputs": [
    {
     "name": "stdout",
     "output_type": "stream",
     "text": [
      "Empty DataFrame\n",
      "Columns: [ID, CODE_GENDER, FLAG_OWN_CAR, FLAG_OWN_REALTY, CNT_CHILDREN, AMT_INCOME_TOTAL, NAME_INCOME_TYPE, NAME_EDUCATION_TYPE, NAME_FAMILY_STATUS, NAME_HOUSING_TYPE, DAYS_BIRTH, DAYS_EMPLOYED, FLAG_WORK_PHONE, FLAG_PHONE, FLAG_EMAIL, OCCUPATION_TYPE, CNT_FAM_MEMBERS, AGE, EMPLOYMENT_YEARS]\n",
      "Index: []\n",
      "Empty DataFrame\n",
      "Columns: [ID, CODE_GENDER, FLAG_OWN_CAR, FLAG_OWN_REALTY, CNT_CHILDREN, AMT_INCOME_TOTAL, NAME_INCOME_TYPE, NAME_EDUCATION_TYPE, NAME_FAMILY_STATUS, NAME_HOUSING_TYPE, DAYS_BIRTH, DAYS_EMPLOYED, FLAG_WORK_PHONE, FLAG_PHONE, FLAG_EMAIL, OCCUPATION_TYPE, CNT_FAM_MEMBERS, AGE, EMPLOYMENT_YEARS]\n",
      "Index: []\n"
     ]
    }
   ],
   "execution_count": 196
  },
  {
   "metadata": {
    "ExecuteTime": {
     "end_time": "2024-12-24T21:47:00.400536Z",
     "start_time": "2024-12-24T21:46:58.037683Z"
    }
   },
   "cell_type": "code",
   "source": [
    "import pandas as pd\n",
    "\n",
    "# Assuming `df` is your DataFrame that you want to save and make available\n",
    "\n",
    "# Save the DataFrame to a CSV file\n",
    "df.to_csv('application_record_cleaned.csv', index=False)\n",
    "\n",
    "# If you are running in a web-based or GUI framework, implement download functionality accordingly.\n",
    "print(\"File has been saved as 'application_record_cleaned.csv'. You can provide this file for download if needed.\")"
   ],
   "id": "483c6afa947b68b0",
   "outputs": [
    {
     "name": "stdout",
     "output_type": "stream",
     "text": [
      "File has been saved as 'application_record_cleaned.csv'. You can provide this file for download if needed.\n"
     ]
    }
   ],
   "execution_count": 197
  },
  {
   "metadata": {
    "ExecuteTime": {
     "end_time": "2024-12-24T21:47:02.203026Z",
     "start_time": "2024-12-24T21:47:02.199960Z"
    }
   },
   "cell_type": "code",
   "source": "print(df.columns)",
   "id": "3d7da2febecb89e3",
   "outputs": [
    {
     "name": "stdout",
     "output_type": "stream",
     "text": [
      "Index(['ID', 'CODE_GENDER', 'FLAG_OWN_CAR', 'FLAG_OWN_REALTY', 'CNT_CHILDREN',\n",
      "       'AMT_INCOME_TOTAL', 'NAME_INCOME_TYPE', 'NAME_EDUCATION_TYPE',\n",
      "       'NAME_FAMILY_STATUS', 'NAME_HOUSING_TYPE', 'DAYS_BIRTH',\n",
      "       'DAYS_EMPLOYED', 'FLAG_WORK_PHONE', 'FLAG_PHONE', 'FLAG_EMAIL',\n",
      "       'OCCUPATION_TYPE', 'CNT_FAM_MEMBERS', 'AGE', 'EMPLOYMENT_YEARS'],\n",
      "      dtype='object')\n"
     ]
    }
   ],
   "execution_count": 198
  }
 ],
 "metadata": {
  "kernelspec": {
   "display_name": "Python 3",
   "language": "python",
   "name": "python3"
  },
  "language_info": {
   "codemirror_mode": {
    "name": "ipython",
    "version": 2
   },
   "file_extension": ".py",
   "mimetype": "text/x-python",
   "name": "python",
   "nbconvert_exporter": "python",
   "pygments_lexer": "ipython2",
   "version": "2.7.6"
  }
 },
 "nbformat": 4,
 "nbformat_minor": 5
}
